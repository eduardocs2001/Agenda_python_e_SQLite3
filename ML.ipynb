{
  "nbformat": 4,
  "nbformat_minor": 0,
  "metadata": {
    "colab": {
      "name": "ML.ipynb",
      "provenance": [],
      "collapsed_sections": [],
      "authorship_tag": "ABX9TyOFbKUwt6PGxBZg7Aod3Zrt",
      "include_colab_link": true
    },
    "kernelspec": {
      "name": "python3",
      "display_name": "Python 3"
    },
    "language_info": {
      "name": "python"
    }
  },
  "cells": [
    {
      "cell_type": "markdown",
      "metadata": {
        "id": "view-in-github",
        "colab_type": "text"
      },
      "source": [
        "<a href=\"https://colab.research.google.com/github/eduardocs2001/Agenda_python_e_SQLite3/blob/main/ML.ipynb\" target=\"_parent\"><img src=\"https://colab.research.google.com/assets/colab-badge.svg\" alt=\"Open In Colab\"/></a>"
      ]
    },
    {
      "cell_type": "code",
      "source": [
        "!pip install seaborn --upgrade"
      ],
      "metadata": {
        "colab": {
          "base_uri": "https://localhost:8080/"
        },
        "id": "L3BxjARMlyGI",
        "outputId": "d386483e-7f4e-41f3-c3e0-a04f12c03f01"
      },
      "execution_count": null,
      "outputs": [
        {
          "output_type": "stream",
          "name": "stdout",
          "text": [
            "Looking in indexes: https://pypi.org/simple, https://us-python.pkg.dev/colab-wheels/public/simple/\n",
            "Requirement already satisfied: seaborn in /usr/local/lib/python3.7/dist-packages (0.11.2)\n",
            "Requirement already satisfied: matplotlib>=2.2 in /usr/local/lib/python3.7/dist-packages (from seaborn) (3.2.2)\n",
            "Requirement already satisfied: numpy>=1.15 in /usr/local/lib/python3.7/dist-packages (from seaborn) (1.21.6)\n",
            "Requirement already satisfied: pandas>=0.23 in /usr/local/lib/python3.7/dist-packages (from seaborn) (1.3.5)\n",
            "Requirement already satisfied: scipy>=1.0 in /usr/local/lib/python3.7/dist-packages (from seaborn) (1.4.1)\n",
            "Requirement already satisfied: kiwisolver>=1.0.1 in /usr/local/lib/python3.7/dist-packages (from matplotlib>=2.2->seaborn) (1.4.2)\n",
            "Requirement already satisfied: python-dateutil>=2.1 in /usr/local/lib/python3.7/dist-packages (from matplotlib>=2.2->seaborn) (2.8.2)\n",
            "Requirement already satisfied: cycler>=0.10 in /usr/local/lib/python3.7/dist-packages (from matplotlib>=2.2->seaborn) (0.11.0)\n",
            "Requirement already satisfied: pyparsing!=2.0.4,!=2.1.2,!=2.1.6,>=2.0.1 in /usr/local/lib/python3.7/dist-packages (from matplotlib>=2.2->seaborn) (3.0.9)\n",
            "Requirement already satisfied: typing-extensions in /usr/local/lib/python3.7/dist-packages (from kiwisolver>=1.0.1->matplotlib>=2.2->seaborn) (4.2.0)\n",
            "Requirement already satisfied: pytz>=2017.3 in /usr/local/lib/python3.7/dist-packages (from pandas>=0.23->seaborn) (2022.1)\n",
            "Requirement already satisfied: six>=1.5 in /usr/local/lib/python3.7/dist-packages (from python-dateutil>=2.1->matplotlib>=2.2->seaborn) (1.15.0)\n"
          ]
        }
      ]
    },
    {
      "cell_type": "code",
      "source": [
        "from google.colab import drive\n",
        "drive.mount('/content/drive')"
      ],
      "metadata": {
        "colab": {
          "base_uri": "https://localhost:8080/"
        },
        "id": "NuGDBbUNGXho",
        "outputId": "2cc85133-7275-4aae-cf40-e524750c0ac5"
      },
      "execution_count": null,
      "outputs": [
        {
          "output_type": "stream",
          "name": "stdout",
          "text": [
            "Mounted at /content/drive\n"
          ]
        }
      ]
    },
    {
      "cell_type": "code",
      "execution_count": null,
      "metadata": {
        "id": "eSIouyt2FwLZ"
      },
      "outputs": [],
      "source": [
        "from sklearn.model_selection import train_test_split\n",
        "import pandas as pd\n",
        "import seaborn as sns\n",
        "from sklearn.preprocessing import StandardScaler"
      ]
    },
    {
      "cell_type": "code",
      "source": [
        "dados = pd.read_csv('/content/drive/MyDrive/dataframe.csv', index_col = 0)"
      ],
      "metadata": {
        "id": "8_jXqi_1JFPf"
      },
      "execution_count": null,
      "outputs": []
    },
    {
      "cell_type": "code",
      "source": [
        "dados.head()"
      ],
      "metadata": {
        "colab": {
          "base_uri": "https://localhost:8080/",
          "height": 206
        },
        "id": "VH_6Vgu7JMUC",
        "outputId": "7ba4a60e-7e21-4c82-9909-e5d82aad92cb"
      },
      "execution_count": null,
      "outputs": [
        {
          "output_type": "execute_result",
          "data": {
            "text/plain": [
              "            Date     Open     High      Low    Close  Adj Close     Volume\n",
              "3377  2010-12-20  67979.0  68196.0  67264.0  67264.0    67264.0  2352800.0\n",
              "159   1998-05-18  10906.0  10908.0  10010.0  10205.0    10205.0        0.0\n",
              "3495  2011-06-13  62701.0  62968.0  62022.0  62023.0    62023.0  1397200.0\n",
              "784   2000-10-09  15946.0  15975.0  15617.0  15855.0    15855.0        0.0\n",
              "2178  2006-02-27      NaN      NaN      NaN      NaN        NaN        NaN"
            ],
            "text/html": [
              "\n",
              "  <div id=\"df-2c656405-a2c6-4da2-8fcd-f664370cdc30\">\n",
              "    <div class=\"colab-df-container\">\n",
              "      <div>\n",
              "<style scoped>\n",
              "    .dataframe tbody tr th:only-of-type {\n",
              "        vertical-align: middle;\n",
              "    }\n",
              "\n",
              "    .dataframe tbody tr th {\n",
              "        vertical-align: top;\n",
              "    }\n",
              "\n",
              "    .dataframe thead th {\n",
              "        text-align: right;\n",
              "    }\n",
              "</style>\n",
              "<table border=\"1\" class=\"dataframe\">\n",
              "  <thead>\n",
              "    <tr style=\"text-align: right;\">\n",
              "      <th></th>\n",
              "      <th>Date</th>\n",
              "      <th>Open</th>\n",
              "      <th>High</th>\n",
              "      <th>Low</th>\n",
              "      <th>Close</th>\n",
              "      <th>Adj Close</th>\n",
              "      <th>Volume</th>\n",
              "    </tr>\n",
              "  </thead>\n",
              "  <tbody>\n",
              "    <tr>\n",
              "      <th>3377</th>\n",
              "      <td>2010-12-20</td>\n",
              "      <td>67979.0</td>\n",
              "      <td>68196.0</td>\n",
              "      <td>67264.0</td>\n",
              "      <td>67264.0</td>\n",
              "      <td>67264.0</td>\n",
              "      <td>2352800.0</td>\n",
              "    </tr>\n",
              "    <tr>\n",
              "      <th>159</th>\n",
              "      <td>1998-05-18</td>\n",
              "      <td>10906.0</td>\n",
              "      <td>10908.0</td>\n",
              "      <td>10010.0</td>\n",
              "      <td>10205.0</td>\n",
              "      <td>10205.0</td>\n",
              "      <td>0.0</td>\n",
              "    </tr>\n",
              "    <tr>\n",
              "      <th>3495</th>\n",
              "      <td>2011-06-13</td>\n",
              "      <td>62701.0</td>\n",
              "      <td>62968.0</td>\n",
              "      <td>62022.0</td>\n",
              "      <td>62023.0</td>\n",
              "      <td>62023.0</td>\n",
              "      <td>1397200.0</td>\n",
              "    </tr>\n",
              "    <tr>\n",
              "      <th>784</th>\n",
              "      <td>2000-10-09</td>\n",
              "      <td>15946.0</td>\n",
              "      <td>15975.0</td>\n",
              "      <td>15617.0</td>\n",
              "      <td>15855.0</td>\n",
              "      <td>15855.0</td>\n",
              "      <td>0.0</td>\n",
              "    </tr>\n",
              "    <tr>\n",
              "      <th>2178</th>\n",
              "      <td>2006-02-27</td>\n",
              "      <td>NaN</td>\n",
              "      <td>NaN</td>\n",
              "      <td>NaN</td>\n",
              "      <td>NaN</td>\n",
              "      <td>NaN</td>\n",
              "      <td>NaN</td>\n",
              "    </tr>\n",
              "  </tbody>\n",
              "</table>\n",
              "</div>\n",
              "      <button class=\"colab-df-convert\" onclick=\"convertToInteractive('df-2c656405-a2c6-4da2-8fcd-f664370cdc30')\"\n",
              "              title=\"Convert this dataframe to an interactive table.\"\n",
              "              style=\"display:none;\">\n",
              "        \n",
              "  <svg xmlns=\"http://www.w3.org/2000/svg\" height=\"24px\"viewBox=\"0 0 24 24\"\n",
              "       width=\"24px\">\n",
              "    <path d=\"M0 0h24v24H0V0z\" fill=\"none\"/>\n",
              "    <path d=\"M18.56 5.44l.94 2.06.94-2.06 2.06-.94-2.06-.94-.94-2.06-.94 2.06-2.06.94zm-11 1L8.5 8.5l.94-2.06 2.06-.94-2.06-.94L8.5 2.5l-.94 2.06-2.06.94zm10 10l.94 2.06.94-2.06 2.06-.94-2.06-.94-.94-2.06-.94 2.06-2.06.94z\"/><path d=\"M17.41 7.96l-1.37-1.37c-.4-.4-.92-.59-1.43-.59-.52 0-1.04.2-1.43.59L10.3 9.45l-7.72 7.72c-.78.78-.78 2.05 0 2.83L4 21.41c.39.39.9.59 1.41.59.51 0 1.02-.2 1.41-.59l7.78-7.78 2.81-2.81c.8-.78.8-2.07 0-2.86zM5.41 20L4 18.59l7.72-7.72 1.47 1.35L5.41 20z\"/>\n",
              "  </svg>\n",
              "      </button>\n",
              "      \n",
              "  <style>\n",
              "    .colab-df-container {\n",
              "      display:flex;\n",
              "      flex-wrap:wrap;\n",
              "      gap: 12px;\n",
              "    }\n",
              "\n",
              "    .colab-df-convert {\n",
              "      background-color: #E8F0FE;\n",
              "      border: none;\n",
              "      border-radius: 50%;\n",
              "      cursor: pointer;\n",
              "      display: none;\n",
              "      fill: #1967D2;\n",
              "      height: 32px;\n",
              "      padding: 0 0 0 0;\n",
              "      width: 32px;\n",
              "    }\n",
              "\n",
              "    .colab-df-convert:hover {\n",
              "      background-color: #E2EBFA;\n",
              "      box-shadow: 0px 1px 2px rgba(60, 64, 67, 0.3), 0px 1px 3px 1px rgba(60, 64, 67, 0.15);\n",
              "      fill: #174EA6;\n",
              "    }\n",
              "\n",
              "    [theme=dark] .colab-df-convert {\n",
              "      background-color: #3B4455;\n",
              "      fill: #D2E3FC;\n",
              "    }\n",
              "\n",
              "    [theme=dark] .colab-df-convert:hover {\n",
              "      background-color: #434B5C;\n",
              "      box-shadow: 0px 1px 3px 1px rgba(0, 0, 0, 0.15);\n",
              "      filter: drop-shadow(0px 1px 2px rgba(0, 0, 0, 0.3));\n",
              "      fill: #FFFFFF;\n",
              "    }\n",
              "  </style>\n",
              "\n",
              "      <script>\n",
              "        const buttonEl =\n",
              "          document.querySelector('#df-2c656405-a2c6-4da2-8fcd-f664370cdc30 button.colab-df-convert');\n",
              "        buttonEl.style.display =\n",
              "          google.colab.kernel.accessAllowed ? 'block' : 'none';\n",
              "\n",
              "        async function convertToInteractive(key) {\n",
              "          const element = document.querySelector('#df-2c656405-a2c6-4da2-8fcd-f664370cdc30');\n",
              "          const dataTable =\n",
              "            await google.colab.kernel.invokeFunction('convertToInteractive',\n",
              "                                                     [key], {});\n",
              "          if (!dataTable) return;\n",
              "\n",
              "          const docLinkHtml = 'Like what you see? Visit the ' +\n",
              "            '<a target=\"_blank\" href=https://colab.research.google.com/notebooks/data_table.ipynb>data table notebook</a>'\n",
              "            + ' to learn more about interactive tables.';\n",
              "          element.innerHTML = '';\n",
              "          dataTable['output_type'] = 'display_data';\n",
              "          await google.colab.output.renderOutput(dataTable, element);\n",
              "          const docLink = document.createElement('div');\n",
              "          docLink.innerHTML = docLinkHtml;\n",
              "          element.appendChild(docLink);\n",
              "        }\n",
              "      </script>\n",
              "    </div>\n",
              "  </div>\n",
              "  "
            ]
          },
          "metadata": {},
          "execution_count": 5
        }
      ]
    },
    {
      "cell_type": "markdown",
      "source": [
        "#ordena em ordem cronologica "
      ],
      "metadata": {
        "id": "cimzSkUPJoKX"
      }
    },
    {
      "cell_type": "code",
      "source": [
        "dados = dados.sort_values(by='Date')\n",
        "dados.dropna(subset=['Close'], inplace= True)\n",
        "dados.head()"
      ],
      "metadata": {
        "colab": {
          "base_uri": "https://localhost:8080/",
          "height": 206
        },
        "id": "-stlj5K9Jdhj",
        "outputId": "574ec813-f91e-4d85-9053-4711c7148e20"
      },
      "execution_count": null,
      "outputs": [
        {
          "output_type": "execute_result",
          "data": {
            "text/plain": [
              "         Date     Open     High      Low    Close  Adj Close  Volume\n",
              "0  1997-10-07  12737.0  12737.0  12458.0  12481.0    12481.0     0.0\n",
              "1  1997-10-08  12530.0  12530.0  12270.0  12433.0    12433.0     0.0\n",
              "2  1997-10-09  12325.0  12725.0  12325.0  12684.0    12684.0     0.0\n",
              "3  1997-10-10  12609.0  12778.0  12609.0  12737.0    12737.0     0.0\n",
              "4  1997-10-13  12817.0  12817.0  12615.0  12698.0    12698.0     0.0"
            ],
            "text/html": [
              "\n",
              "  <div id=\"df-17e20122-d94f-47fd-9246-046c06239b6c\">\n",
              "    <div class=\"colab-df-container\">\n",
              "      <div>\n",
              "<style scoped>\n",
              "    .dataframe tbody tr th:only-of-type {\n",
              "        vertical-align: middle;\n",
              "    }\n",
              "\n",
              "    .dataframe tbody tr th {\n",
              "        vertical-align: top;\n",
              "    }\n",
              "\n",
              "    .dataframe thead th {\n",
              "        text-align: right;\n",
              "    }\n",
              "</style>\n",
              "<table border=\"1\" class=\"dataframe\">\n",
              "  <thead>\n",
              "    <tr style=\"text-align: right;\">\n",
              "      <th></th>\n",
              "      <th>Date</th>\n",
              "      <th>Open</th>\n",
              "      <th>High</th>\n",
              "      <th>Low</th>\n",
              "      <th>Close</th>\n",
              "      <th>Adj Close</th>\n",
              "      <th>Volume</th>\n",
              "    </tr>\n",
              "  </thead>\n",
              "  <tbody>\n",
              "    <tr>\n",
              "      <th>0</th>\n",
              "      <td>1997-10-07</td>\n",
              "      <td>12737.0</td>\n",
              "      <td>12737.0</td>\n",
              "      <td>12458.0</td>\n",
              "      <td>12481.0</td>\n",
              "      <td>12481.0</td>\n",
              "      <td>0.0</td>\n",
              "    </tr>\n",
              "    <tr>\n",
              "      <th>1</th>\n",
              "      <td>1997-10-08</td>\n",
              "      <td>12530.0</td>\n",
              "      <td>12530.0</td>\n",
              "      <td>12270.0</td>\n",
              "      <td>12433.0</td>\n",
              "      <td>12433.0</td>\n",
              "      <td>0.0</td>\n",
              "    </tr>\n",
              "    <tr>\n",
              "      <th>2</th>\n",
              "      <td>1997-10-09</td>\n",
              "      <td>12325.0</td>\n",
              "      <td>12725.0</td>\n",
              "      <td>12325.0</td>\n",
              "      <td>12684.0</td>\n",
              "      <td>12684.0</td>\n",
              "      <td>0.0</td>\n",
              "    </tr>\n",
              "    <tr>\n",
              "      <th>3</th>\n",
              "      <td>1997-10-10</td>\n",
              "      <td>12609.0</td>\n",
              "      <td>12778.0</td>\n",
              "      <td>12609.0</td>\n",
              "      <td>12737.0</td>\n",
              "      <td>12737.0</td>\n",
              "      <td>0.0</td>\n",
              "    </tr>\n",
              "    <tr>\n",
              "      <th>4</th>\n",
              "      <td>1997-10-13</td>\n",
              "      <td>12817.0</td>\n",
              "      <td>12817.0</td>\n",
              "      <td>12615.0</td>\n",
              "      <td>12698.0</td>\n",
              "      <td>12698.0</td>\n",
              "      <td>0.0</td>\n",
              "    </tr>\n",
              "  </tbody>\n",
              "</table>\n",
              "</div>\n",
              "      <button class=\"colab-df-convert\" onclick=\"convertToInteractive('df-17e20122-d94f-47fd-9246-046c06239b6c')\"\n",
              "              title=\"Convert this dataframe to an interactive table.\"\n",
              "              style=\"display:none;\">\n",
              "        \n",
              "  <svg xmlns=\"http://www.w3.org/2000/svg\" height=\"24px\"viewBox=\"0 0 24 24\"\n",
              "       width=\"24px\">\n",
              "    <path d=\"M0 0h24v24H0V0z\" fill=\"none\"/>\n",
              "    <path d=\"M18.56 5.44l.94 2.06.94-2.06 2.06-.94-2.06-.94-.94-2.06-.94 2.06-2.06.94zm-11 1L8.5 8.5l.94-2.06 2.06-.94-2.06-.94L8.5 2.5l-.94 2.06-2.06.94zm10 10l.94 2.06.94-2.06 2.06-.94-2.06-.94-.94-2.06-.94 2.06-2.06.94z\"/><path d=\"M17.41 7.96l-1.37-1.37c-.4-.4-.92-.59-1.43-.59-.52 0-1.04.2-1.43.59L10.3 9.45l-7.72 7.72c-.78.78-.78 2.05 0 2.83L4 21.41c.39.39.9.59 1.41.59.51 0 1.02-.2 1.41-.59l7.78-7.78 2.81-2.81c.8-.78.8-2.07 0-2.86zM5.41 20L4 18.59l7.72-7.72 1.47 1.35L5.41 20z\"/>\n",
              "  </svg>\n",
              "      </button>\n",
              "      \n",
              "  <style>\n",
              "    .colab-df-container {\n",
              "      display:flex;\n",
              "      flex-wrap:wrap;\n",
              "      gap: 12px;\n",
              "    }\n",
              "\n",
              "    .colab-df-convert {\n",
              "      background-color: #E8F0FE;\n",
              "      border: none;\n",
              "      border-radius: 50%;\n",
              "      cursor: pointer;\n",
              "      display: none;\n",
              "      fill: #1967D2;\n",
              "      height: 32px;\n",
              "      padding: 0 0 0 0;\n",
              "      width: 32px;\n",
              "    }\n",
              "\n",
              "    .colab-df-convert:hover {\n",
              "      background-color: #E2EBFA;\n",
              "      box-shadow: 0px 1px 2px rgba(60, 64, 67, 0.3), 0px 1px 3px 1px rgba(60, 64, 67, 0.15);\n",
              "      fill: #174EA6;\n",
              "    }\n",
              "\n",
              "    [theme=dark] .colab-df-convert {\n",
              "      background-color: #3B4455;\n",
              "      fill: #D2E3FC;\n",
              "    }\n",
              "\n",
              "    [theme=dark] .colab-df-convert:hover {\n",
              "      background-color: #434B5C;\n",
              "      box-shadow: 0px 1px 3px 1px rgba(0, 0, 0, 0.15);\n",
              "      filter: drop-shadow(0px 1px 2px rgba(0, 0, 0, 0.3));\n",
              "      fill: #FFFFFF;\n",
              "    }\n",
              "  </style>\n",
              "\n",
              "      <script>\n",
              "        const buttonEl =\n",
              "          document.querySelector('#df-17e20122-d94f-47fd-9246-046c06239b6c button.colab-df-convert');\n",
              "        buttonEl.style.display =\n",
              "          google.colab.kernel.accessAllowed ? 'block' : 'none';\n",
              "\n",
              "        async function convertToInteractive(key) {\n",
              "          const element = document.querySelector('#df-17e20122-d94f-47fd-9246-046c06239b6c');\n",
              "          const dataTable =\n",
              "            await google.colab.kernel.invokeFunction('convertToInteractive',\n",
              "                                                     [key], {});\n",
              "          if (!dataTable) return;\n",
              "\n",
              "          const docLinkHtml = 'Like what you see? Visit the ' +\n",
              "            '<a target=\"_blank\" href=https://colab.research.google.com/notebooks/data_table.ipynb>data table notebook</a>'\n",
              "            + ' to learn more about interactive tables.';\n",
              "          element.innerHTML = '';\n",
              "          dataTable['output_type'] = 'display_data';\n",
              "          await google.colab.output.renderOutput(dataTable, element);\n",
              "          const docLink = document.createElement('div');\n",
              "          docLink.innerHTML = docLinkHtml;\n",
              "          element.appendChild(docLink);\n",
              "        }\n",
              "      </script>\n",
              "    </div>\n",
              "  </div>\n",
              "  "
            ]
          },
          "metadata": {},
          "execution_count": 6
        }
      ]
    },
    {
      "cell_type": "markdown",
      "source": [
        "#Correlação"
      ],
      "metadata": {
        "id": "z09SqRV0mhLG"
      }
    },
    {
      "cell_type": "code",
      "source": [
        "correlacao = dados.corr()\n",
        "correlacao"
      ],
      "metadata": {
        "id": "Gce9V0YFJ1Wd",
        "colab": {
          "base_uri": "https://localhost:8080/",
          "height": 238
        },
        "outputId": "f289cb96-acc8-4cbe-be26-9760a23c78c5"
      },
      "execution_count": null,
      "outputs": [
        {
          "output_type": "execute_result",
          "data": {
            "text/plain": [
              "               Open      High       Low     Close  Adj Close    Volume\n",
              "Open       1.000000  0.999816  0.999712  0.999534   0.999534  0.078123\n",
              "High       0.999816  1.000000  0.999724  0.999790   0.999790  0.078299\n",
              "Low        0.999712  0.999724  1.000000  0.999836   0.999836  0.077933\n",
              "Close      0.999534  0.999790  0.999836  1.000000   1.000000  0.078454\n",
              "Adj Close  0.999534  0.999790  0.999836  1.000000   1.000000  0.078454\n",
              "Volume     0.078123  0.078299  0.077933  0.078454   0.078454  1.000000"
            ],
            "text/html": [
              "\n",
              "  <div id=\"df-4ebd0791-04a5-4edd-9d0f-b2a527c2746b\">\n",
              "    <div class=\"colab-df-container\">\n",
              "      <div>\n",
              "<style scoped>\n",
              "    .dataframe tbody tr th:only-of-type {\n",
              "        vertical-align: middle;\n",
              "    }\n",
              "\n",
              "    .dataframe tbody tr th {\n",
              "        vertical-align: top;\n",
              "    }\n",
              "\n",
              "    .dataframe thead th {\n",
              "        text-align: right;\n",
              "    }\n",
              "</style>\n",
              "<table border=\"1\" class=\"dataframe\">\n",
              "  <thead>\n",
              "    <tr style=\"text-align: right;\">\n",
              "      <th></th>\n",
              "      <th>Open</th>\n",
              "      <th>High</th>\n",
              "      <th>Low</th>\n",
              "      <th>Close</th>\n",
              "      <th>Adj Close</th>\n",
              "      <th>Volume</th>\n",
              "    </tr>\n",
              "  </thead>\n",
              "  <tbody>\n",
              "    <tr>\n",
              "      <th>Open</th>\n",
              "      <td>1.000000</td>\n",
              "      <td>0.999816</td>\n",
              "      <td>0.999712</td>\n",
              "      <td>0.999534</td>\n",
              "      <td>0.999534</td>\n",
              "      <td>0.078123</td>\n",
              "    </tr>\n",
              "    <tr>\n",
              "      <th>High</th>\n",
              "      <td>0.999816</td>\n",
              "      <td>1.000000</td>\n",
              "      <td>0.999724</td>\n",
              "      <td>0.999790</td>\n",
              "      <td>0.999790</td>\n",
              "      <td>0.078299</td>\n",
              "    </tr>\n",
              "    <tr>\n",
              "      <th>Low</th>\n",
              "      <td>0.999712</td>\n",
              "      <td>0.999724</td>\n",
              "      <td>1.000000</td>\n",
              "      <td>0.999836</td>\n",
              "      <td>0.999836</td>\n",
              "      <td>0.077933</td>\n",
              "    </tr>\n",
              "    <tr>\n",
              "      <th>Close</th>\n",
              "      <td>0.999534</td>\n",
              "      <td>0.999790</td>\n",
              "      <td>0.999836</td>\n",
              "      <td>1.000000</td>\n",
              "      <td>1.000000</td>\n",
              "      <td>0.078454</td>\n",
              "    </tr>\n",
              "    <tr>\n",
              "      <th>Adj Close</th>\n",
              "      <td>0.999534</td>\n",
              "      <td>0.999790</td>\n",
              "      <td>0.999836</td>\n",
              "      <td>1.000000</td>\n",
              "      <td>1.000000</td>\n",
              "      <td>0.078454</td>\n",
              "    </tr>\n",
              "    <tr>\n",
              "      <th>Volume</th>\n",
              "      <td>0.078123</td>\n",
              "      <td>0.078299</td>\n",
              "      <td>0.077933</td>\n",
              "      <td>0.078454</td>\n",
              "      <td>0.078454</td>\n",
              "      <td>1.000000</td>\n",
              "    </tr>\n",
              "  </tbody>\n",
              "</table>\n",
              "</div>\n",
              "      <button class=\"colab-df-convert\" onclick=\"convertToInteractive('df-4ebd0791-04a5-4edd-9d0f-b2a527c2746b')\"\n",
              "              title=\"Convert this dataframe to an interactive table.\"\n",
              "              style=\"display:none;\">\n",
              "        \n",
              "  <svg xmlns=\"http://www.w3.org/2000/svg\" height=\"24px\"viewBox=\"0 0 24 24\"\n",
              "       width=\"24px\">\n",
              "    <path d=\"M0 0h24v24H0V0z\" fill=\"none\"/>\n",
              "    <path d=\"M18.56 5.44l.94 2.06.94-2.06 2.06-.94-2.06-.94-.94-2.06-.94 2.06-2.06.94zm-11 1L8.5 8.5l.94-2.06 2.06-.94-2.06-.94L8.5 2.5l-.94 2.06-2.06.94zm10 10l.94 2.06.94-2.06 2.06-.94-2.06-.94-.94-2.06-.94 2.06-2.06.94z\"/><path d=\"M17.41 7.96l-1.37-1.37c-.4-.4-.92-.59-1.43-.59-.52 0-1.04.2-1.43.59L10.3 9.45l-7.72 7.72c-.78.78-.78 2.05 0 2.83L4 21.41c.39.39.9.59 1.41.59.51 0 1.02-.2 1.41-.59l7.78-7.78 2.81-2.81c.8-.78.8-2.07 0-2.86zM5.41 20L4 18.59l7.72-7.72 1.47 1.35L5.41 20z\"/>\n",
              "  </svg>\n",
              "      </button>\n",
              "      \n",
              "  <style>\n",
              "    .colab-df-container {\n",
              "      display:flex;\n",
              "      flex-wrap:wrap;\n",
              "      gap: 12px;\n",
              "    }\n",
              "\n",
              "    .colab-df-convert {\n",
              "      background-color: #E8F0FE;\n",
              "      border: none;\n",
              "      border-radius: 50%;\n",
              "      cursor: pointer;\n",
              "      display: none;\n",
              "      fill: #1967D2;\n",
              "      height: 32px;\n",
              "      padding: 0 0 0 0;\n",
              "      width: 32px;\n",
              "    }\n",
              "\n",
              "    .colab-df-convert:hover {\n",
              "      background-color: #E2EBFA;\n",
              "      box-shadow: 0px 1px 2px rgba(60, 64, 67, 0.3), 0px 1px 3px 1px rgba(60, 64, 67, 0.15);\n",
              "      fill: #174EA6;\n",
              "    }\n",
              "\n",
              "    [theme=dark] .colab-df-convert {\n",
              "      background-color: #3B4455;\n",
              "      fill: #D2E3FC;\n",
              "    }\n",
              "\n",
              "    [theme=dark] .colab-df-convert:hover {\n",
              "      background-color: #434B5C;\n",
              "      box-shadow: 0px 1px 3px 1px rgba(0, 0, 0, 0.15);\n",
              "      filter: drop-shadow(0px 1px 2px rgba(0, 0, 0, 0.3));\n",
              "      fill: #FFFFFF;\n",
              "    }\n",
              "  </style>\n",
              "\n",
              "      <script>\n",
              "        const buttonEl =\n",
              "          document.querySelector('#df-4ebd0791-04a5-4edd-9d0f-b2a527c2746b button.colab-df-convert');\n",
              "        buttonEl.style.display =\n",
              "          google.colab.kernel.accessAllowed ? 'block' : 'none';\n",
              "\n",
              "        async function convertToInteractive(key) {\n",
              "          const element = document.querySelector('#df-4ebd0791-04a5-4edd-9d0f-b2a527c2746b');\n",
              "          const dataTable =\n",
              "            await google.colab.kernel.invokeFunction('convertToInteractive',\n",
              "                                                     [key], {});\n",
              "          if (!dataTable) return;\n",
              "\n",
              "          const docLinkHtml = 'Like what you see? Visit the ' +\n",
              "            '<a target=\"_blank\" href=https://colab.research.google.com/notebooks/data_table.ipynb>data table notebook</a>'\n",
              "            + ' to learn more about interactive tables.';\n",
              "          element.innerHTML = '';\n",
              "          dataTable['output_type'] = 'display_data';\n",
              "          await google.colab.output.renderOutput(dataTable, element);\n",
              "          const docLink = document.createElement('div');\n",
              "          docLink.innerHTML = docLinkHtml;\n",
              "          element.appendChild(docLink);\n",
              "        }\n",
              "      </script>\n",
              "    </div>\n",
              "  </div>\n",
              "  "
            ]
          },
          "metadata": {},
          "execution_count": 7
        }
      ]
    },
    {
      "cell_type": "code",
      "source": [
        "sns.heatmap(correlacao , annot = True, vmin= 0, vmax= 1, cmap='coolwarm_r',fmt='.4f');"
      ],
      "metadata": {
        "colab": {
          "base_uri": "https://localhost:8080/",
          "height": 269
        },
        "id": "hj1Vo--rLs8l",
        "outputId": "2579ae1f-ecc8-4ba9-ab48-865d5ac043fe"
      },
      "execution_count": null,
      "outputs": [
        {
          "output_type": "display_data",
          "data": {
            "text/plain": [
              "<Figure size 432x288 with 2 Axes>"
            ],
            "image/png": "[encoded data removed]"
          },
          "metadata": {
            "needs_background": "light"
          }
        }
      ]
    },
    {
      "cell_type": "markdown",
      "source": [
        "#Filtrando e tratando valores de fechamento"
      ],
      "metadata": {
        "id": "0Xne_ZclrvOr"
      }
    },
    {
      "cell_type": "code",
      "source": [
        "close = dados[['Date','Close']]"
      ],
      "metadata": {
        "id": "HcFriXETplsj"
      },
      "execution_count": null,
      "outputs": []
    },
    {
      "cell_type": "code",
      "source": [
        "close.dtypes"
      ],
      "metadata": {
        "colab": {
          "base_uri": "https://localhost:8080/"
        },
        "id": "TG9ITKeOrSlb",
        "outputId": "73515775-6be2-4148-ade4-57ca79ff5687"
      },
      "execution_count": null,
      "outputs": [
        {
          "output_type": "execute_result",
          "data": {
            "text/plain": [
              "Date      object\n",
              "Close    float64\n",
              "dtype: object"
            ]
          },
          "metadata": {},
          "execution_count": 10
        }
      ]
    },
    {
      "cell_type": "code",
      "source": [
        "close['Close'] = close['Close'].astype(int)\n",
        "close['Date'] = close['Date'].astype('datetime64[ms]')"
      ],
      "metadata": {
        "colab": {
          "base_uri": "https://localhost:8080/"
        },
        "id": "o3NBGidNrfOd",
        "outputId": "45010aee-b476-4688-ff40-ce28462250c0"
      },
      "execution_count": null,
      "outputs": [
        {
          "output_type": "stream",
          "name": "stderr",
          "text": [
            "/usr/local/lib/python3.7/dist-packages/ipykernel_launcher.py:1: SettingWithCopyWarning: \n",
            "A value is trying to be set on a copy of a slice from a DataFrame.\n",
            "Try using .loc[row_indexer,col_indexer] = value instead\n",
            "\n",
            "See the caveats in the documentation: https://pandas.pydata.org/pandas-docs/stable/user_guide/indexing.html#returning-a-view-versus-a-copy\n",
            "  \"\"\"Entry point for launching an IPython kernel.\n",
            "/usr/local/lib/python3.7/dist-packages/ipykernel_launcher.py:2: SettingWithCopyWarning: \n",
            "A value is trying to be set on a copy of a slice from a DataFrame.\n",
            "Try using .loc[row_indexer,col_indexer] = value instead\n",
            "\n",
            "See the caveats in the documentation: https://pandas.pydata.org/pandas-docs/stable/user_guide/indexing.html#returning-a-view-versus-a-copy\n",
            "  \n"
          ]
        }
      ]
    },
    {
      "cell_type": "code",
      "source": [
        "close.dtypes"
      ],
      "metadata": {
        "colab": {
          "base_uri": "https://localhost:8080/"
        },
        "id": "-veza8KXrlv1",
        "outputId": "2cb3c761-bec2-434c-b9ae-4fb6cbb03eff"
      },
      "execution_count": null,
      "outputs": [
        {
          "output_type": "execute_result",
          "data": {
            "text/plain": [
              "Date     datetime64[ns]\n",
              "Close             int64\n",
              "dtype: object"
            ]
          },
          "metadata": {},
          "execution_count": 12
        }
      ]
    },
    {
      "cell_type": "code",
      "source": [
        "close"
      ],
      "metadata": {
        "colab": {
          "base_uri": "https://localhost:8080/",
          "height": 424
        },
        "id": "SD5JEJyww3LY",
        "outputId": "4c8b2d06-1f74-4ac2-c606-b41febc4dfdc"
      },
      "execution_count": null,
      "outputs": [
        {
          "output_type": "execute_result",
          "data": {
            "text/plain": [
              "           Date   Close\n",
              "0    1997-10-07   12481\n",
              "1    1997-10-08   12433\n",
              "2    1997-10-09   12684\n",
              "3    1997-10-10   12737\n",
              "4    1997-10-13   12698\n",
              "...         ...     ...\n",
              "6151 2022-02-24  111592\n",
              "6152 2022-02-25  113142\n",
              "6153 2022-03-02  115174\n",
              "6154 2022-03-03  115166\n",
              "6155 2022-03-04  114474\n",
              "\n",
              "[6037 rows x 2 columns]"
            ],
            "text/html": [
              "\n",
              "  <div id=\"df-3e0b3aaa-cd2a-4823-812a-dc767b67e80c\">\n",
              "    <div class=\"colab-df-container\">\n",
              "      <div>\n",
              "<style scoped>\n",
              "    .dataframe tbody tr th:only-of-type {\n",
              "        vertical-align: middle;\n",
              "    }\n",
              "\n",
              "    .dataframe tbody tr th {\n",
              "        vertical-align: top;\n",
              "    }\n",
              "\n",
              "    .dataframe thead th {\n",
              "        text-align: right;\n",
              "    }\n",
              "</style>\n",
              "<table border=\"1\" class=\"dataframe\">\n",
              "  <thead>\n",
              "    <tr style=\"text-align: right;\">\n",
              "      <th></th>\n",
              "      <th>Date</th>\n",
              "      <th>Close</th>\n",
              "    </tr>\n",
              "  </thead>\n",
              "  <tbody>\n",
              "    <tr>\n",
              "      <th>0</th>\n",
              "      <td>1997-10-07</td>\n",
              "      <td>12481</td>\n",
              "    </tr>\n",
              "    <tr>\n",
              "      <th>1</th>\n",
              "      <td>1997-10-08</td>\n",
              "      <td>12433</td>\n",
              "    </tr>\n",
              "    <tr>\n",
              "      <th>2</th>\n",
              "      <td>1997-10-09</td>\n",
              "      <td>12684</td>\n",
              "    </tr>\n",
              "    <tr>\n",
              "      <th>3</th>\n",
              "      <td>1997-10-10</td>\n",
              "      <td>12737</td>\n",
              "    </tr>\n",
              "    <tr>\n",
              "      <th>4</th>\n",
              "      <td>1997-10-13</td>\n",
              "      <td>12698</td>\n",
              "    </tr>\n",
              "    <tr>\n",
              "      <th>...</th>\n",
              "      <td>...</td>\n",
              "      <td>...</td>\n",
              "    </tr>\n",
              "    <tr>\n",
              "      <th>6151</th>\n",
              "      <td>2022-02-24</td>\n",
              "      <td>111592</td>\n",
              "    </tr>\n",
              "    <tr>\n",
              "      <th>6152</th>\n",
              "      <td>2022-02-25</td>\n",
              "      <td>113142</td>\n",
              "    </tr>\n",
              "    <tr>\n",
              "      <th>6153</th>\n",
              "      <td>2022-03-02</td>\n",
              "      <td>115174</td>\n",
              "    </tr>\n",
              "    <tr>\n",
              "      <th>6154</th>\n",
              "      <td>2022-03-03</td>\n",
              "      <td>115166</td>\n",
              "    </tr>\n",
              "    <tr>\n",
              "      <th>6155</th>\n",
              "      <td>2022-03-04</td>\n",
              "      <td>114474</td>\n",
              "    </tr>\n",
              "  </tbody>\n",
              "</table>\n",
              "<p>6037 rows × 2 columns</p>\n",
              "</div>\n",
              "      <button class=\"colab-df-convert\" onclick=\"convertToInteractive('df-3e0b3aaa-cd2a-4823-812a-dc767b67e80c')\"\n",
              "              title=\"Convert this dataframe to an interactive table.\"\n",
              "              style=\"display:none;\">\n",
              "        \n",
              "  <svg xmlns=\"http://www.w3.org/2000/svg\" height=\"24px\"viewBox=\"0 0 24 24\"\n",
              "       width=\"24px\">\n",
              "    <path d=\"M0 0h24v24H0V0z\" fill=\"none\"/>\n",
              "    <path d=\"M18.56 5.44l.94 2.06.94-2.06 2.06-.94-2.06-.94-.94-2.06-.94 2.06-2.06.94zm-11 1L8.5 8.5l.94-2.06 2.06-.94-2.06-.94L8.5 2.5l-.94 2.06-2.06.94zm10 10l.94 2.06.94-2.06 2.06-.94-2.06-.94-.94-2.06-.94 2.06-2.06.94z\"/><path d=\"M17.41 7.96l-1.37-1.37c-.4-.4-.92-.59-1.43-.59-.52 0-1.04.2-1.43.59L10.3 9.45l-7.72 7.72c-.78.78-.78 2.05 0 2.83L4 21.41c.39.39.9.59 1.41.59.51 0 1.02-.2 1.41-.59l7.78-7.78 2.81-2.81c.8-.78.8-2.07 0-2.86zM5.41 20L4 18.59l7.72-7.72 1.47 1.35L5.41 20z\"/>\n",
              "  </svg>\n",
              "      </button>\n",
              "      \n",
              "  <style>\n",
              "    .colab-df-container {\n",
              "      display:flex;\n",
              "      flex-wrap:wrap;\n",
              "      gap: 12px;\n",
              "    }\n",
              "\n",
              "    .colab-df-convert {\n",
              "      background-color: #E8F0FE;\n",
              "      border: none;\n",
              "      border-radius: 50%;\n",
              "      cursor: pointer;\n",
              "      display: none;\n",
              "      fill: #1967D2;\n",
              "      height: 32px;\n",
              "      padding: 0 0 0 0;\n",
              "      width: 32px;\n",
              "    }\n",
              "\n",
              "    .colab-df-convert:hover {\n",
              "      background-color: #E2EBFA;\n",
              "      box-shadow: 0px 1px 2px rgba(60, 64, 67, 0.3), 0px 1px 3px 1px rgba(60, 64, 67, 0.15);\n",
              "      fill: #174EA6;\n",
              "    }\n",
              "\n",
              "    [theme=dark] .colab-df-convert {\n",
              "      background-color: #3B4455;\n",
              "      fill: #D2E3FC;\n",
              "    }\n",
              "\n",
              "    [theme=dark] .colab-df-convert:hover {\n",
              "      background-color: #434B5C;\n",
              "      box-shadow: 0px 1px 3px 1px rgba(0, 0, 0, 0.15);\n",
              "      filter: drop-shadow(0px 1px 2px rgba(0, 0, 0, 0.3));\n",
              "      fill: #FFFFFF;\n",
              "    }\n",
              "  </style>\n",
              "\n",
              "      <script>\n",
              "        const buttonEl =\n",
              "          document.querySelector('#df-3e0b3aaa-cd2a-4823-812a-dc767b67e80c button.colab-df-convert');\n",
              "        buttonEl.style.display =\n",
              "          google.colab.kernel.accessAllowed ? 'block' : 'none';\n",
              "\n",
              "        async function convertToInteractive(key) {\n",
              "          const element = document.querySelector('#df-3e0b3aaa-cd2a-4823-812a-dc767b67e80c');\n",
              "          const dataTable =\n",
              "            await google.colab.kernel.invokeFunction('convertToInteractive',\n",
              "                                                     [key], {});\n",
              "          if (!dataTable) return;\n",
              "\n",
              "          const docLinkHtml = 'Like what you see? Visit the ' +\n",
              "            '<a target=\"_blank\" href=https://colab.research.google.com/notebooks/data_table.ipynb>data table notebook</a>'\n",
              "            + ' to learn more about interactive tables.';\n",
              "          element.innerHTML = '';\n",
              "          dataTable['output_type'] = 'display_data';\n",
              "          await google.colab.output.renderOutput(dataTable, element);\n",
              "          const docLink = document.createElement('div');\n",
              "          docLink.innerHTML = docLinkHtml;\n",
              "          element.appendChild(docLink);\n",
              "        }\n",
              "      </script>\n",
              "    </div>\n",
              "  </div>\n",
              "  "
            ]
          },
          "metadata": {},
          "execution_count": 13
        }
      ]
    },
    {
      "cell_type": "markdown",
      "source": [
        "#Rede Neural"
      ],
      "metadata": {
        "id": "BExTruhHvIla"
      }
    },
    {
      "cell_type": "code",
      "source": [
        "import matplotlib as mpl\n",
        "mpl.rcParams['figure.figsize'] = (10, 6)\n",
        "mpl.rcParams['font.size'] = 22"
      ],
      "metadata": {
        "id": "jovgfJi32qkB"
      },
      "execution_count": null,
      "outputs": []
    },
    {
      "cell_type": "code",
      "source": [
        "sns.lineplot(x='Date', y='Close', data=close, label='Dados');\n"
      ],
      "metadata": {
        "id": "t5I2U_x6vMJ3",
        "colab": {
          "base_uri": "https://localhost:8080/",
          "height": 408
        },
        "outputId": "98af91e7-df6b-4180-b70e-79ddea9ea78f"
      },
      "execution_count": null,
      "outputs": [
        {
          "output_type": "display_data",
          "data": {
            "text/plain": [
              "<Figure size 720x432 with 1 Axes>"
            ],
            "image/png": "[encoded data removed]"
          },
          "metadata": {
            "needs_background": "light"
          }
        }
      ]
    },
    {
      "cell_type": "code",
      "source": [
        "from datetime import date\n",
        "import time"
      ],
      "metadata": {
        "id": "tvfLWU4f5juo"
      },
      "execution_count": null,
      "outputs": []
    },
    {
      "cell_type": "code",
      "source": [
        "datas = list(close['Date'])\n",
        "dados = []\n",
        "for x in datas:\n",
        "  dado = time.mktime(x.timetuple())   \n",
        "  dados.append(int(dado))\n",
        "close['Date'] = dados"
      ],
      "metadata": {
        "id": "fxfs6s-r3yx-",
        "colab": {
          "base_uri": "https://localhost:8080/"
        },
        "outputId": "12e55c37-3641-4991-b2e1-4783741d4561"
      },
      "execution_count": null,
      "outputs": [
        {
          "output_type": "stream",
          "name": "stderr",
          "text": [
            "/usr/local/lib/python3.7/dist-packages/ipykernel_launcher.py:6: SettingWithCopyWarning: \n",
            "A value is trying to be set on a copy of a slice from a DataFrame.\n",
            "Try using .loc[row_indexer,col_indexer] = value instead\n",
            "\n",
            "See the caveats in the documentation: https://pandas.pydata.org/pandas-docs/stable/user_guide/indexing.html#returning-a-view-versus-a-copy\n",
            "  \n"
          ]
        }
      ]
    },
    {
      "cell_type": "code",
      "source": [
        "datas = list(close['Date'])\n",
        "print(datas)"
      ],
      "metadata": {
        "colab": {
          "base_uri": "https://localhost:8080/"
        },
        "id": "34q3AGDEcMsf",
        "outputId": "b6b2af5f-f7b0-4c31-cc9a-80db4463bacc"
      },
      "execution_count": null,
      "outputs": [
        {
          "output_type": "stream",
          "name": "stdout",
          "text": [
            "[876182400, 876268800, 876355200, 876441600, 876700800, 876787200, 876873600, 876960000, 877046400, 877305600, 877392000, 877478400, 877564800, 877651200, 877910400, 877996800, 878083200, 878169600, 878256000, 878515200, 878601600, 878688000, 878774400, 878860800, 879120000, 879206400, 879292800, 879379200, 879465600, 879724800, 879811200, 879897600, 879984000, 880070400, 880329600, 880416000, 880502400, 880588800, 880675200, 880934400, 881020800, 881107200, 881193600, 881280000, 881539200, 881625600, 881712000, 881798400, 881884800, 882144000, 882230400, 882316800, 882403200, 882489600, 882748800, 882835200, 883094400, 883353600, 883440000, 883699200, 883958400, 884044800, 884131200, 884217600, 884304000, 884563200, 884649600, 884736000, 884822400, 884908800, 885168000, 885254400, 885340800, 885427200, 885513600, 885772800, 885859200, 885945600, 886032000, 886118400, 886377600, 886464000, 886550400, 886636800, 886723200, 886982400, 887068800, 887155200, 887241600, 887328000, 887587200, 887673600, 887760000, 887846400, 887932800, 888192000, 888364800, 888451200, 888537600, 888796800, 888883200, 888969600, 889056000, 889142400, 889401600, 889488000, 889574400, 889660800, 889747200, 890006400, 890092800, 890179200, 890265600, 890352000, 890611200, 890697600, 890784000, 890870400, 890956800, 891216000, 891302400, 891388800, 891475200, 891561600, 891820800, 891907200, 891993600, 892425600, 892512000, 892598400, 892684800, 892771200, 893030400, 893203200, 893289600, 893376000, 893635200, 893721600, 893808000, 893894400, 894240000, 894326400, 894412800, 894499200, 894585600, 894844800, 894931200, 895017600, 895104000, 895190400, 895449600, 895536000, 895622400, 895708800, 895795200, 896054400, 896140800, 896227200, 896313600, 896400000, 896659200, 896745600, 896832000, 896918400, 897004800, 897264000, 897350400, 897436800, 897609600, 897868800, 897955200, 898041600, 898128000, 898214400, 898473600, 898560000, 898646400, 898732800, 898819200, 899078400, 899164800, 899251200, 899337600, 899424000, 899683200, 899769600, 899856000, 900028800, 900288000, 900374400, 900460800, 900547200, 900633600, 900892800, 900979200, 901065600, 901152000, 901238400, 901497600, 901584000, 901670400, 901756800, 901843200, 902102400, 902188800, 902275200, 902361600, 902448000, 902707200, 902793600, 902880000, 902966400, 903052800, 903312000, 903398400, 903484800, 903571200, 903657600, 903916800, 904003200, 904089600, 904176000, 904262400, 904521600, 904608000, 904694400, 904780800, 904867200, 905212800, 905299200, 905385600, 905472000, 905731200, 905817600, 905904000, 905990400, 906076800, 906336000, 906422400, 906508800, 906595200, 906681600, 906940800, 907027200, 907113600, 907200000, 907286400, 907545600, 907632000, 907718400, 907804800, 907891200, 908236800, 908323200, 908409600, 908496000, 908755200, 908841600, 908928000, 909014400, 909100800, 909360000, 909446400, 909532800, 909619200, 909705600, 910051200, 910137600, 910224000, 910310400, 910569600, 910656000, 910742400, 910828800, 910915200, 911174400, 911260800, 911347200, 911433600, 911520000, 911779200, 911865600, 911952000, 912038400, 912124800, 912384000, 912470400, 912556800, 912643200, 912729600, 912988800, 913075200, 913161600, 913248000, 913334400, 913593600, 913680000, 913766400, 913852800, 913939200, 914198400, 914284800, 914371200, 914803200, 914889600, 914976000, 915408000, 915494400, 915580800, 915667200, 915753600, 916012800, 916099200, 916185600, 916272000, 916358400, 916617600, 916704000, 916790400, 916876800, 916963200, 917308800, 917395200, 917481600, 917568000, 917827200, 917913600, 918000000, 918086400, 918172800, 918432000, 918518400, 918604800, 918691200, 918777600, 919209600, 919296000, 919382400, 919641600, 919728000, 919814400, 919900800, 919987200, 920246400, 920332800, 920419200, 920505600, 920592000, 920851200, 920937600, 921024000, 921110400, 921196800, 921456000, 921542400, 921628800, 921715200, 921801600, 922060800, 922147200, 922233600, 922320000, 922406400, 922665600, 922752000, 922838400, 923270400, 923356800, 923443200, 923529600, 923616000, 923875200, 923961600, 924048000, 924134400, 924220800, 924480000, 924566400, 924739200, 924825600, 925084800, 925171200, 925257600, 925344000, 925430400, 925689600, 925776000, 925862400, 925948800, 926035200, 926294400, 926380800, 926467200, 926553600, 926640000, 926899200, 926985600, 927072000, 927158400, 927244800, 927504000, 927590400, 927676800, 927763200, 927849600, 928108800, 928195200, 928281600, 928454400, 928713600, 928800000, 928886400, 928972800, 929059200, 929318400, 929404800, 929491200, 929577600, 929664000, 929923200, 930009600, 930096000, 930182400, 930268800, 930528000, 930614400, 930700800, 930787200, 930873600, 931132800, 931219200, 931305600, 931392000, 931737600, 931824000, 931910400, 931996800, 932083200, 932342400, 932428800, 932515200, 932601600, 932688000, 932947200, 933033600, 933120000, 933206400, 933292800, 933552000, 933638400, 933724800, 933811200, 933897600, 934156800, 934243200, 934329600, 934416000, 934502400, 934761600, 934848000, 934934400, 935020800, 935107200, 935366400, 935452800, 935539200, 935625600, 935712000, 935971200, 936057600, 936144000, 936230400, 936316800, 936576000, 936748800, 936835200, 936921600, 937180800, 937267200, 937353600, 937440000, 937526400, 937785600, 937872000, 937958400, 938044800, 938131200, 938390400, 938476800, 938563200, 938649600, 938736000, 938995200, 939081600, 939168000, 939254400, 939340800, 939600000, 939772800, 939859200, 939945600, 940204800, 940291200, 940377600, 940464000, 940550400, 940809600, 940896000, 940982400, 941068800, 941155200, 941414400, 941587200, 941673600, 941760000, 942019200, 942105600, 942192000, 942278400, 942364800, 942710400, 942796800, 942883200, 942969600, 943228800, 943315200, 943401600, 943488000, 943574400, 943833600, 943920000, 944006400, 944092800, 944179200, 944438400, 944524800, 944611200, 944697600, 944784000, 945043200, 945129600, 945216000, 945302400, 945388800, 945648000, 945734400, 945820800, 945907200, 946252800, 946339200, 946425600, 946512000, 946857600, 946944000, 947030400, 947116800, 947203200, 947462400, 947548800, 947635200, 947721600, 947808000, 948067200, 948153600, 948240000, 948326400, 948412800, 948672000, 948844800, 948931200, 949017600, 949276800, 949363200, 949449600, 949536000, 949622400, 949881600, 949968000, 950054400, 950140800, 950227200, 950486400, 950572800, 950659200, 950745600, 950832000, 951091200, 951177600, 951264000, 951350400, 951436800, 951696000, 951782400, 951868800, 951955200, 952041600, 952473600, 952560000, 952646400, 952905600, 952992000, 953078400, 953164800, 953251200, 953510400, 953596800, 953683200, 953769600, 953856000, 954115200, 954201600, 954288000, 954374400, 954460800, 954720000, 954806400, 954892800, 954979200, 955065600, 955324800, 955411200, 955497600, 955584000, 955670400, 955929600, 956016000, 956102400, 956188800, 956534400, 956620800, 956707200, 956793600, 956880000, 957225600, 957312000, 957398400, 957484800, 957744000, 957830400, 957916800, 958003200, 958089600, 958348800, 958435200, 958521600, 958608000, 958694400, 958953600, 959040000, 959126400, 959212800, 959299200, 959558400, 959644800, 959731200, 959817600, 959904000, 960163200, 960249600, 960336000, 960422400, 960508800, 960768000, 960854400, 960940800, 961027200, 961113600, 961372800, 961459200, 961545600, 961718400, 961977600, 962064000, 962150400, 962236800, 962323200, 962582400, 962668800, 962755200, 962841600, 962928000, 963187200, 963273600, 963360000, 963446400, 963532800, 963792000, 963878400, 963964800, 964051200, 964137600, 964396800, 964483200, 964569600, 964656000, 964742400, 965001600, 965088000, 965174400, 965260800, 965347200, 965606400, 965692800, 965779200, 965865600, 965952000, 966211200, 966297600, 966384000, 966470400, 966556800, 966816000, 966902400, 966988800, 967075200, 967161600, 967420800, 967507200, 967593600, 967680000, 967766400, 968025600, 968112000, 968198400, 968371200, 968630400, 968716800, 968803200, 968889600, 968976000, 969235200, 969321600, 969408000, 969494400, 969580800, 969840000, 969926400, 970012800, 970099200, 970185600, 970444800, 970531200, 970617600, 970704000, 970790400, 971049600, 971136000, 971222400, 971395200, 971654400, 971740800, 971827200, 971913600, 972000000, 972259200, 972345600, 972432000, 972518400, 972604800, 972864000, 972950400, 973036800, 973209600, 973468800, 973555200, 973641600, 973728000, 973814400, 974073600, 974160000, 974332800, 974419200, 974678400, 974764800, 974851200, 974937600, 975024000, 975283200, 975369600, 975456000, 975542400, 975628800, 975888000, 975974400, 976060800, 976147200, 976233600, 976492800, 976579200, 976665600, 976752000, 976838400, 977097600, 977184000, 977270400, 977356800, 977443200, 977788800, 977875200, 977961600, 978393600, 978480000, 978566400, 978652800, 978912000, 978998400, 979084800, 979171200, 979257600, 979516800, 979603200, 979689600, 979776000, 979862400, 980121600, 980208000, 980294400, 980467200, 980726400, 980812800, 980899200, 980985600, 981072000, 981331200, 981417600, 981504000, 981590400, 981676800, 981936000, 982022400, 982108800, 982195200, 982281600, 982540800, 982627200, 982713600, 982800000, 982886400, 983318400, 983404800, 983491200, 983750400, 983836800, 983923200, 984009600, 984096000, 984355200, 984441600, 984528000, 984614400, 984700800, 984960000, 985046400, 985132800, 985219200, 985305600, 985564800, 985651200, 985737600, 985824000, 985910400, 986169600, 986256000, 986342400, 986428800, 986515200, 986774400, 986860800, 986947200, 987033600, 987379200, 987465600, 987552000, 987638400, 987724800, 987984000, 988070400, 988156800, 988243200, 988329600, 988588800, 988761600, 988848000, 988934400, 989193600, 989280000, 989366400, 989452800, 989539200, 989798400, 989884800, 989971200, 990057600, 990144000, 990403200, 990489600, 990576000, 990662400, 990748800, 991008000, 991094400, 991180800, 991267200, 991353600, 991612800, 991699200, 991785600, 991872000, 991958400, 992217600, 992304000, 992390400, 992563200, 992822400, 992908800, 992995200, 993081600, 993168000, 993427200, 993513600, 993600000, 993686400, 993772800, 994032000, 994118400, 994204800, 994291200, 994377600, 994723200, 994809600, 994896000, 994982400, 995241600, 995328000, 995414400, 995500800, 995587200, 995846400, 995932800, 996019200, 996105600, 996192000, 996451200, 996537600, 996624000, 996710400, 996796800, 997056000, 997142400, 997228800, 997315200, 997401600, 997660800, 997747200, 997833600, 997920000, 998006400, 998265600, 998352000, 998438400, 998524800, 998611200, 998870400, 998956800, 999043200, 999129600, 999216000, 999475200, 999561600, 999648000, 999734400, 1000080000, 1000252800, 1000339200, 1000425600, 1000684800, 1000771200, 1000857600, 1000944000, 1001030400, 1001289600, 1001376000, 1001462400, 1001548800, 1001635200, 1001894400, 1001980800, 1002067200, 1002153600, 1002240000, 1002499200, 1002585600, 1002672000, 1002758400, 1003104000, 1003190400, 1003276800, 1003363200, 1003449600, 1003708800, 1003795200, 1003881600, 1003968000, 1004054400, 1004313600, 1004400000, 1004486400, 1004572800, 1004918400, 1005004800, 1005091200, 1005177600, 1005264000, 1005523200, 1005609600, 1005696000, 1005868800, 1006128000, 1006214400, 1006300800, 1006387200, 1006473600, 1006732800, 1006819200, 1006905600, 1006992000, 1007078400, 1007337600, 1007424000, 1007510400, 1007596800, 1007683200, 1007942400, 1008028800, 1008115200, 1008201600, 1008288000, 1008547200, 1008633600, 1008720000, 1008806400, 1008892800, 1009324800, 1009411200, 1009497600, 1009929600, 1010016000, 1010102400, 1010361600, 1010448000, 1010534400, 1010620800, 1010707200, 1010966400, 1011052800, 1011139200, 1011225600, 1011312000, 1011571200, 1011657600, 1011744000, 1011830400, 1012176000, 1012262400, 1012348800, 1012435200, 1012521600, 1012780800, 1012867200, 1012953600, 1013040000, 1013126400, 1013558400, 1013644800, 1013731200, 1013990400, 1014076800, 1014163200, 1014249600, 1014336000, 1014595200, 1014681600, 1014768000, 1014854400, 1014940800, 1015200000, 1015286400, 1015372800, 1015459200, 1015545600, 1015804800, 1015891200, 1015977600, 1016064000, 1016150400, 1016409600, 1016496000, 1016582400, 1016668800, 1016755200, 1017014400, 1017100800, 1017187200, 1017273600, 1017619200, 1017705600, 1017792000, 1017878400, 1017964800, 1018224000, 1018310400, 1018396800, 1018483200, 1018569600, 1018828800, 1018915200, 1019001600, 1019088000, 1019174400, 1019433600, 1019520000, 1019606400, 1019692800, 1019779200, 1020038400, 1020124800, 1020297600, 1020384000, 1020643200, 1020729600, 1020816000, 1020902400, 1020988800, 1021248000, 1021334400, 1021420800, 1021507200, 1021593600, 1021852800, 1021939200, 1022025600, 1022112000, 1022198400, 1022457600, 1022544000, 1022630400, 1022803200, 1023062400, 1023148800, 1023235200, 1023321600, 1023408000, 1023667200, 1023753600, 1023840000, 1023926400, 1024012800, 1024272000, 1024358400, 1024444800, 1024531200, 1024617600, 1024876800, 1024963200, 1025049600, 1025136000, 1025222400, 1025481600, 1025568000, 1025654400, 1025740800, 1025827200, 1026086400, 1026259200, 1026345600, 1026432000, 1026691200, 1026777600, 1026864000, 1026950400, 1027036800, 1027296000, 1027382400, 1027468800, 1027555200, 1027641600, 1027900800, 1027987200, 1028073600, 1028160000, 1028246400, 1028505600, 1028592000, 1028678400, 1028764800, 1028851200, 1029110400, 1029196800, 1029283200, 1029369600, 1029456000, 1029715200, 1029801600, 1029888000, 1029974400, 1030060800, 1030320000, 1030406400, 1030492800, 1030579200, 1030665600, 1030924800, 1031011200, 1031097600, 1031184000, 1031270400, 1031529600, 1031616000, 1031702400, 1031788800, 1031875200, 1032134400, 1032220800, 1032307200, 1032393600, 1032480000, 1032739200, 1032825600, 1032912000, 1032998400, 1033084800, 1033344000, 1033430400, 1033516800, 1033603200, 1033689600, 1033948800, 1034035200, 1034121600, 1034208000, 1034294400, 1034553600, 1034640000, 1034726400, 1034812800, 1034899200, 1035158400, 1035244800, 1035331200, 1035417600, 1035504000, 1035763200, 1035849600, 1035936000, 1036022400, 1036108800, 1036368000, 1036454400, 1036540800, 1036627200, 1036713600, 1036972800, 1037059200, 1037145600, 1037232000, 1037577600, 1037664000, 1037750400, 1037836800, 1037923200, 1038182400, 1038268800, 1038355200, 1038441600, 1038528000, 1038787200, 1038873600, 1038960000, 1039046400, 1039132800, 1039392000, 1039478400, 1039564800, 1039651200, 1039737600, 1039996800, 1040083200, 1040169600, 1040256000, 1040342400, 1040601600, 1040860800, 1040947200, 1041206400, 1041465600, 1041552000, 1041811200, 1041897600, 1041984000, 1042070400, 1042156800, 1042416000, 1042502400, 1042588800, 1042675200, 1042761600, 1043020800, 1043107200, 1043193600, 1043280000, 1043366400, 1043625600, 1043712000, 1043798400, 1043884800, 1043971200, 1044230400, 1044316800, 1044403200, 1044489600, 1044576000, 1044835200, 1044921600, 1045008000, 1045094400, 1045180800, 1045440000, 1045526400, 1045612800, 1045699200, 1045785600, 1046044800, 1046131200, 1046217600, 1046304000, 1046390400, 1046822400, 1046908800, 1046995200, 1047254400, 1047340800, 1047427200, 1047513600, 1047600000, 1047859200, 1047945600, 1048032000, 1048118400, 1048204800, 1048464000, 1048550400, 1048636800, 1048723200, 1048809600, 1049068800, 1049155200, 1049241600, 1049328000, 1049414400, 1049673600, 1049760000, 1049846400, 1049932800, 1050019200, 1050278400, 1050364800, 1050451200, 1050537600, 1050969600, 1051056000, 1051142400, 1051228800, 1051488000, 1051574400, 1051660800, 1051833600, 1052092800, 1052179200, 1052265600, 1052352000, 1052438400, 1052697600, 1052784000, 1052870400, 1052956800, 1053043200, 1053302400, 1053388800, 1053475200, 1053561600, 1053648000, 1053907200, 1053993600, 1054080000, 1054166400, 1054252800, 1054512000, 1054598400, 1054684800, 1054771200, 1054857600, 1055116800, 1055203200, 1055289600, 1055376000, 1055462400, 1055721600, 1055808000, 1055894400, 1056067200, 1056326400, 1056412800, 1056499200, 1056585600, 1056672000, 1056931200, 1057017600, 1057104000, 1057190400, 1057276800, 1057536000, 1057622400, 1057795200, 1057881600, 1058140800, 1058227200, 1058313600, 1058400000, 1058486400, 1058745600, 1058832000, 1058918400, 1059004800, 1059091200, 1059350400, 1059436800, 1059523200, 1059609600, 1059696000, 1059955200, 1060041600, 1060128000, 1060214400, 1060300800, 1060560000, 1060646400, 1060732800, 1060819200, 1060905600, 1061164800, 1061251200, 1061337600, 1061424000, 1061510400, 1061769600, 1061856000, 1061942400, 1062028800, 1062115200, 1062374400, 1062460800, 1062547200, 1062633600, 1062720000, 1062979200, 1063065600, 1063152000, 1063238400, 1063324800, 1063584000, 1063670400, 1063756800, 1063843200, 1063929600, 1064188800, 1064275200, 1064361600, 1064448000, 1064534400, 1064793600, 1064880000, 1064966400, 1065052800, 1065139200, 1065398400, 1065484800, 1065571200, 1065657600, 1065744000, 1066003200, 1066089600, 1066176000, 1066262400, 1066348800, 1066608000, 1066694400, 1066780800, 1066867200, 1066953600, 1067212800, 1067299200, 1067385600, 1067472000, 1067558400, 1067817600, 1067904000, 1067990400, 1068076800, 1068163200, 1068422400, 1068508800, 1068595200, 1068681600, 1068768000, 1069027200, 1069113600, 1069200000, 1069286400, 1069372800, 1069632000, 1069718400, 1069804800, 1069891200, 1069977600, 1070236800, 1070323200, 1070409600, 1070496000, 1070582400, 1070841600, 1070928000, 1071014400, 1071100800, 1071187200, 1071446400, 1071532800, 1071619200, 1071705600, 1071792000, 1072051200, 1072137600, 1072396800, 1072656000, 1072742400, 1073001600, 1073260800, 1073347200, 1073433600, 1073520000, 1073606400, 1073865600, 1073952000, 1074038400, 1074124800, 1074211200, 1074470400, 1074556800, 1074643200, 1074729600, 1074816000, 1075075200, 1075161600, 1075248000, 1075334400, 1075420800, 1075680000, 1075766400, 1075852800, 1075939200, 1076025600, 1076284800, 1076371200, 1076457600, 1076544000, 1076630400, 1076889600, 1076976000, 1077062400, 1077148800, 1077235200, 1077667200, 1077753600, 1077840000, 1078099200, 1078185600, 1078272000, 1078358400, 1078444800, 1078704000, 1078790400, 1078876800, 1078963200, 1079049600, 1079308800, 1079395200, 1079481600, 1079568000, 1079654400, 1079913600, 1080000000, 1080086400, 1080172800, 1080259200, 1080518400, 1080604800, 1080691200, 1080777600, 1080864000, 1081123200, 1081209600, 1081296000, 1081382400, 1081728000, 1081814400, 1081900800, 1081987200, 1082073600, 1082332800, 1082419200, 1082592000, 1082678400, 1082937600, 1083024000, 1083110400, 1083196800, 1083283200, 1083542400, 1083628800, 1083715200, 1083801600, 1083888000, 1084147200, 1084233600, 1084320000, 1084406400, 1084492800, 1084752000, 1084838400, 1084924800, 1085011200, 1085097600, 1085356800, 1085443200, 1085529600, 1085616000, 1085702400, 1085961600, 1086048000, 1086134400, 1086220800, 1086307200, 1086566400, 1086652800, 1086739200, 1086912000, 1087171200, 1087257600, 1087344000, 1087430400, 1087516800, 1087776000, 1087862400, 1087948800, 1088035200, 1088121600, 1088380800, 1088467200, 1088553600, 1088640000, 1088726400, 1088985600, 1089072000, 1089158400, 1089244800, 1089590400, 1089676800, 1089763200, 1089849600, 1089936000, 1090195200, 1090281600, 1090368000, 1090454400, 1090540800, 1090800000, 1090886400, 1090972800, 1091059200, 1091145600, 1091404800, 1091491200, 1091577600, 1091664000, 1091750400, 1092009600, 1092096000, 1092182400, 1092268800, 1092355200, 1092614400, 1092700800, 1092787200, 1092873600, 1092960000, 1093219200, 1093305600, 1093392000, 1093478400, 1093564800, 1093824000, 1093910400, 1093996800, 1094083200, 1094169600, 1094428800, 1094601600, 1094688000, 1094774400, 1095033600, 1095120000, 1095206400, 1095292800, 1095379200, 1095638400, 1095724800, 1095811200, 1095897600, 1095984000, 1096243200, 1096329600, 1096416000, 1096502400, 1096588800, 1096848000, 1096934400, 1097020800, 1097107200, 1097193600, 1097452800, 1097625600, 1097712000, 1097798400, 1098057600, 1098144000, 1098230400, 1098316800, 1098403200, 1098662400, 1098748800, 1098835200, 1098921600, 1099008000, 1099267200, 1099440000, 1099526400, 1099612800, 1099872000, 1099958400, 1100044800, 1100131200, 1100217600, 1100563200, 1100649600, 1100736000, 1100822400, 1101081600, 1101168000, 1101254400, 1101340800, 1101427200, 1101686400, 1101772800, 1101859200, 1101945600, 1102032000, 1102291200, 1102377600, 1102464000, 1102550400, 1102636800, 1102896000, 1102982400, 1103068800, 1103155200, 1103241600, 1103500800, 1103587200, 1103673600, 1103760000, 1104105600, 1104192000, 1104278400, 1104364800, 1104710400, 1104796800, 1104883200, 1104969600, 1105056000, 1105315200, 1105401600, 1105488000, 1105574400, 1105660800, 1105920000, 1106006400, 1106092800, 1106179200, 1106265600, 1106524800, 1106697600, 1106784000, 1106870400, 1107129600, 1107216000, 1107302400, 1107388800, 1107475200, 1107907200, 1107993600, 1108080000, 1108339200, 1108425600, 1108512000, 1108598400, 1108684800, 1108944000, 1109030400, 1109116800, 1109203200, 1109289600, 1109548800, 1109635200, 1109721600, 1109808000, 1109894400, 1110153600, 1110240000, 1110326400, 1110412800, 1110499200, 1110758400, 1110844800, 1110931200, 1111017600, 1111104000, 1111363200, 1111449600, 1111536000, 1111622400, 1111968000, 1112054400, 1112140800, 1112227200, 1112313600, 1112572800, 1112659200, 1112745600, 1112832000, 1112918400, 1113177600, 1113264000, 1113350400, 1113436800, 1113523200, 1113782400, 1113868800, 1113955200, 1114128000, 1114387200, 1114473600, 1114560000, 1114646400, 1114732800, 1114992000, 1115078400, 1115164800, 1115251200, 1115337600, 1115596800, 1115683200, 1115769600, 1115856000, 1115942400, 1116201600, 1116288000, 1116374400, 1116460800, 1116547200, 1116806400, 1116892800, 1116979200, 1117152000, 1117411200, 1117497600, 1117584000, 1117670400, 1117756800, 1118016000, 1118102400, 1118188800, 1118275200, 1118361600, 1118620800, 1118707200, 1118793600, 1118880000, 1118966400, 1119225600, 1119312000, 1119398400, 1119484800, 1119571200, 1119830400, 1119916800, 1120003200, 1120089600, 1120176000, 1120435200, 1120521600, 1120608000, 1120694400, 1120780800, 1121040000, 1121126400, 1121212800, 1121299200, 1121385600, 1121644800, 1121731200, 1121817600, 1121904000, 1121990400, 1122249600, 1122336000, 1122422400, 1122508800, 1122595200, 1122854400, 1122940800, 1123027200, 1123113600, 1123200000, 1123459200, 1123545600, 1123632000, 1123718400, 1123804800, 1124064000, 1124150400, 1124236800, 1124323200, 1124409600, 1124668800, 1124755200, 1124841600, 1124928000, 1125014400, 1125273600, 1125360000, 1125446400, 1125532800, 1125619200, 1125878400, 1125964800, 1126137600, 1126224000, 1126483200, 1126569600, 1126656000, 1126742400, 1126828800, 1127088000, 1127174400, 1127260800, 1127347200, 1127433600, 1127692800, 1127779200, 1127865600, 1127952000, 1128038400, 1128297600, 1128384000, 1128470400, 1128556800, 1128643200, 1128902400, 1128988800, 1129161600, 1129248000, 1129507200, 1129593600, 1129680000, 1129766400, 1129852800, 1130112000, 1130198400, 1130284800, 1130371200, 1130457600, 1130716800, 1130803200, 1130976000, 1131062400, 1131321600, 1131408000, 1131494400, 1131580800, 1131667200, 1131926400, 1132099200, 1132185600, 1132272000, 1132531200, 1132617600, 1132704000, 1132790400, 1132876800, 1133136000, 1133222400, 1133308800, 1133395200, 1133481600, 1133740800, 1133827200, 1133913600, 1134000000, 1134086400, 1134345600, 1134432000, 1134518400, 1134604800, 1134691200, 1134950400, 1135036800, 1135123200, 1135209600, 1135296000, 1135555200, 1135641600, 1135728000, 1135814400, 1136160000, 1136246400, 1136332800, 1136419200, 1136505600, 1136764800, 1136851200, 1136937600, 1137024000, 1137110400, 1137369600, 1137456000, 1137542400, 1137628800, 1137715200, 1137974400, 1138060800, 1138233600, 1138320000, 1138579200, 1138665600, 1138752000, 1138838400, 1138924800, 1139184000, 1139270400, 1139356800, 1139443200, 1139529600, 1139788800, 1139875200, 1139961600, 1140048000, 1140134400, 1140393600, 1140480000, 1140566400, 1140652800, 1140739200, 1141171200, 1141257600, 1141344000, 1141603200, 1141689600, 1141776000, 1141862400, 1141948800, 1142208000, 1142294400, 1142380800, 1142467200, 1142553600, 1142812800, 1142899200, 1142985600, 1143072000, 1143158400, 1143417600, 1143504000, 1143590400, 1143676800, 1143763200, 1144022400, 1144108800, 1144195200, 1144281600, 1144368000, 1144627200, 1144713600, 1144800000, 1144886400, 1145232000, 1145318400, 1145404800, 1145491200, 1145836800, 1145923200, 1146009600, 1146096000, 1146182400, 1146528000, 1146614400, 1146700800, 1146787200, 1147046400, 1147132800, 1147219200, 1147305600, 1147392000, 1147651200, 1147737600, 1147824000, 1147910400, 1147996800, 1148256000, 1148342400, 1148428800, 1148515200, 1148601600, 1148860800, 1148947200, 1149033600, 1149120000, 1149206400, 1149465600, 1149552000, 1149638400, 1149724800, 1149811200, 1150070400, 1150156800, 1150243200, 1150416000, 1150675200, 1150761600, 1150848000, 1150934400, 1151020800, 1151280000, 1151366400, 1151452800, 1151539200, 1151625600, 1151884800, 1151971200, 1152057600, 1152144000, 1152230400, 1152489600, 1152576000, 1152662400, 1152748800, 1152835200, 1153094400, 1153180800, 1153267200, 1153353600, 1153440000, 1153699200, 1153785600, 1153872000, 1153958400, 1154044800, 1154304000, 1154390400, 1154476800, 1154563200, 1154649600, 1154908800, 1154995200, 1155081600, 1155168000, 1155254400, 1155513600, 1155600000, 1155686400, 1155772800, 1155859200, 1156118400, 1156204800, 1156291200, 1156377600, 1156464000, 1156723200, 1156809600, 1156896000, 1156982400, 1157068800, 1157328000, 1157414400, 1157500800, 1157673600, 1157932800, 1158019200, 1158105600, 1158192000, 1158278400, 1158537600, 1158624000, 1158710400, 1158796800, 1158883200, 1159142400, 1159228800, 1159315200, 1159401600, 1159488000, 1159747200, 1159833600, 1159920000, 1160006400, 1160092800, 1160352000, 1160438400, 1160524800, 1160697600, 1160956800, 1161043200, 1161129600, 1161216000, 1161302400, 1161561600, 1161648000, 1161734400, 1161820800, 1161907200, 1162166400, 1162252800, 1162339200, 1162512000, 1162771200, 1162857600, 1162944000, 1163030400, 1163116800, 1163376000, 1163462400, 1163635200, 1163721600, 1164067200, 1164153600, 1164240000, 1164326400, 1164585600, 1164672000, 1164758400, 1164844800, 1164931200, 1165190400, 1165276800, 1165363200, 1165449600, 1165536000, 1165795200, 1165881600, 1165968000, 1166054400, 1166140800, 1166400000, 1166486400, 1166572800, 1166659200, 1166745600, 1167091200, 1167177600, 1167264000, 1167696000, 1167782400, 1167868800, 1167955200, 1168214400, 1168300800, 1168387200, 1168473600, 1168560000, 1168819200, 1168905600, 1168992000, 1169078400, 1169164800, 1169424000, 1169510400, 1169596800, 1169769600, 1170028800, 1170115200, 1170201600, 1170288000, 1170374400, 1170633600, 1170720000, 1170806400, 1170892800, 1170979200, 1171238400, 1171324800, 1171411200, 1171497600, 1171584000, 1172016000, 1172102400, 1172188800, 1172448000, 1172534400, 1172620800, 1172707200, 1172793600, 1173052800, 1173139200, 1173225600, 1173312000, 1173398400, 1173657600, 1173744000, 1173830400, 1173916800, 1174003200, 1174262400, 1174348800, 1174435200, 1174521600, 1174608000, 1174867200, 1174953600, 1175040000, 1175126400, 1175212800, 1175472000, 1175558400, 1175644800, 1175731200, 1176076800, 1176163200, 1176249600, 1176336000, 1176422400, 1176681600, 1176768000, 1176854400, 1176940800, 1177027200, 1177286400, 1177372800, 1177459200, 1177545600, 1177632000, 1177891200, 1178064000, 1178150400, 1178236800, 1178496000, 1178582400, 1178668800, 1178755200, 1178841600, 1179100800, 1179187200, 1179273600, 1179360000, 1179446400, 1179705600, 1179792000, 1179878400, 1179964800, 1180051200, 1180310400, 1180396800, 1180483200, 1180569600, 1180656000, 1180915200, 1181001600, 1181088000, 1181260800, 1181520000, 1181606400, 1181692800, 1181779200, 1181865600, 1182124800, 1182211200, 1182297600, 1182384000, 1182470400, 1182729600, 1182816000, 1182902400, 1182988800, 1183075200, 1183334400, 1183420800, 1183507200, 1183593600, 1183680000, 1184025600, 1184112000, 1184198400, 1184284800, 1184544000, 1184630400, 1184716800, 1184803200, 1184889600, 1185148800, 1185235200, 1185321600, 1185408000, 1185494400, 1185753600, 1185840000, 1185926400, 1186012800, 1186099200, 1186358400, 1186444800, 1186531200, 1186617600, 1186704000, 1186963200, 1187049600, 1187136000, 1187222400, 1187308800, 1187568000, 1187654400, 1187740800, 1187827200, 1187913600, 1188172800, 1188259200, 1188345600, 1188432000, 1188518400, 1188777600, 1188864000, 1188950400, 1189036800, 1189382400, 1189468800, 1189555200, 1189641600, 1189728000, 1189987200, 1190073600, 1190160000, 1190246400, 1190332800, 1190592000, 1190678400, 1190764800, 1190851200, 1190937600, 1191196800, 1191283200, 1191369600, 1191456000, 1191542400, 1191801600, 1191888000, 1191974400, 1192060800, 1192406400, 1192492800, 1192579200, 1192665600, 1192752000, 1193011200, 1193097600, 1193184000, 1193270400, 1193356800, 1193616000, 1193702400, 1193788800, 1193875200, 1194220800, 1194307200, 1194393600, 1194480000, 1194566400, 1194825600, 1194912000, 1194998400, 1195171200, 1195430400, 1195603200, 1195689600, 1195776000, 1196035200, 1196121600, 1196208000, 1196294400, 1196380800, 1196640000, 1196726400, 1196812800, 1196899200, 1196985600, 1197244800, 1197331200, 1197417600, 1197504000, 1197590400, 1197849600, 1197936000, 1198022400, 1198108800, 1198195200, 1198627200, 1198713600, 1198800000, 1199232000, 1199318400, 1199404800, 1199664000, 1199750400, 1199836800, 1199923200, 1200009600, 1200268800, 1200355200, 1200441600, 1200528000, 1200614400, 1200873600, 1200960000, 1201046400, 1201132800, 1201478400, 1201564800, 1201651200, 1201737600, 1201824000, 1202256000, 1202342400, 1202428800, 1202688000, 1202774400, 1202860800, 1202947200, 1203033600, 1203292800, 1203379200, 1203465600, 1203552000, 1203638400, 1203897600, 1203984000, 1204070400, 1204156800, 1204243200, 1204502400, 1204588800, 1204675200, 1204761600, 1204848000, 1205107200, 1205193600, 1205280000, 1205366400, 1205452800, 1205712000, 1205798400, 1205884800, 1205971200, 1206316800, 1206403200, 1206489600, 1206576000, 1206662400, 1206921600, 1207008000, 1207094400, 1207180800, 1207267200, 1207526400, 1207612800, 1207699200, 1207785600, 1207872000, 1208131200, 1208217600, 1208304000, 1208390400, 1208476800, 1208822400, 1208908800, 1208995200, 1209081600, 1209340800, 1209427200, 1209513600, 1209686400, 1209945600, 1210032000, 1210118400, 1210204800, 1210291200, 1210550400, 1210636800, 1210723200, 1210809600, 1210896000, 1211155200, 1211241600, 1211328000, 1211500800, 1211760000, 1211846400, 1211932800, 1212019200, 1212105600, 1212364800, 1212451200, 1212537600, 1212624000, 1212710400, 1212969600, 1213056000, 1213142400, 1213228800, 1213315200, 1213574400, 1213660800, 1213747200, 1213833600, 1213920000, 1214179200, 1214265600, 1214352000, 1214438400, 1214524800, 1214784000, 1214870400, 1214956800, 1215043200, 1215129600, 1215388800, 1215475200, 1215648000, 1215734400, 1215993600, 1216080000, 1216166400, 1216252800, 1216339200, 1216598400, 1216684800, 1216771200, 1216857600, 1216944000, 1217203200, 1217289600, 1217376000, 1217462400, 1217548800, 1217808000, 1217894400, 1217980800, 1218067200, 1218153600, 1218412800, 1218499200, 1218585600, 1218672000, 1218758400, 1219017600, 1219104000, 1219190400, 1219276800, 1219363200, 1219622400, 1219708800, 1219795200, 1219881600, 1219968000, 1220227200, 1220313600, 1220400000, 1220486400, 1220572800, 1220832000, 1220918400, 1221004800, 1221091200, 1221177600, 1221436800, 1221523200, 1221609600, 1221696000, 1221782400, 1222041600, 1222128000, 1222214400, 1222300800, 1222387200, 1222646400, 1222732800, 1222819200, 1222905600, 1222992000, 1223251200, 1223337600, 1223424000, 1223510400, 1223596800, 1223856000, 1223942400, 1224028800, 1224115200, 1224201600, 1224460800, 1224547200, 1224633600, 1224720000, 1224806400, 1225065600, 1225152000, 1225238400, 1225324800, 1225411200, 1225670400, 1225756800, 1225843200, 1225929600, 1226016000, 1226275200, 1226361600, 1226448000, 1226534400, 1226620800, 1226880000, 1226966400, 1227052800, 1227225600, 1227484800, 1227571200, 1227657600, 1227744000, 1227830400, 1228089600, 1228176000, 1228262400, 1228348800, 1228435200, 1228694400, 1228780800, 1228867200, 1228953600, 1229040000, 1229299200, 1229385600, 1229472000, 1229558400, 1229644800, 1229904000, 1229990400, 1230249600, 1230508800, 1230595200, 1230854400, 1231113600, 1231200000, 1231286400, 1231372800, 1231459200, 1231718400, 1231804800, 1231891200, 1231977600, 1232064000, 1232323200, 1232409600, 1232496000, 1232582400, 1232668800, 1232928000, 1233014400, 1233100800, 1233187200, 1233273600, 1233532800, 1233619200, 1233705600, 1233792000, 1233878400, 1234137600, 1234224000, 1234310400, 1234396800, 1234483200, 1234742400, 1234828800, 1234915200, 1235001600, 1235088000, 1235520000, 1235606400, 1235692800, 1235952000, 1236038400, 1236124800, 1236211200, 1236297600, 1236556800, 1236643200, 1236729600, 1236816000, 1236902400, 1237161600, 1237248000, 1237334400, 1237420800, 1237507200, 1237766400, 1237852800, 1237939200, 1238025600, 1238112000, 1238371200, 1238457600, 1238544000, 1238630400, 1238716800, 1238976000, 1239062400, 1239148800, 1239235200, 1239580800, 1239667200, 1239753600, 1239840000, 1239926400, 1240185600, 1240358400, 1240444800, 1240531200, 1240790400, 1240876800, 1240963200, 1241049600, 1241395200, 1241481600, 1241568000, 1241654400, 1241740800, 1242000000, 1242086400, 1242172800, 1242259200, 1242345600, 1242604800, 1242691200, 1242777600, 1242864000, 1242950400, 1243209600, 1243296000, 1243382400, 1243468800, 1243555200, 1243814400, 1243900800, 1243987200, 1244073600, 1244160000, 1244419200, 1244505600, 1244592000, 1244764800, 1245024000, 1245110400, 1245196800, 1245283200, 1245369600, 1245628800, 1245715200, 1245801600, 1245888000, 1245974400, 1246233600, 1246320000, 1246406400, 1246492800, 1246579200, 1246838400, 1246924800, 1247011200, 1247184000, 1247443200, 1247529600, 1247616000, 1247702400, 1247788800, 1248048000, 1248134400, 1248220800, 1248307200, 1248393600, 1248652800, 1248739200, 1248825600, 1248912000, 1248998400, 1249257600, 1249344000, 1249430400, 1249516800, 1249603200, 1249862400, 1249948800, 1250035200, 1250121600, 1250208000, 1250467200, 1250553600, 1250640000, 1250726400, 1250812800, 1251072000, 1251158400, 1251244800, 1251331200, 1251417600, 1251676800, 1251763200, 1251849600, 1251936000, 1252022400, 1252368000, 1252454400, 1252540800, 1252627200, 1252886400, 1252972800, 1253059200, 1253145600, 1253232000, 1253491200, 1253577600, 1253664000, 1253750400, 1253836800, 1254096000, 1254182400, 1254268800, 1254355200, 1254441600, 1254700800, 1254787200, 1254873600, 1254960000, 1255046400, 1255392000, 1255478400, 1255564800, 1255651200, 1255910400, 1255996800, 1256083200, 1256169600, 1256256000, 1256515200, 1256601600, 1256688000, 1256774400, 1256860800, 1257206400, 1257292800, 1257379200, 1257465600, 1257724800, 1257811200, 1257897600, 1257984000, 1258070400, 1258329600, 1258416000, 1258502400, 1258588800, 1258934400, 1259020800, 1259107200, 1259193600, 1259280000, 1259539200, 1259625600, 1259712000, 1259798400, 1259884800, 1260144000, 1260230400, 1260316800, 1260403200, 1260489600, 1260748800, 1260835200, 1260921600, 1261008000, 1261094400, 1261353600, 1261440000, 1261526400, 1261958400, 1262044800, 1262131200, 1262563200, 1262649600, 1262736000, 1262822400, 1262908800, 1263168000, 1263254400, 1263340800, 1263427200, 1263513600, 1263772800, 1263859200, 1263945600, 1264032000, 1264118400, 1264464000, 1264550400, 1264636800, 1264723200, 1264982400, 1265068800, 1265155200, 1265241600, 1265328000, 1265587200, 1265673600, 1265760000, 1265846400, 1265932800, 1266364800, 1266451200, 1266537600, 1266796800, 1266883200, 1266969600, 1267056000, 1267142400, 1267401600, 1267488000, 1267574400, 1267660800, 1267747200, 1268006400, 1268092800, 1268179200, 1268265600, 1268352000, 1268611200, 1268697600, 1268784000, 1268870400, 1268956800, 1269216000, 1269302400, 1269388800, 1269475200, 1269561600, 1269820800, 1269907200, 1269993600, 1270080000, 1270425600, 1270512000, 1270598400, 1270684800, 1270771200, 1271030400, 1271116800, 1271203200, 1271289600, 1271376000, 1271635200, 1271721600, 1271894400, 1271980800, 1272240000, 1272326400, 1272412800, 1272499200, 1272585600, 1272844800, 1272931200, 1273017600, 1273104000, 1273190400, 1273449600, 1273536000, 1273622400, 1273708800, 1273795200, 1274054400, 1274140800, 1274227200, 1274313600, 1274400000, 1274659200, 1274745600, 1274832000, 1274918400, 1275004800, 1275264000, 1275350400, 1275436800, 1275609600, 1275868800, 1275955200, 1276041600, 1276128000, 1276214400, 1276473600, 1276560000, 1276646400, 1276732800, 1276819200, 1277078400, 1277164800, 1277251200, 1277337600, 1277424000, 1277683200, 1277769600, 1277856000, 1277942400, 1278028800, 1278288000, 1278374400, 1278460800, 1278547200, 1278892800, 1278979200, 1279065600, 1279152000, 1279238400, 1279497600, 1279584000, 1279670400, 1279756800, 1279843200, 1280102400, 1280188800, 1280275200, 1280361600, 1280448000, 1280707200, 1280793600, 1280880000, 1280966400, 1281052800, 1281312000, 1281398400, 1281484800, 1281571200, 1281657600, 1281916800, 1282003200, 1282089600, 1282176000, 1282262400, 1282521600, 1282608000, 1282694400, 1282780800, 1282867200, 1283126400, 1283212800, 1283299200, 1283385600, 1283472000, 1283731200, 1283904000, 1283990400, 1284076800, 1284336000, 1284422400, 1284508800, 1284595200, 1284681600, 1284940800, 1285027200, 1285113600, 1285200000, 1285286400, 1285545600, 1285632000, 1285718400, 1285804800, 1285891200, 1286150400, 1286236800, 1286323200, 1286409600, 1286496000, 1286755200, 1286928000, 1287014400, 1287100800, 1287360000, 1287446400, 1287532800, 1287619200, 1287705600, 1287964800, 1288051200, 1288137600, 1288224000, 1288310400, 1288569600, 1288742400, 1288828800, 1288915200, 1289174400, 1289260800, 1289347200, 1289433600, 1289520000, 1289865600, 1289952000, 1290038400, 1290124800, 1290384000, 1290470400, 1290556800, 1290643200, 1290729600, 1290988800, 1291075200, 1291161600, 1291248000, 1291334400, 1291593600, 1291680000, 1291766400, 1291852800, 1291939200, 1292198400, 1292284800, 1292371200, 1292457600, 1292544000, 1292803200, 1292889600, 1292976000, 1293062400, 1293408000, 1293494400, 1293580800, 1293667200, 1294012800, 1294099200, 1294185600, 1294272000, 1294358400, 1294617600, 1294704000, 1294790400, 1294876800, 1294963200, 1295222400, 1295308800, 1295395200, 1295481600, 1295568000, 1295827200, 1296000000, 1296086400, 1296172800, 1296432000, 1296518400, 1296604800, 1296691200, 1296777600, 1297036800, 1297123200, 1297209600, 1297296000, 1297382400, 1297641600, 1297728000, 1297814400, 1297900800, 1297987200, 1298246400, 1298332800, 1298419200, 1298505600, 1298592000, 1298851200, 1298937600, 1299024000, 1299110400, 1299196800, 1299628800, 1299715200, 1299801600, 1300060800, 1300147200, 1300233600, 1300320000, 1300406400, 1300665600, 1300752000, 1300838400, 1300924800, 1301011200, 1301270400, 1301356800, 1301443200, 1301529600, 1301616000, 1301875200, 1301961600, 1302048000, 1302134400, 1302220800, 1302480000, 1302566400, 1302652800, 1302739200, 1302825600, 1303084800, 1303171200, 1303257600, 1303689600, 1303776000, 1303862400, 1303948800, 1304035200, 1304294400, 1304380800, 1304467200, 1304553600, 1304640000, 1304899200, 1304985600, 1305072000, 1305158400, 1305244800, 1305504000, 1305590400, 1305676800, 1305763200, 1305849600, 1306108800, 1306195200, 1306281600, 1306368000, 1306454400, 1306713600, 1306800000, 1306886400, 1306972800, 1307059200, 1307318400, 1307404800, 1307491200, 1307577600, 1307664000, 1307923200, 1308009600, 1308096000, 1308182400, 1308268800, 1308528000, 1308614400, 1308700800, 1308873600, 1309132800, 1309219200, 1309305600, 1309392000, 1309478400, 1309737600, 1309824000, 1309910400, 1309996800, 1310083200, 1310342400, 1310428800, 1310515200, 1310601600, 1310688000, 1310947200, 1311033600, 1311120000, 1311206400, 1311292800, 1311552000, 1311638400, 1311724800, 1311811200, 1311897600, 1312156800, 1312243200, 1312329600, 1312416000, 1312502400, 1312761600, 1312848000, 1312934400, 1313020800, 1313107200, 1313366400, 1313452800, 1313539200, 1313625600, 1313712000, 1313971200, 1314057600, 1314144000, 1314230400, 1314316800, 1314576000, 1314662400, 1314748800, 1314835200, 1314921600, 1315180800, 1315267200, 1315440000, 1315526400, 1315785600, 1315872000, 1315958400, 1316044800, 1316131200, 1316390400, 1316476800, 1316563200, 1316649600, 1316736000, 1316995200, 1317081600, 1317168000, 1317254400, 1317340800, 1317600000, 1317686400, 1317772800, 1317859200, 1317945600, 1318204800, 1318291200, 1318464000, 1318550400, 1318809600, 1318896000, 1318982400, 1319068800, 1319155200, 1319414400, 1319500800, 1319587200, 1319673600, 1319760000, 1320019200, 1320105600, 1320278400, 1320364800, 1320624000, 1320710400, 1320796800, 1320883200, 1320969600, 1321228800, 1321401600, 1321488000, 1321574400, 1321833600, 1321920000, 1322006400, 1322092800, 1322179200, 1322438400, 1322524800, 1322611200, 1322697600, 1322784000, 1323043200, 1323129600, 1323216000, 1323302400, 1323388800, 1323648000, 1323734400, 1323820800, 1323907200, 1323993600, 1324252800, 1324339200, 1324425600, 1324512000, 1324598400, 1324857600, 1324944000, 1325030400, 1325116800, 1325548800, 1325635200, 1325721600, 1325808000, 1326067200, 1326153600, 1326240000, 1326326400, 1326412800, 1326672000, 1326758400, 1326844800, 1326931200, 1327017600, 1327276800, 1327363200, 1327536000, 1327622400, 1327881600, 1327968000, 1328054400, 1328140800, 1328227200, 1328486400, 1328572800, 1328659200, 1328745600, 1328832000, 1329091200, 1329177600, 1329264000, 1329350400, 1329436800, 1329955200, 1330041600, 1330300800, 1330387200, 1330473600, 1330560000, 1330646400, 1330905600, 1330992000, 1331078400, 1331164800, 1331251200, 1331510400, 1331596800, 1331683200, 1331769600, 1331856000, 1332115200, 1332201600, 1332288000, 1332374400, 1332460800, 1332720000, 1332806400, 1332892800, 1332979200, 1333065600, 1333324800, 1333411200, 1333497600, 1333584000, 1333929600, 1334016000, 1334102400, 1334188800, 1334275200, 1334534400, 1334620800, 1334707200, 1334793600, 1334880000, 1335139200, 1335225600, 1335312000, 1335398400, 1335484800, 1335744000, 1335916800, 1336003200, 1336089600, 1336348800, 1336435200, 1336521600, 1336608000, 1336694400, 1336953600, 1337040000, 1337126400, 1337212800, 1337299200, 1337558400, 1337644800, 1337731200, 1337817600, 1337904000, 1338163200, 1338249600, 1338336000, 1338422400, 1338508800, 1338768000, 1338854400, 1338940800, 1339113600, 1339372800, 1339459200, 1339545600, 1339632000, 1339718400, 1339977600, 1340064000, 1340150400, 1340236800, 1340323200, 1340582400, 1340668800, 1340755200, 1340841600, 1340928000, 1341187200, 1341273600, 1341360000, 1341446400, 1341532800, 1341878400, 1341964800, 1342051200, 1342137600, 1342396800, 1342483200, 1342569600, 1342656000, 1342742400, 1343001600, 1343088000, 1343174400, 1343260800, 1343347200, 1343606400, 1343692800, 1343779200, 1343865600, 1343952000, 1344211200, 1344297600, 1344384000, 1344470400, 1344556800, 1344816000, 1344902400, 1344988800, 1345075200, 1345161600, 1345420800, 1345507200, 1345593600, 1345680000, 1345766400, 1346025600, 1346112000, 1346198400, 1346284800, 1346371200, 1346630400, 1346716800, 1346803200, 1346889600, 1347235200, 1347321600, 1347408000, 1347494400, 1347580800, 1347840000, 1347926400, 1348012800, 1348099200, 1348185600, 1348444800, 1348531200, 1348617600, 1348704000, 1348790400, 1349049600, 1349136000, 1349222400, 1349308800, 1349395200, 1349654400, 1349740800, 1349827200, 1349913600, 1350259200, 1350345600, 1350432000, 1350518400, 1350604800, 1350864000, 1350950400, 1351036800, 1351123200, 1351209600, 1351468800, 1351555200, 1351641600, 1351728000, 1352073600, 1352160000, 1352246400, 1352332800, 1352419200, 1352678400, 1352764800, 1352851200, 1353024000, 1353283200, 1353456000, 1353542400, 1353628800, 1353888000, 1353974400, 1354060800, 1354147200, 1354233600, 1354492800, 1354579200, 1354665600, 1354752000, 1354838400, 1355097600, 1355184000, 1355270400, 1355356800, 1355443200, 1355702400, 1355788800, 1355875200, 1355961600, 1356048000, 1356480000, 1356566400, 1356652800, 1357084800, 1357171200, 1357257600, 1357516800, 1357603200, 1357689600, 1357776000, 1357862400, 1358121600, 1358208000, 1358294400, 1358380800, 1358467200, 1358726400, 1358812800, 1358899200, 1358985600, 1359331200, 1359417600, 1359504000, 1359590400, 1359676800, 1359936000, 1360022400, 1360108800, 1360195200, 1360281600, 1360713600, 1360800000, 1360886400, 1361145600, 1361232000, 1361318400, 1361404800, 1361491200, 1361750400, 1361836800, 1361923200, 1362009600, 1362096000, 1362355200, 1362441600, 1362528000, 1362614400, 1362700800, 1362960000, 1363046400, 1363132800, 1363219200, 1363305600, 1363564800, 1363651200, 1363737600, 1363824000, 1363910400, 1364169600, 1364256000, 1364342400, 1364428800, 1364774400, 1364860800, 1364947200, 1365033600, 1365120000, 1365379200, 1365465600, 1365552000, 1365638400, 1365724800, 1365984000, 1366070400, 1366156800, 1366243200, 1366329600, 1366588800, 1366675200, 1366761600, 1366848000, 1366934400, 1367193600, 1367280000, 1367452800, 1367539200, 1367798400, 1367884800, 1367971200, 1368057600, 1368144000, 1368403200, 1368489600, 1368576000, 1368662400, 1368748800, 1369008000, 1369094400, 1369180800, 1369267200, 1369353600, 1369612800, 1369699200, 1369785600, 1369958400, 1370217600, 1370304000, 1370390400, 1370476800, 1370563200, 1370822400, 1370908800, 1370995200, 1371081600, 1371168000, 1371427200, 1371513600, 1371600000, 1371686400, 1371772800, 1372032000, 1372118400, 1372204800, 1372291200, 1372377600, 1372636800, 1372723200, 1372809600, 1372896000, 1372982400, 1373241600, 1373414400, 1373500800, 1373587200, 1373846400, 1373932800, 1374019200, 1374105600, 1374192000, 1374451200, 1374537600, 1374624000, 1374710400, 1374796800, 1375056000, 1375142400, 1375228800, 1375315200, 1375401600, 1375660800, 1375747200, 1375833600, 1375920000, 1376006400, 1376265600, 1376352000, 1376438400, 1376524800, 1376611200, 1376870400, 1376956800, 1377043200, 1377129600, 1377216000, 1377475200, 1377561600, 1377648000, 1377734400, 1377820800, 1378080000, 1378166400, 1378252800, 1378339200, 1378425600, 1378684800, 1378771200, 1378857600, 1378944000, 1379030400, 1379289600, 1379376000, 1379462400, 1379548800, 1379635200, 1379894400, 1379980800, 1380067200, 1380153600, 1380240000, 1380499200, 1380585600, 1380672000, 1380758400, 1380844800, 1381104000, 1381190400, 1381276800, 1381363200, 1381449600, 1381708800, 1381795200, 1381881600, 1381968000, 1382054400, 1382313600, 1382400000, 1382486400, 1382572800, 1382659200, 1382918400, 1383004800, 1383091200, 1383177600, 1383264000, 1383523200, 1383609600, 1383696000, 1383782400, 1383868800, 1384128000, 1384214400, 1384300800, 1384387200, 1384732800, 1384819200, 1384992000, 1385078400, 1385337600, 1385424000, 1385510400, 1385596800, 1385683200, 1385942400, 1386028800, 1386115200, 1386201600, 1386288000, 1386547200, 1386633600, 1386720000, 1386806400, 1386892800, 1387152000, 1387238400, 1387324800, 1387411200, 1387497600, 1387756800, 1388016000, 1388102400, 1388361600, 1388620800, 1388707200, 1388966400, 1389052800, 1389139200, 1389225600, 1389312000, 1389571200, 1389657600, 1389744000, 1389830400, 1389916800, 1390176000, 1390262400, 1390348800, 1390435200, 1390521600, 1390780800, 1390867200, 1390953600, 1391040000, 1391126400, 1391385600, 1391472000, 1391558400, 1391644800, 1391731200, 1391990400, 1392076800, 1392163200, 1392249600, 1392336000, 1392595200, 1392681600, 1392768000, 1392854400, 1392940800, 1393200000, 1393286400, 1393372800, 1393459200, 1393545600, 1393977600, 1394064000, 1394150400, 1394409600, 1394496000, 1394582400, 1394668800, 1394755200, 1395014400, 1395100800, 1395187200, 1395273600, 1395360000, 1395619200, 1395705600, 1395792000, 1395878400, 1395964800, 1396224000, 1396310400, 1396396800, 1396483200, 1396569600, 1396828800, 1396915200, 1397001600, 1397088000, 1397174400, 1397433600, 1397520000, 1397606400, 1397692800, 1398124800, 1398211200, 1398297600, 1398384000, 1398643200, 1398729600, 1398816000, 1398988800, 1399248000, 1399334400, 1399420800, 1399507200, 1399593600, 1399852800, 1399939200, 1400025600, 1400112000, 1400198400, 1400457600, 1400544000, 1400630400, 1400716800, 1400803200, 1401062400, 1401148800, 1401235200, 1401321600, 1401408000, 1401667200, 1401753600, 1401840000, 1401926400, 1402012800, 1402272000, 1402358400, 1402444800, 1402617600, 1402876800, 1402963200, 1403049600, 1403222400, 1403481600, 1403568000, 1403654400, 1403740800, 1403827200, 1404086400, 1404172800, 1404259200, 1404345600, 1404432000, 1404691200, 1404777600, 1404950400, 1405036800, 1405296000, 1405382400, 1405468800, 1405555200, 1405641600, 1405900800, 1405987200, 1406073600, 1406160000, 1406246400, 1406505600, 1406592000, 1406678400, 1406764800, 1406851200, 1407110400, 1407196800, 1407283200, 1407369600, 1407456000, 1407715200, 1407801600, 1407888000, 1407974400, 1408060800, 1408320000, 1408406400, 1408492800, 1408579200, 1408665600, 1408924800, 1409011200, 1409097600, 1409184000, 1409270400, 1409529600, 1409616000, 1409702400, 1409788800, 1409875200, 1410134400, 1410220800, 1410307200, 1410393600, 1410480000, 1410739200, 1410825600, 1410912000, 1410998400, 1411084800, 1411344000, 1411430400, 1411516800, 1411603200, 1411689600, 1411948800, 1412035200, 1412121600, 1412208000, 1412294400, 1412553600, 1412640000, 1412726400, 1412812800, 1412899200, 1413158400, 1413244800, 1413331200, 1413417600, 1413504000, 1413763200, 1413849600, 1413936000, 1414022400, 1414108800, 1414368000, 1414454400, 1414540800, 1414627200, 1414713600, 1414972800, 1415059200, 1415145600, 1415232000, 1415318400, 1415577600, 1415664000, 1415750400, 1415836800, 1415923200, 1416182400, 1416268800, 1416355200, 1416528000, 1416787200, 1416873600, 1416960000, 1417046400, 1417132800, 1417392000, 1417478400, 1417564800, 1417651200, 1417737600, 1417996800, 1418083200, 1418169600, 1418256000, 1418342400, 1418601600, 1418688000, 1418774400, 1418860800, 1418947200, 1419206400, 1419292800, 1419552000, 1419811200, 1419897600, 1420156800, 1420416000, 1420502400, 1420588800, 1420675200, 1420761600, 1421020800, 1421107200, 1421193600, 1421280000, 1421366400, 1421625600, 1421712000, 1421798400, 1421884800, 1421971200, 1422230400, 1422316800, 1422403200, 1422489600, 1422576000, 1422835200, 1422921600, 1423008000, 1423094400, 1423180800, 1423440000, 1423526400, 1423612800, 1423699200, 1423785600, 1424217600, 1424304000, 1424390400, 1424649600, 1424736000, 1424822400, 1424908800, 1424995200, 1425254400, 1425340800, 1425427200, 1425513600, 1425600000, 1425859200, 1425945600, 1426032000, 1426118400, 1426204800, 1426464000, 1426550400, 1426636800, 1426723200, 1426809600, 1427068800, 1427155200, 1427241600, 1427328000, 1427414400, 1427673600, 1427760000, 1427846400, 1427932800, 1428278400, 1428364800, 1428451200, 1428537600, 1428624000, 1428883200, 1428969600, 1429056000, 1429142400, 1429228800, 1429488000, 1429660800, 1429747200, 1429833600, 1430092800, 1430179200, 1430265600, 1430352000, 1430697600, 1430784000, 1430870400, 1430956800, 1431043200, 1431302400, 1431388800, 1431475200, 1431561600, 1431648000, 1431907200, 1431993600, 1432080000, 1432166400, 1432252800, 1432512000, 1432598400, 1432684800, 1432771200, 1432857600, 1433116800, 1433203200, 1433289600, 1433462400, 1433721600, 1433808000, 1433894400, 1433980800, 1434067200, 1434326400, 1434412800, 1434499200, 1434585600, 1434672000, 1434931200, 1435017600, 1435104000, 1435190400, 1435276800, 1435536000, 1435622400, 1435708800, 1435795200, 1435881600, 1436140800, 1436227200, 1436313600, 1436486400, 1436745600, 1436832000, 1436918400, 1437004800, 1437091200, 1437350400, 1437436800, 1437523200, 1437609600, 1437696000, 1437955200, 1438041600, 1438128000, 1438214400, 1438300800, 1438560000, 1438646400, 1438732800, 1438819200, 1438905600, 1439164800, 1439251200, 1439337600, 1439424000, 1439510400, 1439769600, 1439856000, 1439942400, 1440028800, 1440115200, 1440374400, 1440460800, 1440547200, 1440633600, 1440720000, 1440979200, 1441065600, 1441152000, 1441238400, 1441324800, 1441670400, 1441756800, 1441843200, 1441929600, 1442188800, 1442275200, 1442361600, 1442448000, 1442534400, 1442793600, 1442880000, 1442966400, 1443052800, 1443139200, 1443398400, 1443484800, 1443571200, 1443657600, 1443744000, 1444003200, 1444089600, 1444176000, 1444262400, 1444348800, 1444694400, 1444780800, 1444867200, 1444953600, 1445212800, 1445299200, 1445385600, 1445472000, 1445558400, 1445817600, 1445904000, 1445990400, 1446076800, 1446163200, 1446508800, 1446595200, 1446681600, 1446768000, 1447027200, 1447113600, 1447200000, 1447286400, 1447372800, 1447632000, 1447718400, 1447804800, 1447891200, 1448236800, 1448323200, 1448409600, 1448496000, 1448582400, 1448841600, 1448928000, 1449014400, 1449100800, 1449187200, 1449446400, 1449532800, 1449619200, 1449705600, 1449792000, 1450051200, 1450137600, 1450224000, 1450310400, 1450396800, 1450656000, 1450742400, 1450828800, 1451260800, 1451347200, 1451433600, 1451865600, 1451952000, 1452038400, 1452124800, 1452211200, 1452470400, 1452556800, 1452643200, 1452729600, 1452816000, 1453075200, 1453161600, 1453248000, 1453334400, 1453420800, 1453766400, 1453852800, 1453939200, 1454025600, 1454284800, 1454371200, 1454457600, 1454544000, 1454630400, 1455062400, 1455148800, 1455235200, 1455494400, 1455580800, 1455667200, 1455753600, 1455840000, 1456099200, 1456185600, 1456272000, 1456358400, 1456444800, 1456704000, 1456790400, 1456876800, 1456963200, 1457049600, 1457308800, 1457395200, 1457481600, 1457568000, 1457654400, 1457913600, 1458000000, 1458086400, 1458172800, 1458259200, 1458518400, 1458604800, 1458691200, 1458777600, 1459123200, 1459209600, 1459296000, 1459382400, 1459468800, 1459728000, 1459814400, 1459900800, 1459987200, 1460073600, 1460332800, 1460419200, 1460505600, 1460592000, 1460678400, 1460937600, 1461024000, 1461110400, 1461283200, 1461542400, 1461628800, 1461715200, 1461801600, 1461888000, 1462147200, 1462233600, 1462320000, 1462406400, 1462492800, 1462752000, 1462838400, 1462924800, 1463011200, 1463097600, 1463356800, 1463443200, 1463529600, 1463616000, 1463702400, 1463961600, 1464048000, 1464134400, 1464307200, 1464566400, 1464652800, 1464739200, 1464825600, 1464912000, 1465171200, 1465257600, 1465344000, 1465430400, 1465516800, 1465776000, 1465862400, 1465948800, 1466035200, 1466121600, 1466380800, 1466467200, 1466553600, 1466640000, 1466726400, 1466985600, 1467072000, 1467158400, 1467244800, 1467331200, 1467590400, 1467676800, 1467763200, 1467849600, 1467936000, 1468195200, 1468281600, 1468368000, 1468454400, 1468540800, 1468800000, 1468886400, 1468972800, 1469059200, 1469145600, 1469404800, 1469491200, 1469577600, 1469664000, 1469750400, 1470009600, 1470096000, 1470182400, 1470268800, 1470355200, 1470614400, 1470700800, 1470787200, 1470873600, 1470960000, 1471219200, 1471305600, 1471392000, 1471478400, 1471564800, 1471824000, 1471910400, 1471996800, 1472083200, 1472169600, 1472428800, 1472515200, 1472601600, 1472688000, 1472774400, 1473033600, 1473120000, 1473292800, 1473379200, 1473638400, 1473724800, 1473811200, 1473897600, 1473984000, 1474243200, 1474329600, 1474416000, 1474502400, 1474588800, 1474848000, 1474934400, 1475020800, 1475107200, 1475193600, 1475452800, 1475539200, 1475625600, 1475712000, 1475798400, 1476057600, 1476144000, 1476316800, 1476403200, 1476662400, 1476748800, 1476835200, 1476921600, 1477008000, 1477267200, 1477353600, 1477440000, 1477526400, 1477612800, 1477872000, 1477958400, 1478131200, 1478217600, 1478476800, 1478563200, 1478649600, 1478736000, 1478822400, 1479081600, 1479254400, 1479340800, 1479427200, 1479686400, 1479772800, 1479859200, 1479945600, 1480032000, 1480291200, 1480377600, 1480464000, 1480550400, 1480636800, 1480896000, 1480982400, 1481068800, 1481155200, 1481241600, 1481500800, 1481587200, 1481673600, 1481760000, 1481846400, 1482105600, 1482192000, 1482278400, 1482364800, 1482451200, 1482710400, 1482796800, 1482883200, 1482969600, 1483315200, 1483401600, 1483488000, 1483574400, 1483660800, 1483920000, 1484006400, 1484092800, 1484179200, 1484265600, 1484524800, 1484611200, 1484697600, 1484784000, 1484870400, 1485129600, 1485216000, 1485388800, 1485475200, 1485734400, 1485820800, 1485907200, 1485993600, 1486080000, 1486339200, 1486425600, 1486512000, 1486598400, 1486684800, 1486944000, 1487030400, 1487116800, 1487203200, 1487289600, 1487548800, 1487635200, 1487721600, 1487808000, 1487894400, 1488326400, 1488412800, 1488499200, 1488758400, 1488844800, 1488931200, 1489017600, 1489104000, 1489363200, 1489449600, 1489536000, 1489622400, 1489708800, 1489968000, 1490054400, 1490140800, 1490227200, 1490313600, 1490572800, 1490659200, 1490745600, 1490832000, 1490918400, 1491177600, 1491264000, 1491350400, 1491436800, 1491523200, 1491782400, 1491868800, 1491955200, 1492041600, 1492387200, 1492473600, 1492560000, 1492646400, 1492992000, 1493078400, 1493164800, 1493251200, 1493337600, 1493683200, 1493769600, 1493856000, 1493942400, 1494201600, 1494288000, 1494374400, 1494460800, 1494547200, 1494806400, 1494892800, 1494979200, 1495065600, 1495152000, 1495411200, 1495497600, 1495584000, 1495670400, 1495756800, 1496016000, 1496102400, 1496188800, 1496275200, 1496361600, 1496620800, 1496707200, 1496793600, 1496880000, 1496966400, 1497225600, 1497312000, 1497398400, 1497571200, 1497830400, 1497916800, 1498003200, 1498089600, 1498176000, 1498435200, 1498521600, 1498608000, 1498694400, 1498780800, 1499040000, 1499126400, 1499212800, 1499299200, 1499385600, 1499644800, 1499731200, 1499817600, 1499904000, 1499990400, 1500249600, 1500336000, 1500422400, 1500508800, 1500595200, 1500854400, 1500940800, 1501027200, 1501113600, 1501200000, 1501459200, 1501545600, 1501632000, 1501718400, 1501804800, 1502064000, 1502150400, 1502236800, 1502323200, 1502409600, 1502668800, 1502755200, 1502841600, 1502928000, 1503014400, 1503273600, 1503360000, 1503446400, 1503532800, 1503619200, 1503878400, 1503964800, 1504051200, 1504137600, 1504224000, 1504483200, 1504569600, 1504656000, 1504828800, 1505088000, 1505174400, 1505260800, 1505347200, 1505433600, 1505692800, 1505779200, 1505865600, 1505952000, 1506038400, 1506297600, 1506384000, 1506470400, 1506556800, 1506643200, 1506902400, 1506988800, 1507075200, 1507161600, 1507248000, 1507507200, 1507593600, 1507680000, 1507852800, 1508112000, 1508198400, 1508284800, 1508371200, 1508457600, 1508716800, 1508803200, 1508889600, 1508976000, 1509062400, 1509321600, 1509408000, 1509494400, 1509667200, 1509926400, 1510012800, 1510099200, 1510185600, 1510272000, 1510531200, 1510617600, 1510790400, 1510876800, 1511222400, 1511308800, 1511395200, 1511481600, 1511740800, 1511827200, 1511913600, 1512000000, 1512086400, 1512345600, 1512432000, 1512518400, 1512604800, 1512691200, 1512950400, 1513036800, 1513123200, 1513209600, 1513296000, 1513555200, 1513641600, 1513728000, 1513814400, 1513900800, 1514246400, 1514332800, 1514419200, 1514505600, 1514851200, 1514937600, 1515024000, 1515110400, 1515369600, 1515456000, 1515542400, 1515628800, 1515715200, 1515974400, 1516060800, 1516147200, 1516233600, 1516320000, 1516579200, 1516665600, 1516752000, 1516924800, 1517184000, 1517270400, 1517356800, 1517443200, 1517529600, 1517788800, 1517875200, 1517961600, 1518048000, 1518134400, 1518566400, 1518652800, 1518739200, 1518998400, 1519084800, 1519171200, 1519257600, 1519344000, 1519603200, 1519689600, 1519776000, 1519862400, 1519948800, 1520208000, 1520294400, 1520380800, 1520467200, 1520553600, 1520812800, 1520899200, 1520985600, 1521072000, 1521158400, 1521417600, 1521504000, 1521590400, 1521676800, 1521763200, 1522022400, 1522108800, 1522195200, 1522281600, 1522627200, 1522713600, 1522800000, 1522886400, 1522972800, 1523232000, 1523318400, 1523404800, 1523491200, 1523577600, 1523836800, 1523923200, 1524009600, 1524096000, 1524182400, 1524441600, 1524528000, 1524614400, 1524700800, 1524787200, 1525046400, 1525219200, 1525305600, 1525392000, 1525651200, 1525737600, 1525824000, 1525910400, 1525996800, 1526256000, 1526342400, 1526428800, 1526515200, 1526601600, 1526860800, 1526947200, 1527033600, 1527120000, 1527206400, 1527465600, 1527552000, 1527638400, 1527811200, 1528070400, 1528156800, 1528243200, 1528329600, 1528416000, 1528675200, 1528761600, 1528848000, 1528934400, 1529020800, 1529280000, 1529366400, 1529452800, 1529539200, 1529625600, 1529884800, 1529971200, 1530057600, 1530144000, 1530230400, 1530489600, 1530576000, 1530662400, 1530748800, 1530835200, 1531180800, 1531267200, 1531353600, 1531440000, 1531699200, 1531785600, 1531872000, 1531958400, 1532044800, 1532304000, 1532390400, 1532476800, 1532563200, 1532649600, 1532908800, 1532995200, 1533081600, 1533168000, 1533254400, 1533513600, 1533600000, 1533686400, 1533772800, 1533859200, 1534118400, 1534204800, 1534291200, 1534377600, 1534464000, 1534723200, 1534809600, 1534896000, 1534982400, 1535068800, 1535328000, 1535414400, 1535500800, 1535587200, 1535673600, 1535932800, 1536019200, 1536105600, 1536192000, 1536537600, 1536624000, 1536710400, 1536796800, 1536883200, 1537142400, 1537228800, 1537315200, 1537401600, 1537488000, 1537747200, 1537833600, 1537920000, 1538006400, 1538092800, 1538352000, 1538438400, 1538524800, 1538611200, 1538697600, 1538956800, 1539043200, 1539129600, 1539216000, 1539561600, 1539648000, 1539734400, 1539820800, 1539907200, 1540166400, 1540252800, 1540339200, 1540425600, 1540512000, 1540771200, 1540857600, 1540944000, 1541030400, 1541376000, 1541462400, 1541548800, 1541635200, 1541721600, 1541980800, 1542067200, 1542153600, 1542326400, 1542585600, 1542758400, 1542844800, 1542931200, 1543190400, 1543276800, 1543363200, 1543449600, 1543536000, 1543795200, 1543881600, 1543968000, 1544054400, 1544140800, 1544400000, 1544486400, 1544572800, 1544659200, 1544745600, 1545004800, 1545091200, 1545177600, 1545264000, 1545350400, 1545782400, 1545868800, 1545955200, 1546387200, 1546473600, 1546560000, 1546819200, 1546905600, 1546992000, 1547078400, 1547164800, 1547424000, 1547510400, 1547596800, 1547683200, 1547769600, 1548028800, 1548115200, 1548201600, 1548288000, 1548633600, 1548720000, 1548806400, 1548892800, 1548979200, 1549238400, 1549324800, 1549411200, 1549497600, 1549584000, 1549843200, 1549929600, 1550016000, 1550102400, 1550188800, 1550448000, 1550534400, 1550620800, 1550707200, 1550793600, 1551052800, 1551139200, 1551225600, 1551312000, 1551398400, 1551830400, 1551916800, 1552003200, 1552262400, 1552348800, 1552435200, 1552521600, 1552608000, 1552867200, 1552953600, 1553040000, 1553126400, 1553212800, 1553472000, 1553558400, 1553644800, 1553731200, 1553817600, 1554076800, 1554163200, 1554249600, 1554336000, 1554422400, 1554681600, 1554768000, 1554854400, 1554940800, 1555027200, 1555286400, 1555372800, 1555459200, 1555545600, 1555891200, 1555977600, 1556064000, 1556150400, 1556236800, 1556496000, 1556582400, 1556755200, 1556841600, 1557100800, 1557187200, 1557273600, 1557360000, 1557446400, 1557705600, 1557792000, 1557878400, 1557964800, 1558051200, 1558310400, 1558396800, 1558483200, 1558569600, 1558656000, 1558915200, 1559001600, 1559088000, 1559174400, 1559260800, 1559520000, 1559606400, 1559692800, 1559779200, 1559865600, 1560124800, 1560211200, 1560297600, 1560384000, 1560470400, 1560729600, 1560816000, 1560902400, 1561075200, 1561334400, 1561420800, 1561507200, 1561593600, 1561680000, 1561939200, 1562025600, 1562112000, 1562198400, 1562284800, 1562544000, 1562716800, 1562803200, 1562889600, 1563148800, 1563235200, 1563321600, 1563408000, 1563494400, 1563753600, 1563840000, 1563926400, 1564012800, 1564099200, 1564358400, 1564444800, 1564531200, 1564617600, 1564704000, 1564963200, 1565049600, 1565136000, 1565222400, 1565308800, 1565568000, 1565654400, 1565740800, 1565827200, 1565913600, 1566172800, 1566259200, 1566345600, 1566432000, 1566518400, 1566777600, 1566864000, 1566950400, 1567036800, 1567123200, 1567382400, 1567468800, 1567555200, 1567641600, 1567728000, 1567987200, 1568073600, 1568160000, 1568246400, 1568332800, 1568592000, 1568678400, 1568764800, 1568851200, 1568937600, 1569196800, 1569283200, 1569369600, 1569456000, 1569542400, 1569801600, 1569888000, 1569974400, 1570060800, 1570147200, 1570406400, 1570492800, 1570579200, 1570665600, 1570752000, 1571011200, 1571097600, 1571184000, 1571270400, 1571356800, 1571616000, 1571702400, 1571788800, 1571875200, 1571961600, 1572220800, 1572307200, 1572393600, 1572480000, 1572566400, 1572825600, 1572912000, 1572998400, 1573084800, 1573171200, 1573430400, 1573516800, 1573603200, 1573689600, 1574035200, 1574121600, 1574294400, 1574380800, 1574640000, 1574726400, 1574812800, 1574899200, 1574985600, 1575244800, 1575331200, 1575417600, 1575504000, 1575590400, 1575849600, 1575936000, 1576022400, 1576108800, 1576195200, 1576454400, 1576540800, 1576627200, 1576713600, 1576800000, 1577059200, 1577318400, 1577404800, 1577664000, 1577923200, 1578009600, 1578268800, 1578355200, 1578441600, 1578528000, 1578614400, 1578873600, 1578960000, 1579046400, 1579132800, 1579219200, 1579478400, 1579564800, 1579651200, 1579737600, 1579824000, 1580083200, 1580169600, 1580256000, 1580342400, 1580428800, 1580688000, 1580774400, 1580860800, 1580947200, 1581033600, 1581292800, 1581379200, 1581465600, 1581552000, 1581638400, 1581897600, 1581984000, 1582070400, 1582156800, 1582243200, 1582675200, 1582761600, 1582848000, 1583107200, 1583193600, 1583280000, 1583366400, 1583452800, 1583712000, 1583798400, 1583884800, 1583971200, 1584057600, 1584316800, 1584403200, 1584489600, 1584576000, 1584662400, 1584921600, 1585008000, 1585094400, 1585180800, 1585267200, 1585526400, 1585612800, 1585699200, 1585785600, 1585872000, 1586131200, 1586217600, 1586304000, 1586390400, 1586736000, 1586822400, 1586908800, 1586995200, 1587081600, 1587340800, 1587513600, 1587600000, 1587686400, 1587945600, 1588032000, 1588118400, 1588204800, 1588550400, 1588636800, 1588723200, 1588809600, 1588896000, 1589155200, 1589241600, 1589328000, 1589414400, 1589500800, 1589760000, 1589846400, 1589932800, 1590019200, 1590105600, 1590364800, 1590451200, 1590537600, 1590624000, 1590710400, 1590969600, 1591056000, 1591142400, 1591228800, 1591315200, 1591574400, 1591660800, 1591747200, 1591920000, 1592179200, 1592265600, 1592352000, 1592438400, 1592524800, 1592784000, 1592870400, 1592956800, 1593043200, 1593129600, 1593388800, 1593475200, 1593561600, 1593648000, 1593734400, 1593993600, 1594080000, 1594166400, 1594252800, 1594339200, 1594598400, 1594684800, 1594771200, 1594857600, 1594944000, 1595203200, 1595289600, 1595376000, 1595462400, 1595548800, 1595808000, 1595894400, 1595980800, 1596067200, 1596153600, 1596412800, 1596499200, 1596585600, 1596672000, 1596758400, 1597017600, 1597104000, 1597190400, 1597276800, 1597363200, 1597622400, 1597708800, 1597795200, 1597881600, 1597968000, 1598227200, 1598313600, 1598400000, 1598486400, 1598572800, 1598832000, 1598918400, 1599004800, 1599091200, 1599177600, 1599523200, 1599609600, 1599696000, 1599782400, 1600041600, 1600128000, 1600214400, 1600300800, 1600387200, 1600646400, 1600732800, 1600819200, 1600905600, 1600992000, 1601251200, 1601337600, 1601424000, 1601510400, 1601596800, 1601856000, 1601942400, 1602028800, 1602115200, 1602201600, 1602547200, 1602633600, 1602720000, 1602806400, 1603065600, 1603152000, 1603238400, 1603324800, 1603411200, 1603670400, 1603756800, 1603843200, 1603929600, 1604016000, 1604361600, 1604448000, 1604534400, 1604620800, 1604880000, 1604966400, 1605052800, 1605139200, 1605225600, 1605484800, 1605571200, 1605657600, 1605744000, 1606089600, 1606176000, 1606262400, 1606348800, 1606435200, 1606694400, 1606780800, 1606867200, 1606953600, 1607040000, 1607299200, 1607385600, 1607472000, 1607558400, 1607644800, 1607904000, 1607990400, 1608076800, 1608163200, 1608249600, 1608508800, 1608595200, 1608681600, 1609113600, 1609200000, 1609286400, 1609718400, 1609804800, 1609891200, 1609977600, 1610064000, 1610323200, 1610409600, 1610496000, 1610582400, 1610668800, 1610928000, 1611014400, 1611100800, 1611187200, 1611273600, 1611619200, 1611705600, 1611792000, 1611878400, 1612137600, 1612224000, 1612310400, 1612396800, 1612483200, 1612742400, 1612828800, 1612915200, 1613001600, 1613088000, 1613520000, 1613606400, 1613692800, 1613952000, 1614038400, 1614124800, 1614211200, 1614297600, 1614556800, 1614643200, 1614729600, 1614816000, 1614902400, 1615161600, 1615248000, 1615334400, 1615420800, 1615507200, 1615766400, 1615852800, 1615939200, 1616025600, 1616112000, 1616371200, 1616457600, 1616544000, 1616630400, 1616716800, 1616976000, 1617062400, 1617148800, 1617235200, 1617580800, 1617667200, 1617753600, 1617840000, 1617926400, 1618185600, 1618272000, 1618358400, 1618444800, 1618531200, 1618790400, 1618876800, 1619049600, 1619136000, 1619395200, 1619481600, 1619568000, 1619654400, 1619740800, 1620000000, 1620086400, 1620172800, 1620259200, 1620345600, 1620604800, 1620691200, 1620777600, 1620864000, 1620950400, 1621209600, 1621296000, 1621382400, 1621468800, 1621555200, 1621814400, 1621900800, 1621987200, 1622073600, 1622160000, 1622419200, 1622505600, 1622592000, 1622764800, 1623024000, 1623110400, 1623196800, 1623283200, 1623369600, 1623628800, 1623715200, 1623801600, 1623888000, 1623974400, 1624233600, 1624320000, 1624406400, 1624492800, 1624579200, 1624838400, 1624924800, 1625011200, 1625097600, 1625184000, 1625443200, 1625529600, 1625616000, 1625702400, 1626048000, 1626134400, 1626220800, 1626307200, 1626393600, 1626652800, 1626739200, 1626825600, 1626912000, 1626998400, 1627257600, 1627344000, 1627430400, 1627516800, 1627603200, 1627862400, 1627948800, 1628035200, 1628121600, 1628208000, 1628467200, 1628553600, 1628640000, 1628726400, 1628812800, 1629072000, 1629158400, 1629244800, 1629331200, 1629417600, 1629676800, 1629763200, 1629849600, 1629936000, 1630022400, 1630281600, 1630368000, 1630454400, 1630540800, 1630627200, 1630886400, 1631059200, 1631145600, 1631232000, 1631491200, 1631577600, 1631664000, 1631750400, 1631836800, 1632096000, 1632182400, 1632268800, 1632355200, 1632441600, 1632700800, 1632787200, 1632873600, 1632960000, 1633046400, 1633305600, 1633392000, 1633478400, 1633564800, 1633651200, 1633910400, 1634083200, 1634169600, 1634256000, 1634515200, 1634601600, 1634688000, 1634774400, 1634860800, 1635120000, 1635206400, 1635292800, 1635379200, 1635465600, 1635724800, 1635897600, 1635984000, 1636070400, 1636329600, 1636416000, 1636502400, 1636588800, 1636675200, 1637020800, 1637107200, 1637193600, 1637280000, 1637539200, 1637625600, 1637712000, 1637798400, 1637884800, 1638144000, 1638230400, 1638316800, 1638403200, 1638489600, 1638748800, 1638835200, 1638921600, 1639008000, 1639094400, 1639353600, 1639440000, 1639526400, 1639612800, 1639699200, 1639958400, 1640044800, 1640131200, 1640217600, 1640563200, 1640649600, 1640736000, 1640822400, 1641168000, 1641254400, 1641340800, 1641427200, 1641513600, 1641772800, 1641859200, 1641945600, 1642032000, 1642118400, 1642377600, 1642464000, 1642550400, 1642636800, 1642723200, 1642982400, 1643068800, 1643155200, 1643241600, 1643328000, 1643587200, 1643673600, 1643760000, 1643846400, 1643932800, 1644192000, 1644278400, 1644364800, 1644451200, 1644537600, 1644796800, 1644883200, 1644969600, 1645056000, 1645142400, 1645401600, 1645488000, 1645574400, 1645660800, 1645747200, 1646179200, 1646265600, 1646352000]\n"
          ]
        }
      ]
    },
    {
      "cell_type": "code",
      "source": [
        "sc = StandardScaler()"
      ],
      "metadata": {
        "id": "VTUeoU5Q3YTU"
      },
      "execution_count": null,
      "outputs": []
    },
    {
      "cell_type": "code",
      "source": [
        "sc.fit(close)"
      ],
      "metadata": {
        "colab": {
          "base_uri": "https://localhost:8080/"
        },
        "id": "XglPGnsAlFyJ",
        "outputId": "32d3fc2c-4199-4ca1-9f2d-570f48150c4f"
      },
      "execution_count": null,
      "outputs": [
        {
          "output_type": "execute_result",
          "data": {
            "text/plain": [
              "StandardScaler()"
            ]
          },
          "metadata": {},
          "execution_count": 20
        }
      ]
    },
    {
      "cell_type": "code",
      "source": [
        "dados_escalado = sc.transform(close)"
      ],
      "metadata": {
        "id": "AWJpDPytlK1K"
      },
      "execution_count": null,
      "outputs": []
    },
    {
      "cell_type": "code",
      "source": [
        "x = dados_escalado[:,0]\n",
        "y = dados_escalado[:,1]"
      ],
      "metadata": {
        "id": "kMIo1rU1lSHM"
      },
      "execution_count": null,
      "outputs": []
    },
    {
      "cell_type": "code",
      "source": [
        "sns.lineplot(x=x, y=y, label='dados_escalado');\n",
        "mpl.pyplot.ylabel('Close');\n",
        "mpl.pyplot.xlabel('Date');"
      ],
      "metadata": {
        "colab": {
          "base_uri": "https://localhost:8080/",
          "height": 408
        },
        "id": "qu2G6DTqly8y",
        "outputId": "27786e71-2051-47b3-cfaf-9233766bbd8f"
      },
      "execution_count": null,
      "outputs": [
        {
          "output_type": "display_data",
          "data": {
            "text/plain": [
              "<Figure size 720x432 with 1 Axes>"
            ],
            "image/png": "[encoded data removed]"
          },
          "metadata": {
            "needs_background": "light"
          }
        }
      ]
    },
    {
      "cell_type": "code",
      "source": [
        "tamanho_treino = int(len(close)*0.8)\n",
        "tamanho_teste = int(len(close)*0.2)\n",
        "\n"
      ],
      "metadata": {
        "id": "Q0bgazobmYzj"
      },
      "execution_count": null,
      "outputs": []
    },
    {
      "cell_type": "code",
      "source": [
        "xtreino = x[0:tamanho_treino]\n",
        "ytreino = y[0:tamanho_treino]"
      ],
      "metadata": {
        "id": "2pKwtb5W2fsw"
      },
      "execution_count": null,
      "outputs": []
    },
    {
      "cell_type": "code",
      "source": [
        "xteste = x[tamanho_treino:len(close)]\n",
        "yteste = y[tamanho_treino:len(close)]"
      ],
      "metadata": {
        "id": "CYJvaUIKX3f4"
      },
      "execution_count": null,
      "outputs": []
    },
    {
      "cell_type": "markdown",
      "source": [
        "Em azul é apenas os dados de treino, no qual o código tera acesso, em laranja e dados para teste no qual o código não tera acesso"
      ],
      "metadata": {
        "id": "r-7x-gq7WcX_"
      }
    },
    {
      "cell_type": "code",
      "source": [
        "sns.lineplot(x=xtreino, y=ytreino, label='treino');\n",
        "sns.lineplot(x=xteste, y=yteste, label='teste');\n",
        "mpl.pyplot.ylabel('Close');\n",
        "mpl.pyplot.xlabel('Date');"
      ],
      "metadata": {
        "colab": {
          "base_uri": "https://localhost:8080/",
          "height": 408
        },
        "id": "DJuXILQKYfyT",
        "outputId": "88e0842c-9dcf-4576-c6ca-c5b004eefd0a"
      },
      "execution_count": null,
      "outputs": [
        {
          "output_type": "display_data",
          "data": {
            "text/plain": [
              "<Figure size 720x432 with 1 Axes>"
            ],
            "image/png": "[encoded data removed]"
          },
          "metadata": {
            "needs_background": "light"
          }
        }
      ]
    },
    {
      "cell_type": "code",
      "source": [
        "from tensorflow.keras.models import Sequential\n",
        "from tensorflow.keras.layers import Dense\n"
      ],
      "metadata": {
        "id": "wdkVafw2aTwY"
      },
      "execution_count": null,
      "outputs": []
    },
    {
      "cell_type": "code",
      "source": [
        "regressor = Sequential()"
      ],
      "metadata": {
        "id": "lhUjVkhsbBWV"
      },
      "execution_count": null,
      "outputs": []
    },
    {
      "cell_type": "code",
      "source": [
        "regressor.add(Dense(1,input_dim=1, kernel_initializer='Ones', activation='linear',use_bias=False))"
      ],
      "metadata": {
        "id": "V6mpe2jObHZf"
      },
      "execution_count": null,
      "outputs": []
    },
    {
      "cell_type": "code",
      "source": [
        "regressor.compile(loss='mean_squared_error', optimizer='adam')"
      ],
      "metadata": {
        "id": "6A6A84Gkb2pV"
      },
      "execution_count": null,
      "outputs": []
    },
    {
      "cell_type": "code",
      "source": [
        "regressor.summary()"
      ],
      "metadata": {
        "colab": {
          "base_uri": "https://localhost:8080/"
        },
        "id": "WfcsKK3FcZ4b",
        "outputId": "07af3b9e-d2d7-4fc2-cf2c-1c5dcd4fb616"
      },
      "execution_count": null,
      "outputs": [
        {
          "output_type": "stream",
          "name": "stdout",
          "text": [
            "Model: \"sequential\"\n",
            "_________________________________________________________________\n",
            " Layer (type)                Output Shape              Param #   \n",
            "=================================================================\n",
            " dense (Dense)               (None, 1)                 1         \n",
            "                                                                 \n",
            "=================================================================\n",
            "Total params: 1\n",
            "Trainable params: 1\n",
            "Non-trainable params: 0\n",
            "_________________________________________________________________\n"
          ]
        }
      ]
    },
    {
      "cell_type": "code",
      "source": [
        "regressor.fit(xtreino,ytreino)"
      ],
      "metadata": {
        "colab": {
          "base_uri": "https://localhost:8080/"
        },
        "id": "kpxhLNMNci_3",
        "outputId": "40923f6e-deae-4484-9060-1da9b04bc868"
      },
      "execution_count": null,
      "outputs": [
        {
          "output_type": "stream",
          "name": "stdout",
          "text": [
            "151/151 [==============================] - 1s 3ms/step - loss: 0.1544\n"
          ]
        },
        {
          "output_type": "execute_result",
          "data": {
            "text/plain": [
              "<keras.callbacks.History at 0x7f49b63d9a10>"
            ]
          },
          "metadata": {},
          "execution_count": 33
        }
      ]
    },
    {
      "cell_type": "code",
      "source": [
        "y_predict = regressor.predict(xtreino)"
      ],
      "metadata": {
        "id": "uOvmaDsDcvNJ"
      },
      "execution_count": null,
      "outputs": []
    },
    {
      "cell_type": "code",
      "source": [
        "sns.lineplot(x=xtreino, y=ytreino, label='treino');\n",
        "sns.lineplot(x=xtreino, y=y_predict[:,0], label='ajuste_treino');"
      ],
      "metadata": {
        "colab": {
          "base_uri": "https://localhost:8080/",
          "height": 388
        },
        "id": "Q3ryEh2pc471",
        "outputId": "824029e2-932c-4020-bc1e-d10ed0292442"
      },
      "execution_count": null,
      "outputs": [
        {
          "output_type": "display_data",
          "data": {
            "text/plain": [
              "<Figure size 720x432 with 1 Axes>"
            ],
            "image/png": "[encoded data removed]"
          },
          "metadata": {
            "needs_background": "light"
          }
        }
      ]
    },
    {
      "cell_type": "code",
      "source": [
        "info = {'date' : xtreino, 'close': y_predict[:,0]}"
      ],
      "metadata": {
        "id": "9BiCMxJYdpHi"
      },
      "execution_count": null,
      "outputs": []
    },
    {
      "cell_type": "code",
      "source": [
        "resultados = pd.DataFrame(data=info)"
      ],
      "metadata": {
        "id": "YjaMp4jneF8Q"
      },
      "execution_count": null,
      "outputs": []
    },
    {
      "cell_type": "code",
      "source": [
        "resultados"
      ],
      "metadata": {
        "colab": {
          "base_uri": "https://localhost:8080/",
          "height": 424
        },
        "id": "w60vedhZeM89",
        "outputId": "5476b4cf-3633-48bd-8523-ad4fe79965d0"
      },
      "execution_count": null,
      "outputs": [
        {
          "output_type": "execute_result",
          "data": {
            "text/plain": [
              "          date     close\n",
              "0    -1.731030 -1.523951\n",
              "1    -1.730641 -1.523609\n",
              "2    -1.730253 -1.523267\n",
              "3    -1.729864 -1.522925\n",
              "4    -1.728699 -1.521898\n",
              "...        ...       ...\n",
              "4824  1.035783  0.911875\n",
              "4825  1.036171  0.912217\n",
              "4826  1.037337  0.913243\n",
              "4827  1.037726  0.913585\n",
              "4828  1.038114  0.913927\n",
              "\n",
              "[4829 rows x 2 columns]"
            ],
            "text/html": [
              "\n",
              "  <div id=\"df-b9a06e4d-be4c-470b-8d86-995946487080\">\n",
              "    <div class=\"colab-df-container\">\n",
              "      <div>\n",
              "<style scoped>\n",
              "    .dataframe tbody tr th:only-of-type {\n",
              "        vertical-align: middle;\n",
              "    }\n",
              "\n",
              "    .dataframe tbody tr th {\n",
              "        vertical-align: top;\n",
              "    }\n",
              "\n",
              "    .dataframe thead th {\n",
              "        text-align: right;\n",
              "    }\n",
              "</style>\n",
              "<table border=\"1\" class=\"dataframe\">\n",
              "  <thead>\n",
              "    <tr style=\"text-align: right;\">\n",
              "      <th></th>\n",
              "      <th>date</th>\n",
              "      <th>close</th>\n",
              "    </tr>\n",
              "  </thead>\n",
              "  <tbody>\n",
              "    <tr>\n",
              "      <th>0</th>\n",
              "      <td>-1.731030</td>\n",
              "      <td>-1.523951</td>\n",
              "    </tr>\n",
              "    <tr>\n",
              "      <th>1</th>\n",
              "      <td>-1.730641</td>\n",
              "      <td>-1.523609</td>\n",
              "    </tr>\n",
              "    <tr>\n",
              "      <th>2</th>\n",
              "      <td>-1.730253</td>\n",
              "      <td>-1.523267</td>\n",
              "    </tr>\n",
              "    <tr>\n",
              "      <th>3</th>\n",
              "      <td>-1.729864</td>\n",
              "      <td>-1.522925</td>\n",
              "    </tr>\n",
              "    <tr>\n",
              "      <th>4</th>\n",
              "      <td>-1.728699</td>\n",
              "      <td>-1.521898</td>\n",
              "    </tr>\n",
              "    <tr>\n",
              "      <th>...</th>\n",
              "      <td>...</td>\n",
              "      <td>...</td>\n",
              "    </tr>\n",
              "    <tr>\n",
              "      <th>4824</th>\n",
              "      <td>1.035783</td>\n",
              "      <td>0.911875</td>\n",
              "    </tr>\n",
              "    <tr>\n",
              "      <th>4825</th>\n",
              "      <td>1.036171</td>\n",
              "      <td>0.912217</td>\n",
              "    </tr>\n",
              "    <tr>\n",
              "      <th>4826</th>\n",
              "      <td>1.037337</td>\n",
              "      <td>0.913243</td>\n",
              "    </tr>\n",
              "    <tr>\n",
              "      <th>4827</th>\n",
              "      <td>1.037726</td>\n",
              "      <td>0.913585</td>\n",
              "    </tr>\n",
              "    <tr>\n",
              "      <th>4828</th>\n",
              "      <td>1.038114</td>\n",
              "      <td>0.913927</td>\n",
              "    </tr>\n",
              "  </tbody>\n",
              "</table>\n",
              "<p>4829 rows × 2 columns</p>\n",
              "</div>\n",
              "      <button class=\"colab-df-convert\" onclick=\"convertToInteractive('df-b9a06e4d-be4c-470b-8d86-995946487080')\"\n",
              "              title=\"Convert this dataframe to an interactive table.\"\n",
              "              style=\"display:none;\">\n",
              "        \n",
              "  <svg xmlns=\"http://www.w3.org/2000/svg\" height=\"24px\"viewBox=\"0 0 24 24\"\n",
              "       width=\"24px\">\n",
              "    <path d=\"M0 0h24v24H0V0z\" fill=\"none\"/>\n",
              "    <path d=\"M18.56 5.44l.94 2.06.94-2.06 2.06-.94-2.06-.94-.94-2.06-.94 2.06-2.06.94zm-11 1L8.5 8.5l.94-2.06 2.06-.94-2.06-.94L8.5 2.5l-.94 2.06-2.06.94zm10 10l.94 2.06.94-2.06 2.06-.94-2.06-.94-.94-2.06-.94 2.06-2.06.94z\"/><path d=\"M17.41 7.96l-1.37-1.37c-.4-.4-.92-.59-1.43-.59-.52 0-1.04.2-1.43.59L10.3 9.45l-7.72 7.72c-.78.78-.78 2.05 0 2.83L4 21.41c.39.39.9.59 1.41.59.51 0 1.02-.2 1.41-.59l7.78-7.78 2.81-2.81c.8-.78.8-2.07 0-2.86zM5.41 20L4 18.59l7.72-7.72 1.47 1.35L5.41 20z\"/>\n",
              "  </svg>\n",
              "      </button>\n",
              "      \n",
              "  <style>\n",
              "    .colab-df-container {\n",
              "      display:flex;\n",
              "      flex-wrap:wrap;\n",
              "      gap: 12px;\n",
              "    }\n",
              "\n",
              "    .colab-df-convert {\n",
              "      background-color: #E8F0FE;\n",
              "      border: none;\n",
              "      border-radius: 50%;\n",
              "      cursor: pointer;\n",
              "      display: none;\n",
              "      fill: #1967D2;\n",
              "      height: 32px;\n",
              "      padding: 0 0 0 0;\n",
              "      width: 32px;\n",
              "    }\n",
              "\n",
              "    .colab-df-convert:hover {\n",
              "      background-color: #E2EBFA;\n",
              "      box-shadow: 0px 1px 2px rgba(60, 64, 67, 0.3), 0px 1px 3px 1px rgba(60, 64, 67, 0.15);\n",
              "      fill: #174EA6;\n",
              "    }\n",
              "\n",
              "    [theme=dark] .colab-df-convert {\n",
              "      background-color: #3B4455;\n",
              "      fill: #D2E3FC;\n",
              "    }\n",
              "\n",
              "    [theme=dark] .colab-df-convert:hover {\n",
              "      background-color: #434B5C;\n",
              "      box-shadow: 0px 1px 3px 1px rgba(0, 0, 0, 0.15);\n",
              "      filter: drop-shadow(0px 1px 2px rgba(0, 0, 0, 0.3));\n",
              "      fill: #FFFFFF;\n",
              "    }\n",
              "  </style>\n",
              "\n",
              "      <script>\n",
              "        const buttonEl =\n",
              "          document.querySelector('#df-b9a06e4d-be4c-470b-8d86-995946487080 button.colab-df-convert');\n",
              "        buttonEl.style.display =\n",
              "          google.colab.kernel.accessAllowed ? 'block' : 'none';\n",
              "\n",
              "        async function convertToInteractive(key) {\n",
              "          const element = document.querySelector('#df-b9a06e4d-be4c-470b-8d86-995946487080');\n",
              "          const dataTable =\n",
              "            await google.colab.kernel.invokeFunction('convertToInteractive',\n",
              "                                                     [key], {});\n",
              "          if (!dataTable) return;\n",
              "\n",
              "          const docLinkHtml = 'Like what you see? Visit the ' +\n",
              "            '<a target=\"_blank\" href=https://colab.research.google.com/notebooks/data_table.ipynb>data table notebook</a>'\n",
              "            + ' to learn more about interactive tables.';\n",
              "          element.innerHTML = '';\n",
              "          dataTable['output_type'] = 'display_data';\n",
              "          await google.colab.output.renderOutput(dataTable, element);\n",
              "          const docLink = document.createElement('div');\n",
              "          docLink.innerHTML = docLinkHtml;\n",
              "          element.appendChild(docLink);\n",
              "        }\n",
              "      </script>\n",
              "    </div>\n",
              "  </div>\n",
              "  "
            ]
          },
          "metadata": {},
          "execution_count": 38
        }
      ]
    },
    {
      "cell_type": "code",
      "source": [
        "resultados_transf = sc.inverse_transform(resultados)"
      ],
      "metadata": {
        "id": "AD7348rxeP5i"
      },
      "execution_count": null,
      "outputs": []
    },
    {
      "cell_type": "code",
      "source": [
        "resultado_transf = pd.DataFrame(resultados_transf)"
      ],
      "metadata": {
        "id": "-iKoRsaoecX9"
      },
      "execution_count": null,
      "outputs": []
    },
    {
      "cell_type": "code",
      "source": [
        "resultado_transf.columns = ['Data', 'Close']"
      ],
      "metadata": {
        "id": "i7Jgv_kKekF2"
      },
      "execution_count": null,
      "outputs": []
    },
    {
      "cell_type": "code",
      "source": [
        "sns.lineplot(x='Date', y='Close', data=close, label='dados_completo');\n",
        "sns.lineplot(x='Data', y='Close', data=resultado_transf, label='ajuste_treino');"
      ],
      "metadata": {
        "colab": {
          "base_uri": "https://localhost:8080/",
          "height": 408
        },
        "id": "ENEczOoBfBZQ",
        "outputId": "e7b520b0-73e2-40d4-e818-c93645817262"
      },
      "execution_count": null,
      "outputs": [
        {
          "output_type": "display_data",
          "data": {
            "text/plain": [
              "<Figure size 720x432 with 1 Axes>"
            ],
            "image/png": "[encoded data removed]"
          },
          "metadata": {
            "needs_background": "light"
          }
        }
      ]
    },
    {
      "cell_type": "code",
      "source": [
        "y_predict_teste = regressor.predict(xteste)"
      ],
      "metadata": {
        "id": "nbRWt7Sgfjj4"
      },
      "execution_count": null,
      "outputs": []
    },
    {
      "cell_type": "code",
      "source": [
        "d = {'Date': xteste, 'Close':y_predict_teste[:,0]}\n",
        "teste = pd.DataFrame(data=d)"
      ],
      "metadata": {
        "id": "2Pu1gzlqfv5t"
      },
      "execution_count": null,
      "outputs": []
    },
    {
      "cell_type": "code",
      "source": [
        "transf = sc.inverse_transform(teste)"
      ],
      "metadata": {
        "id": "f7hxVZNqgAY6"
      },
      "execution_count": null,
      "outputs": []
    },
    {
      "cell_type": "code",
      "source": [
        "transf_teste = pd.DataFrame(transf)\n"
      ],
      "metadata": {
        "id": "Lna124SZgH0n"
      },
      "execution_count": null,
      "outputs": []
    },
    {
      "cell_type": "code",
      "source": [
        "transf_teste.columns = ['Date', 'Close']"
      ],
      "metadata": {
        "id": "b3_4Q6KggPTQ"
      },
      "execution_count": null,
      "outputs": []
    },
    {
      "cell_type": "code",
      "source": [
        "sns.lineplot(x='Date', y='Close', data=close, label='dados_completo');\n",
        "sns.lineplot(x='Data', y='Close', data=resultado_transf, label='ajuste_treino');\n",
        "sns.lineplot(x='Date', y='Close', data=transf_teste, label='ajuste_treino');"
      ],
      "metadata": {
        "colab": {
          "base_uri": "https://localhost:8080/",
          "height": 408
        },
        "id": "BsVfD75FgXhP",
        "outputId": "fdd7e48e-8445-477c-e5c8-1ec937b3c4ef"
      },
      "execution_count": null,
      "outputs": [
        {
          "output_type": "display_data",
          "data": {
            "text/plain": [
              "<Figure size 720x432 with 1 Axes>"
            ],
            "image/png": "[encoded data removed]"
          },
          "metadata": {
            "needs_background": "light"
          }
        }
      ]
    },
    {
      "cell_type": "code",
      "source": [
        "regressor2 = Sequential()"
      ],
      "metadata": {
        "id": "GTfFIpnYlDS8"
      },
      "execution_count": null,
      "outputs": []
    },
    {
      "cell_type": "code",
      "source": [
        "regressor2.add(Dense(8,input_dim=1, kernel_initializer='random_uniform', activation='linear', use_bias=False))\n",
        "regressor2.add(Dense(8,kernel_initializer='random_uniform', activation='linear', use_bias=False))\n",
        "regressor2.add(Dense(1,kernel_initializer='random_uniform', activation='linear', use_bias=False))\n"
      ],
      "metadata": {
        "id": "Kw2mqFlTljGh"
      },
      "execution_count": null,
      "outputs": []
    },
    {
      "cell_type": "code",
      "source": [
        "regressor2.compile(loss='mean_squared_error', optimizer='adam')"
      ],
      "metadata": {
        "id": "RyGL78V5mYzD"
      },
      "execution_count": null,
      "outputs": []
    },
    {
      "cell_type": "code",
      "source": [
        "regressor2.summary()"
      ],
      "metadata": {
        "colab": {
          "base_uri": "https://localhost:8080/"
        },
        "id": "MxgiSvyvmkqr",
        "outputId": "5234b1d4-5f1e-489f-c6ea-ce24e315a069"
      },
      "execution_count": null,
      "outputs": [
        {
          "output_type": "stream",
          "name": "stdout",
          "text": [
            "Model: \"sequential_1\"\n",
            "_________________________________________________________________\n",
            " Layer (type)                Output Shape              Param #   \n",
            "=================================================================\n",
            " dense_1 (Dense)             (None, 8)                 8         \n",
            "                                                                 \n",
            " dense_2 (Dense)             (None, 8)                 64        \n",
            "                                                                 \n",
            " dense_3 (Dense)             (None, 1)                 8         \n",
            "                                                                 \n",
            "=================================================================\n",
            "Total params: 80\n",
            "Trainable params: 80\n",
            "Non-trainable params: 0\n",
            "_________________________________________________________________\n"
          ]
        }
      ]
    },
    {
      "cell_type": "code",
      "source": [
        "regressor2.fit(xtreino,ytreino, epochs= 500)"
      ],
      "metadata": {
        "colab": {
          "base_uri": "https://localhost:8080/"
        },
        "id": "gaLNF_BlmyW5",
        "outputId": "acb7b5e0-3798-4f85-e638-b88517b79e1d"
      },
      "execution_count": null,
      "outputs": [
        {
          "output_type": "stream",
          "name": "stdout",
          "text": [
            "Epoch 1/500\n",
            "151/151 [==============================] - 1s 3ms/step - loss: 0.4424\n",
            "Epoch 2/500\n",
            "151/151 [==============================] - 1s 4ms/step - loss: 0.1367\n",
            "Epoch 3/500\n",
            "151/151 [==============================] - 1s 4ms/step - loss: 0.1364\n",
            "Epoch 4/500\n",
            "151/151 [==============================] - 1s 4ms/step - loss: 0.1364\n",
            "Epoch 5/500\n",
            "151/151 [==============================] - 0s 3ms/step - loss: 0.1366\n",
            "Epoch 6/500\n",
            "151/151 [==============================] - 1s 4ms/step - loss: 0.1368\n",
            "Epoch 7/500\n",
            "151/151 [==============================] - 1s 4ms/step - loss: 0.1365\n",
            "Epoch 8/500\n",
            "151/151 [==============================] - 0s 3ms/step - loss: 0.1367\n",
            "Epoch 9/500\n",
            "151/151 [==============================] - 1s 3ms/step - loss: 0.1365\n",
            "Epoch 10/500\n",
            "151/151 [==============================] - 1s 4ms/step - loss: 0.1365\n",
            "Epoch 11/500\n",
            "151/151 [==============================] - 0s 3ms/step - loss: 0.1365\n",
            "Epoch 12/500\n",
            "151/151 [==============================] - 0s 2ms/step - loss: 0.1366\n",
            "Epoch 13/500\n",
            "151/151 [==============================] - 0s 2ms/step - loss: 0.1368\n",
            "Epoch 14/500\n",
            "151/151 [==============================] - 0s 3ms/step - loss: 0.1364\n",
            "Epoch 15/500\n",
            "151/151 [==============================] - 0s 3ms/step - loss: 0.1365\n",
            "Epoch 16/500\n",
            "151/151 [==============================] - 0s 3ms/step - loss: 0.1366\n",
            "Epoch 17/500\n",
            "151/151 [==============================] - 0s 3ms/step - loss: 0.1366\n",
            "Epoch 18/500\n",
            "151/151 [==============================] - 0s 3ms/step - loss: 0.1366\n",
            "Epoch 19/500\n",
            "151/151 [==============================] - 1s 5ms/step - loss: 0.1366\n",
            "Epoch 20/500\n",
            "151/151 [==============================] - 0s 2ms/step - loss: 0.1368\n",
            "Epoch 21/500\n",
            "151/151 [==============================] - 0s 3ms/step - loss: 0.1365\n",
            "Epoch 22/500\n",
            "151/151 [==============================] - 0s 3ms/step - loss: 0.1367\n",
            "Epoch 23/500\n",
            "151/151 [==============================] - 0s 3ms/step - loss: 0.1366\n",
            "Epoch 24/500\n",
            "151/151 [==============================] - 0s 2ms/step - loss: 0.1365\n",
            "Epoch 25/500\n",
            "151/151 [==============================] - 1s 4ms/step - loss: 0.1365\n",
            "Epoch 26/500\n",
            "151/151 [==============================] - 1s 4ms/step - loss: 0.1366\n",
            "Epoch 27/500\n",
            "151/151 [==============================] - 1s 4ms/step - loss: 0.1365\n",
            "Epoch 28/500\n",
            "151/151 [==============================] - 0s 3ms/step - loss: 0.1364\n",
            "Epoch 29/500\n",
            "151/151 [==============================] - 0s 3ms/step - loss: 0.1366\n",
            "Epoch 30/500\n",
            "151/151 [==============================] - 1s 4ms/step - loss: 0.1365\n",
            "Epoch 31/500\n",
            "151/151 [==============================] - 0s 2ms/step - loss: 0.1364\n",
            "Epoch 32/500\n",
            "151/151 [==============================] - 0s 2ms/step - loss: 0.1365\n",
            "Epoch 33/500\n",
            "151/151 [==============================] - 0s 1ms/step - loss: 0.1365\n",
            "Epoch 34/500\n",
            "151/151 [==============================] - 0s 2ms/step - loss: 0.1367\n",
            "Epoch 35/500\n",
            "151/151 [==============================] - 0s 1ms/step - loss: 0.1367\n",
            "Epoch 36/500\n",
            "151/151 [==============================] - 0s 1ms/step - loss: 0.1366\n",
            "Epoch 37/500\n",
            "151/151 [==============================] - 0s 1ms/step - loss: 0.1365\n",
            "Epoch 38/500\n",
            "151/151 [==============================] - 0s 2ms/step - loss: 0.1366\n",
            "Epoch 39/500\n",
            "151/151 [==============================] - 0s 2ms/step - loss: 0.1367\n",
            "Epoch 40/500\n",
            "151/151 [==============================] - 0s 2ms/step - loss: 0.1365\n",
            "Epoch 41/500\n",
            "151/151 [==============================] - 0s 2ms/step - loss: 0.1365\n",
            "Epoch 42/500\n",
            "151/151 [==============================] - 0s 2ms/step - loss: 0.1366\n",
            "Epoch 43/500\n",
            "151/151 [==============================] - 0s 2ms/step - loss: 0.1365\n",
            "Epoch 44/500\n",
            "151/151 [==============================] - 0s 2ms/step - loss: 0.1365\n",
            "Epoch 45/500\n",
            "151/151 [==============================] - 0s 2ms/step - loss: 0.1365\n",
            "Epoch 46/500\n",
            "151/151 [==============================] - 0s 2ms/step - loss: 0.1366\n",
            "Epoch 47/500\n",
            "151/151 [==============================] - 0s 2ms/step - loss: 0.1364\n",
            "Epoch 48/500\n",
            "151/151 [==============================] - 0s 2ms/step - loss: 0.1365\n",
            "Epoch 49/500\n",
            "151/151 [==============================] - 0s 2ms/step - loss: 0.1365\n",
            "Epoch 50/500\n",
            "151/151 [==============================] - 0s 2ms/step - loss: 0.1367\n",
            "Epoch 51/500\n",
            "151/151 [==============================] - 0s 2ms/step - loss: 0.1369\n",
            "Epoch 52/500\n",
            "151/151 [==============================] - 0s 1ms/step - loss: 0.1365\n",
            "Epoch 53/500\n",
            "151/151 [==============================] - 0s 1ms/step - loss: 0.1366\n",
            "Epoch 54/500\n",
            "151/151 [==============================] - 0s 1ms/step - loss: 0.1368\n",
            "Epoch 55/500\n",
            "151/151 [==============================] - 0s 2ms/step - loss: 0.1365\n",
            "Epoch 56/500\n",
            "151/151 [==============================] - 0s 2ms/step - loss: 0.1365\n",
            "Epoch 57/500\n",
            "151/151 [==============================] - 0s 2ms/step - loss: 0.1364\n",
            "Epoch 58/500\n",
            "151/151 [==============================] - 0s 2ms/step - loss: 0.1366\n",
            "Epoch 59/500\n",
            "151/151 [==============================] - 0s 1ms/step - loss: 0.1368\n",
            "Epoch 60/500\n",
            "151/151 [==============================] - 0s 2ms/step - loss: 0.1365\n",
            "Epoch 61/500\n",
            "151/151 [==============================] - 0s 1ms/step - loss: 0.1365\n",
            "Epoch 62/500\n",
            "151/151 [==============================] - 0s 1ms/step - loss: 0.1365\n",
            "Epoch 63/500\n",
            "151/151 [==============================] - 0s 1ms/step - loss: 0.1367\n",
            "Epoch 64/500\n",
            "151/151 [==============================] - 0s 2ms/step - loss: 0.1365\n",
            "Epoch 65/500\n",
            "151/151 [==============================] - 0s 1ms/step - loss: 0.1365\n",
            "Epoch 66/500\n",
            "151/151 [==============================] - 0s 1ms/step - loss: 0.1365\n",
            "Epoch 67/500\n",
            "151/151 [==============================] - 0s 1ms/step - loss: 0.1365\n",
            "Epoch 68/500\n",
            "151/151 [==============================] - 0s 2ms/step - loss: 0.1365\n",
            "Epoch 69/500\n",
            "151/151 [==============================] - 0s 2ms/step - loss: 0.1366\n",
            "Epoch 70/500\n",
            "151/151 [==============================] - 0s 1ms/step - loss: 0.1366\n",
            "Epoch 71/500\n",
            "151/151 [==============================] - 0s 1ms/step - loss: 0.1365\n",
            "Epoch 72/500\n",
            "151/151 [==============================] - 0s 1ms/step - loss: 0.1365\n",
            "Epoch 73/500\n",
            "151/151 [==============================] - 0s 2ms/step - loss: 0.1366\n",
            "Epoch 74/500\n",
            "151/151 [==============================] - 0s 2ms/step - loss: 0.1365\n",
            "Epoch 75/500\n",
            "151/151 [==============================] - 0s 1ms/step - loss: 0.1365\n",
            "Epoch 76/500\n",
            "151/151 [==============================] - 0s 1ms/step - loss: 0.1366\n",
            "Epoch 77/500\n",
            "151/151 [==============================] - 0s 1ms/step - loss: 0.1365\n",
            "Epoch 78/500\n",
            "151/151 [==============================] - 0s 2ms/step - loss: 0.1368\n",
            "Epoch 79/500\n",
            "151/151 [==============================] - 0s 1ms/step - loss: 0.1366\n",
            "Epoch 80/500\n",
            "151/151 [==============================] - 0s 1ms/step - loss: 0.1365\n",
            "Epoch 81/500\n",
            "151/151 [==============================] - 0s 1ms/step - loss: 0.1365\n",
            "Epoch 82/500\n",
            "151/151 [==============================] - 0s 2ms/step - loss: 0.1365\n",
            "Epoch 83/500\n",
            "151/151 [==============================] - 0s 1ms/step - loss: 0.1365\n",
            "Epoch 84/500\n",
            "151/151 [==============================] - 0s 1ms/step - loss: 0.1367\n",
            "Epoch 85/500\n",
            "151/151 [==============================] - 0s 1ms/step - loss: 0.1366\n",
            "Epoch 86/500\n",
            "151/151 [==============================] - 0s 2ms/step - loss: 0.1366\n",
            "Epoch 87/500\n",
            "151/151 [==============================] - 0s 1ms/step - loss: 0.1366\n",
            "Epoch 88/500\n",
            "151/151 [==============================] - 0s 1ms/step - loss: 0.1364\n",
            "Epoch 89/500\n",
            "151/151 [==============================] - 0s 1ms/step - loss: 0.1366\n",
            "Epoch 90/500\n",
            "151/151 [==============================] - 0s 2ms/step - loss: 0.1366\n",
            "Epoch 91/500\n",
            "151/151 [==============================] - 0s 2ms/step - loss: 0.1365\n",
            "Epoch 92/500\n",
            "151/151 [==============================] - 0s 1ms/step - loss: 0.1365\n",
            "Epoch 93/500\n",
            "151/151 [==============================] - 0s 1ms/step - loss: 0.1367\n",
            "Epoch 94/500\n",
            "151/151 [==============================] - 0s 1ms/step - loss: 0.1367\n",
            "Epoch 95/500\n",
            "151/151 [==============================] - 0s 2ms/step - loss: 0.1365\n",
            "Epoch 96/500\n",
            "151/151 [==============================] - 0s 1ms/step - loss: 0.1364\n",
            "Epoch 97/500\n",
            "151/151 [==============================] - 0s 1ms/step - loss: 0.1367\n",
            "Epoch 98/500\n",
            "151/151 [==============================] - 0s 1ms/step - loss: 0.1365\n",
            "Epoch 99/500\n",
            "151/151 [==============================] - 0s 1ms/step - loss: 0.1365\n",
            "Epoch 100/500\n",
            "151/151 [==============================] - 0s 2ms/step - loss: 0.1365\n",
            "Epoch 101/500\n",
            "151/151 [==============================] - 0s 1ms/step - loss: 0.1366\n",
            "Epoch 102/500\n",
            "151/151 [==============================] - 0s 1ms/step - loss: 0.1365\n",
            "Epoch 103/500\n",
            "151/151 [==============================] - 0s 1ms/step - loss: 0.1365\n",
            "Epoch 104/500\n",
            "151/151 [==============================] - 0s 2ms/step - loss: 0.1365\n",
            "Epoch 105/500\n",
            "151/151 [==============================] - 0s 1ms/step - loss: 0.1366\n",
            "Epoch 106/500\n",
            "151/151 [==============================] - 0s 1ms/step - loss: 0.1365\n",
            "Epoch 107/500\n",
            "151/151 [==============================] - 0s 1ms/step - loss: 0.1365\n",
            "Epoch 108/500\n",
            "151/151 [==============================] - 0s 1ms/step - loss: 0.1366\n",
            "Epoch 109/500\n",
            "151/151 [==============================] - 0s 2ms/step - loss: 0.1366\n",
            "Epoch 110/500\n",
            "151/151 [==============================] - 0s 2ms/step - loss: 0.1365\n",
            "Epoch 111/500\n",
            "151/151 [==============================] - 0s 1ms/step - loss: 0.1364\n",
            "Epoch 112/500\n",
            "151/151 [==============================] - 0s 1ms/step - loss: 0.1364\n",
            "Epoch 113/500\n",
            "151/151 [==============================] - 0s 2ms/step - loss: 0.1367\n",
            "Epoch 114/500\n",
            "151/151 [==============================] - 0s 1ms/step - loss: 0.1367\n",
            "Epoch 115/500\n",
            "151/151 [==============================] - 0s 2ms/step - loss: 0.1365\n",
            "Epoch 116/500\n",
            "151/151 [==============================] - 0s 2ms/step - loss: 0.1367\n",
            "Epoch 117/500\n",
            "151/151 [==============================] - 0s 2ms/step - loss: 0.1365\n",
            "Epoch 118/500\n",
            "151/151 [==============================] - 0s 1ms/step - loss: 0.1367\n",
            "Epoch 119/500\n",
            "151/151 [==============================] - 0s 1ms/step - loss: 0.1367\n",
            "Epoch 120/500\n",
            "151/151 [==============================] - 0s 1ms/step - loss: 0.1365\n",
            "Epoch 121/500\n",
            "151/151 [==============================] - 0s 1ms/step - loss: 0.1366\n",
            "Epoch 122/500\n",
            "151/151 [==============================] - 0s 1ms/step - loss: 0.1365\n",
            "Epoch 123/500\n",
            "151/151 [==============================] - 0s 2ms/step - loss: 0.1366\n",
            "Epoch 124/500\n",
            "151/151 [==============================] - 0s 2ms/step - loss: 0.1366\n",
            "Epoch 125/500\n",
            "151/151 [==============================] - 0s 1ms/step - loss: 0.1367\n",
            "Epoch 126/500\n",
            "151/151 [==============================] - 0s 2ms/step - loss: 0.1364\n",
            "Epoch 127/500\n",
            "151/151 [==============================] - 0s 1ms/step - loss: 0.1366\n",
            "Epoch 128/500\n",
            "151/151 [==============================] - 0s 1ms/step - loss: 0.1366\n",
            "Epoch 129/500\n",
            "151/151 [==============================] - 0s 1ms/step - loss: 0.1366\n",
            "Epoch 130/500\n",
            "151/151 [==============================] - 0s 1ms/step - loss: 0.1367\n",
            "Epoch 131/500\n",
            "151/151 [==============================] - 0s 2ms/step - loss: 0.1368\n",
            "Epoch 132/500\n",
            "151/151 [==============================] - 0s 1ms/step - loss: 0.1366\n",
            "Epoch 133/500\n",
            "151/151 [==============================] - 0s 2ms/step - loss: 0.1366\n",
            "Epoch 134/500\n",
            "151/151 [==============================] - 0s 2ms/step - loss: 0.1368\n",
            "Epoch 135/500\n",
            "151/151 [==============================] - 0s 2ms/step - loss: 0.1367\n",
            "Epoch 136/500\n",
            "151/151 [==============================] - 0s 1ms/step - loss: 0.1369\n",
            "Epoch 137/500\n",
            "151/151 [==============================] - 0s 2ms/step - loss: 0.1366\n",
            "Epoch 138/500\n",
            "151/151 [==============================] - 0s 1ms/step - loss: 0.1366\n",
            "Epoch 139/500\n",
            "151/151 [==============================] - 0s 2ms/step - loss: 0.1366\n",
            "Epoch 140/500\n",
            "151/151 [==============================] - 0s 1ms/step - loss: 0.1366\n",
            "Epoch 141/500\n",
            "151/151 [==============================] - 0s 1ms/step - loss: 0.1367\n",
            "Epoch 142/500\n",
            "151/151 [==============================] - 0s 2ms/step - loss: 0.1366\n",
            "Epoch 143/500\n",
            "151/151 [==============================] - 0s 1ms/step - loss: 0.1364\n",
            "Epoch 144/500\n",
            "151/151 [==============================] - 0s 1ms/step - loss: 0.1367\n",
            "Epoch 145/500\n",
            "151/151 [==============================] - 0s 1ms/step - loss: 0.1365\n",
            "Epoch 146/500\n",
            "151/151 [==============================] - 0s 2ms/step - loss: 0.1365\n",
            "Epoch 147/500\n",
            "151/151 [==============================] - 0s 1ms/step - loss: 0.1365\n",
            "Epoch 148/500\n",
            "151/151 [==============================] - 0s 1ms/step - loss: 0.1366\n",
            "Epoch 149/500\n",
            "151/151 [==============================] - 0s 1ms/step - loss: 0.1365\n",
            "Epoch 150/500\n",
            "151/151 [==============================] - 0s 1ms/step - loss: 0.1365\n",
            "Epoch 151/500\n",
            "151/151 [==============================] - 0s 1ms/step - loss: 0.1364\n",
            "Epoch 152/500\n",
            "151/151 [==============================] - 0s 1ms/step - loss: 0.1365\n",
            "Epoch 153/500\n",
            "151/151 [==============================] - 0s 2ms/step - loss: 0.1365\n",
            "Epoch 154/500\n",
            "151/151 [==============================] - 0s 1ms/step - loss: 0.1366\n",
            "Epoch 155/500\n",
            "151/151 [==============================] - 0s 1ms/step - loss: 0.1368\n",
            "Epoch 156/500\n",
            "151/151 [==============================] - 0s 1ms/step - loss: 0.1366\n",
            "Epoch 157/500\n",
            "151/151 [==============================] - 0s 2ms/step - loss: 0.1365\n",
            "Epoch 158/500\n",
            "151/151 [==============================] - 0s 1ms/step - loss: 0.1367\n",
            "Epoch 159/500\n",
            "151/151 [==============================] - 0s 1ms/step - loss: 0.1365\n",
            "Epoch 160/500\n",
            "151/151 [==============================] - 0s 1ms/step - loss: 0.1367\n",
            "Epoch 161/500\n",
            "151/151 [==============================] - 0s 1ms/step - loss: 0.1366\n",
            "Epoch 162/500\n",
            "151/151 [==============================] - 0s 2ms/step - loss: 0.1368\n",
            "Epoch 163/500\n",
            "151/151 [==============================] - 0s 1ms/step - loss: 0.1365\n",
            "Epoch 164/500\n",
            "151/151 [==============================] - 0s 1ms/step - loss: 0.1364\n",
            "Epoch 165/500\n",
            "151/151 [==============================] - 0s 1ms/step - loss: 0.1365\n",
            "Epoch 166/500\n",
            "151/151 [==============================] - 0s 2ms/step - loss: 0.1366\n",
            "Epoch 167/500\n",
            "151/151 [==============================] - 0s 1ms/step - loss: 0.1366\n",
            "Epoch 168/500\n",
            "151/151 [==============================] - 0s 1ms/step - loss: 0.1367\n",
            "Epoch 169/500\n",
            "151/151 [==============================] - 0s 1ms/step - loss: 0.1366\n",
            "Epoch 170/500\n",
            "151/151 [==============================] - 0s 2ms/step - loss: 0.1365\n",
            "Epoch 171/500\n",
            "151/151 [==============================] - 0s 2ms/step - loss: 0.1364\n",
            "Epoch 172/500\n",
            "151/151 [==============================] - 0s 2ms/step - loss: 0.1366\n",
            "Epoch 173/500\n",
            "151/151 [==============================] - 0s 1ms/step - loss: 0.1367\n",
            "Epoch 174/500\n",
            "151/151 [==============================] - 0s 1ms/step - loss: 0.1365\n",
            "Epoch 175/500\n",
            "151/151 [==============================] - 0s 1ms/step - loss: 0.1365\n",
            "Epoch 176/500\n",
            "151/151 [==============================] - 0s 2ms/step - loss: 0.1366\n",
            "Epoch 177/500\n",
            "151/151 [==============================] - 0s 1ms/step - loss: 0.1366\n",
            "Epoch 178/500\n",
            "151/151 [==============================] - 0s 1ms/step - loss: 0.1366\n",
            "Epoch 179/500\n",
            "151/151 [==============================] - 0s 1ms/step - loss: 0.1366\n",
            "Epoch 180/500\n",
            "151/151 [==============================] - 0s 1ms/step - loss: 0.1365\n",
            "Epoch 181/500\n",
            "151/151 [==============================] - 0s 1ms/step - loss: 0.1366\n",
            "Epoch 182/500\n",
            "151/151 [==============================] - 0s 1ms/step - loss: 0.1365\n",
            "Epoch 183/500\n",
            "151/151 [==============================] - 0s 1ms/step - loss: 0.1366\n",
            "Epoch 184/500\n",
            "151/151 [==============================] - 0s 2ms/step - loss: 0.1365\n",
            "Epoch 185/500\n",
            "151/151 [==============================] - 0s 2ms/step - loss: 0.1365\n",
            "Epoch 186/500\n",
            "151/151 [==============================] - 0s 2ms/step - loss: 0.1366\n",
            "Epoch 187/500\n",
            "151/151 [==============================] - 0s 1ms/step - loss: 0.1368\n",
            "Epoch 188/500\n",
            "151/151 [==============================] - 0s 2ms/step - loss: 0.1366\n",
            "Epoch 189/500\n",
            "151/151 [==============================] - 0s 2ms/step - loss: 0.1366\n",
            "Epoch 190/500\n",
            "151/151 [==============================] - 0s 2ms/step - loss: 0.1364\n",
            "Epoch 191/500\n",
            "151/151 [==============================] - 0s 1ms/step - loss: 0.1365\n",
            "Epoch 192/500\n",
            "151/151 [==============================] - 0s 1ms/step - loss: 0.1367\n",
            "Epoch 193/500\n",
            "151/151 [==============================] - 0s 1ms/step - loss: 0.1366\n",
            "Epoch 194/500\n",
            "151/151 [==============================] - 0s 1ms/step - loss: 0.1365\n",
            "Epoch 195/500\n",
            "151/151 [==============================] - 0s 1ms/step - loss: 0.1366\n",
            "Epoch 196/500\n",
            "151/151 [==============================] - 0s 1ms/step - loss: 0.1366\n",
            "Epoch 197/500\n",
            "151/151 [==============================] - 0s 1ms/step - loss: 0.1365\n",
            "Epoch 198/500\n",
            "151/151 [==============================] - 0s 1ms/step - loss: 0.1366\n",
            "Epoch 199/500\n",
            "151/151 [==============================] - 0s 1ms/step - loss: 0.1363\n",
            "Epoch 200/500\n",
            "151/151 [==============================] - 0s 1ms/step - loss: 0.1365\n",
            "Epoch 201/500\n",
            "151/151 [==============================] - 0s 1ms/step - loss: 0.1366\n",
            "Epoch 202/500\n",
            "151/151 [==============================] - 0s 2ms/step - loss: 0.1367\n",
            "Epoch 203/500\n",
            "151/151 [==============================] - 0s 1ms/step - loss: 0.1365\n",
            "Epoch 204/500\n",
            "151/151 [==============================] - 0s 1ms/step - loss: 0.1367\n",
            "Epoch 205/500\n",
            "151/151 [==============================] - 0s 1ms/step - loss: 0.1366\n",
            "Epoch 206/500\n",
            "151/151 [==============================] - 0s 1ms/step - loss: 0.1366\n",
            "Epoch 207/500\n",
            "151/151 [==============================] - 0s 2ms/step - loss: 0.1368\n",
            "Epoch 208/500\n",
            "151/151 [==============================] - 0s 1ms/step - loss: 0.1364\n",
            "Epoch 209/500\n",
            "151/151 [==============================] - 0s 1ms/step - loss: 0.1365\n",
            "Epoch 210/500\n",
            "151/151 [==============================] - 0s 2ms/step - loss: 0.1366\n",
            "Epoch 211/500\n",
            "151/151 [==============================] - 0s 2ms/step - loss: 0.1365\n",
            "Epoch 212/500\n",
            "151/151 [==============================] - 0s 1ms/step - loss: 0.1366\n",
            "Epoch 213/500\n",
            "151/151 [==============================] - 0s 1ms/step - loss: 0.1368\n",
            "Epoch 214/500\n",
            "151/151 [==============================] - 0s 1ms/step - loss: 0.1365\n",
            "Epoch 215/500\n",
            "151/151 [==============================] - 0s 2ms/step - loss: 0.1365\n",
            "Epoch 216/500\n",
            "151/151 [==============================] - 0s 1ms/step - loss: 0.1368\n",
            "Epoch 217/500\n",
            "151/151 [==============================] - 0s 2ms/step - loss: 0.1366\n",
            "Epoch 218/500\n",
            "151/151 [==============================] - 0s 1ms/step - loss: 0.1364\n",
            "Epoch 219/500\n",
            "151/151 [==============================] - 0s 1ms/step - loss: 0.1367\n",
            "Epoch 220/500\n",
            "151/151 [==============================] - 0s 2ms/step - loss: 0.1367\n",
            "Epoch 221/500\n",
            "151/151 [==============================] - 0s 1ms/step - loss: 0.1365\n",
            "Epoch 222/500\n",
            "151/151 [==============================] - 0s 2ms/step - loss: 0.1367\n",
            "Epoch 223/500\n",
            "151/151 [==============================] - 0s 1ms/step - loss: 0.1366\n",
            "Epoch 224/500\n",
            "151/151 [==============================] - 0s 2ms/step - loss: 0.1365\n",
            "Epoch 225/500\n",
            "151/151 [==============================] - 0s 1ms/step - loss: 0.1366\n",
            "Epoch 226/500\n",
            "151/151 [==============================] - 0s 1ms/step - loss: 0.1367\n",
            "Epoch 227/500\n",
            "151/151 [==============================] - 0s 1ms/step - loss: 0.1366\n",
            "Epoch 228/500\n",
            "151/151 [==============================] - 0s 2ms/step - loss: 0.1367\n",
            "Epoch 229/500\n",
            "151/151 [==============================] - 0s 2ms/step - loss: 0.1366\n",
            "Epoch 230/500\n",
            "151/151 [==============================] - 0s 1ms/step - loss: 0.1366\n",
            "Epoch 231/500\n",
            "151/151 [==============================] - 0s 1ms/step - loss: 0.1366\n",
            "Epoch 232/500\n",
            "151/151 [==============================] - 0s 1ms/step - loss: 0.1365\n",
            "Epoch 233/500\n",
            "151/151 [==============================] - 0s 1ms/step - loss: 0.1365\n",
            "Epoch 234/500\n",
            "151/151 [==============================] - 0s 1ms/step - loss: 0.1367\n",
            "Epoch 235/500\n",
            "151/151 [==============================] - 0s 1ms/step - loss: 0.1364\n",
            "Epoch 236/500\n",
            "151/151 [==============================] - 0s 2ms/step - loss: 0.1367\n",
            "Epoch 237/500\n",
            "151/151 [==============================] - 0s 2ms/step - loss: 0.1365\n",
            "Epoch 238/500\n",
            "151/151 [==============================] - 0s 2ms/step - loss: 0.1365\n",
            "Epoch 239/500\n",
            "151/151 [==============================] - 0s 1ms/step - loss: 0.1366\n",
            "Epoch 240/500\n",
            "151/151 [==============================] - 0s 1ms/step - loss: 0.1365\n",
            "Epoch 241/500\n",
            "151/151 [==============================] - 0s 1ms/step - loss: 0.1366\n",
            "Epoch 242/500\n",
            "151/151 [==============================] - 0s 2ms/step - loss: 0.1364\n",
            "Epoch 243/500\n",
            "151/151 [==============================] - 0s 1ms/step - loss: 0.1367\n",
            "Epoch 244/500\n",
            "151/151 [==============================] - 0s 1ms/step - loss: 0.1365\n",
            "Epoch 245/500\n",
            "151/151 [==============================] - 0s 1ms/step - loss: 0.1366\n",
            "Epoch 246/500\n",
            "151/151 [==============================] - 0s 1ms/step - loss: 0.1366\n",
            "Epoch 247/500\n",
            "151/151 [==============================] - 0s 1ms/step - loss: 0.1366\n",
            "Epoch 248/500\n",
            "151/151 [==============================] - 0s 1ms/step - loss: 0.1366\n",
            "Epoch 249/500\n",
            "151/151 [==============================] - 0s 2ms/step - loss: 0.1365\n",
            "Epoch 250/500\n",
            "151/151 [==============================] - 0s 1ms/step - loss: 0.1366\n",
            "Epoch 251/500\n",
            "151/151 [==============================] - 0s 2ms/step - loss: 0.1365\n",
            "Epoch 252/500\n",
            "151/151 [==============================] - 0s 1ms/step - loss: 0.1366\n",
            "Epoch 253/500\n",
            "151/151 [==============================] - 0s 1ms/step - loss: 0.1365\n",
            "Epoch 254/500\n",
            "151/151 [==============================] - 0s 1ms/step - loss: 0.1367\n",
            "Epoch 255/500\n",
            "151/151 [==============================] - 0s 2ms/step - loss: 0.1365\n",
            "Epoch 256/500\n",
            "151/151 [==============================] - 0s 1ms/step - loss: 0.1367\n",
            "Epoch 257/500\n",
            "151/151 [==============================] - 0s 2ms/step - loss: 0.1365\n",
            "Epoch 258/500\n",
            "151/151 [==============================] - 0s 2ms/step - loss: 0.1366\n",
            "Epoch 259/500\n",
            "151/151 [==============================] - 0s 3ms/step - loss: 0.1364\n",
            "Epoch 260/500\n",
            "151/151 [==============================] - 0s 3ms/step - loss: 0.1365\n",
            "Epoch 261/500\n",
            "151/151 [==============================] - 0s 3ms/step - loss: 0.1365\n",
            "Epoch 262/500\n",
            "151/151 [==============================] - 0s 2ms/step - loss: 0.1366\n",
            "Epoch 263/500\n",
            "151/151 [==============================] - 0s 2ms/step - loss: 0.1366\n",
            "Epoch 264/500\n",
            "151/151 [==============================] - 0s 2ms/step - loss: 0.1366\n",
            "Epoch 265/500\n",
            "151/151 [==============================] - 0s 3ms/step - loss: 0.1367\n",
            "Epoch 266/500\n",
            "151/151 [==============================] - 0s 3ms/step - loss: 0.1365\n",
            "Epoch 267/500\n",
            "151/151 [==============================] - 0s 3ms/step - loss: 0.1366\n",
            "Epoch 268/500\n",
            "151/151 [==============================] - 1s 3ms/step - loss: 0.1366\n",
            "Epoch 269/500\n",
            "151/151 [==============================] - 0s 3ms/step - loss: 0.1366\n",
            "Epoch 270/500\n",
            "151/151 [==============================] - 0s 3ms/step - loss: 0.1366\n",
            "Epoch 271/500\n",
            "151/151 [==============================] - 0s 2ms/step - loss: 0.1364\n",
            "Epoch 272/500\n",
            "151/151 [==============================] - 1s 4ms/step - loss: 0.1368\n",
            "Epoch 273/500\n",
            "151/151 [==============================] - 1s 4ms/step - loss: 0.1366\n",
            "Epoch 274/500\n",
            "151/151 [==============================] - 0s 3ms/step - loss: 0.1366\n",
            "Epoch 275/500\n",
            "151/151 [==============================] - 0s 3ms/step - loss: 0.1367\n",
            "Epoch 276/500\n",
            "151/151 [==============================] - 0s 2ms/step - loss: 0.1366\n",
            "Epoch 277/500\n",
            "151/151 [==============================] - 1s 4ms/step - loss: 0.1365\n",
            "Epoch 278/500\n",
            "151/151 [==============================] - 0s 3ms/step - loss: 0.1365\n",
            "Epoch 279/500\n",
            "151/151 [==============================] - 1s 4ms/step - loss: 0.1364\n",
            "Epoch 280/500\n",
            "151/151 [==============================] - 1s 4ms/step - loss: 0.1367\n",
            "Epoch 281/500\n",
            "151/151 [==============================] - 0s 2ms/step - loss: 0.1364\n",
            "Epoch 282/500\n",
            "151/151 [==============================] - 0s 3ms/step - loss: 0.1365\n",
            "Epoch 283/500\n",
            "151/151 [==============================] - 1s 4ms/step - loss: 0.1365\n",
            "Epoch 284/500\n",
            "151/151 [==============================] - 1s 4ms/step - loss: 0.1367\n",
            "Epoch 285/500\n",
            "151/151 [==============================] - 0s 2ms/step - loss: 0.1365\n",
            "Epoch 286/500\n",
            "151/151 [==============================] - 0s 3ms/step - loss: 0.1365\n",
            "Epoch 287/500\n",
            "151/151 [==============================] - 0s 2ms/step - loss: 0.1365\n",
            "Epoch 288/500\n",
            "151/151 [==============================] - 1s 6ms/step - loss: 0.1366\n",
            "Epoch 289/500\n",
            "151/151 [==============================] - 1s 4ms/step - loss: 0.1365\n",
            "Epoch 290/500\n",
            "151/151 [==============================] - 1s 4ms/step - loss: 0.1365\n",
            "Epoch 291/500\n",
            "151/151 [==============================] - 0s 3ms/step - loss: 0.1366\n",
            "Epoch 292/500\n",
            "151/151 [==============================] - 0s 3ms/step - loss: 0.1364\n",
            "Epoch 293/500\n",
            "151/151 [==============================] - 1s 4ms/step - loss: 0.1366\n",
            "Epoch 294/500\n",
            "151/151 [==============================] - 0s 3ms/step - loss: 0.1366\n",
            "Epoch 295/500\n",
            "151/151 [==============================] - 1s 5ms/step - loss: 0.1364\n",
            "Epoch 296/500\n",
            "151/151 [==============================] - 1s 4ms/step - loss: 0.1365\n",
            "Epoch 297/500\n",
            "151/151 [==============================] - 0s 3ms/step - loss: 0.1365\n",
            "Epoch 298/500\n",
            "151/151 [==============================] - 0s 3ms/step - loss: 0.1365\n",
            "Epoch 299/500\n",
            "151/151 [==============================] - 0s 3ms/step - loss: 0.1365\n",
            "Epoch 300/500\n",
            "151/151 [==============================] - 1s 4ms/step - loss: 0.1365\n",
            "Epoch 301/500\n",
            "151/151 [==============================] - 1s 4ms/step - loss: 0.1367\n",
            "Epoch 302/500\n",
            "151/151 [==============================] - 0s 3ms/step - loss: 0.1365\n",
            "Epoch 303/500\n",
            "151/151 [==============================] - 0s 3ms/step - loss: 0.1367\n",
            "Epoch 304/500\n",
            "151/151 [==============================] - 0s 3ms/step - loss: 0.1365\n",
            "Epoch 305/500\n",
            "151/151 [==============================] - 0s 3ms/step - loss: 0.1366\n",
            "Epoch 306/500\n",
            "151/151 [==============================] - 0s 3ms/step - loss: 0.1364\n",
            "Epoch 307/500\n",
            "151/151 [==============================] - 0s 2ms/step - loss: 0.1367\n",
            "Epoch 308/500\n",
            "151/151 [==============================] - 1s 3ms/step - loss: 0.1365\n",
            "Epoch 309/500\n",
            "151/151 [==============================] - 0s 3ms/step - loss: 0.1365\n",
            "Epoch 310/500\n",
            "151/151 [==============================] - 0s 2ms/step - loss: 0.1367\n",
            "Epoch 311/500\n",
            "151/151 [==============================] - 0s 1ms/step - loss: 0.1365\n",
            "Epoch 312/500\n",
            "151/151 [==============================] - 0s 1ms/step - loss: 0.1365\n",
            "Epoch 313/500\n",
            "151/151 [==============================] - 0s 2ms/step - loss: 0.1366\n",
            "Epoch 314/500\n",
            "151/151 [==============================] - 0s 2ms/step - loss: 0.1364\n",
            "Epoch 315/500\n",
            "151/151 [==============================] - 0s 2ms/step - loss: 0.1364\n",
            "Epoch 316/500\n",
            "151/151 [==============================] - 0s 2ms/step - loss: 0.1366\n",
            "Epoch 317/500\n",
            "151/151 [==============================] - 0s 1ms/step - loss: 0.1365\n",
            "Epoch 318/500\n",
            "151/151 [==============================] - 0s 1ms/step - loss: 0.1364\n",
            "Epoch 319/500\n",
            "151/151 [==============================] - 0s 2ms/step - loss: 0.1367\n",
            "Epoch 320/500\n",
            "151/151 [==============================] - 0s 2ms/step - loss: 0.1368\n",
            "Epoch 321/500\n",
            "151/151 [==============================] - 0s 2ms/step - loss: 0.1365\n",
            "Epoch 322/500\n",
            "151/151 [==============================] - 0s 2ms/step - loss: 0.1366\n",
            "Epoch 323/500\n",
            "151/151 [==============================] - 0s 2ms/step - loss: 0.1365\n",
            "Epoch 324/500\n",
            "151/151 [==============================] - 0s 1ms/step - loss: 0.1365\n",
            "Epoch 325/500\n",
            "151/151 [==============================] - 0s 2ms/step - loss: 0.1367\n",
            "Epoch 326/500\n",
            "151/151 [==============================] - 0s 2ms/step - loss: 0.1364\n",
            "Epoch 327/500\n",
            "151/151 [==============================] - 0s 2ms/step - loss: 0.1366\n",
            "Epoch 328/500\n",
            "151/151 [==============================] - 0s 2ms/step - loss: 0.1365\n",
            "Epoch 329/500\n",
            "151/151 [==============================] - 0s 2ms/step - loss: 0.1367\n",
            "Epoch 330/500\n",
            "151/151 [==============================] - 0s 2ms/step - loss: 0.1364\n",
            "Epoch 331/500\n",
            "151/151 [==============================] - 0s 2ms/step - loss: 0.1365\n",
            "Epoch 332/500\n",
            "151/151 [==============================] - 0s 2ms/step - loss: 0.1365\n",
            "Epoch 333/500\n",
            "151/151 [==============================] - 0s 1ms/step - loss: 0.1367\n",
            "Epoch 334/500\n",
            "151/151 [==============================] - 0s 2ms/step - loss: 0.1365\n",
            "Epoch 335/500\n",
            "151/151 [==============================] - 0s 1ms/step - loss: 0.1366\n",
            "Epoch 336/500\n",
            "151/151 [==============================] - 0s 2ms/step - loss: 0.1367\n",
            "Epoch 337/500\n",
            "151/151 [==============================] - 0s 2ms/step - loss: 0.1366\n",
            "Epoch 338/500\n",
            "151/151 [==============================] - 0s 2ms/step - loss: 0.1365\n",
            "Epoch 339/500\n",
            "151/151 [==============================] - 0s 2ms/step - loss: 0.1366\n",
            "Epoch 340/500\n",
            "151/151 [==============================] - 0s 2ms/step - loss: 0.1365\n",
            "Epoch 341/500\n",
            "151/151 [==============================] - 0s 1ms/step - loss: 0.1366\n",
            "Epoch 342/500\n",
            "151/151 [==============================] - 0s 2ms/step - loss: 0.1365\n",
            "Epoch 343/500\n",
            "151/151 [==============================] - 0s 2ms/step - loss: 0.1365\n",
            "Epoch 344/500\n",
            "151/151 [==============================] - 0s 2ms/step - loss: 0.1364\n",
            "Epoch 345/500\n",
            "151/151 [==============================] - 0s 1ms/step - loss: 0.1368\n",
            "Epoch 346/500\n",
            "151/151 [==============================] - 0s 1ms/step - loss: 0.1365\n",
            "Epoch 347/500\n",
            "151/151 [==============================] - 0s 2ms/step - loss: 0.1367\n",
            "Epoch 348/500\n",
            "151/151 [==============================] - 0s 2ms/step - loss: 0.1366\n",
            "Epoch 349/500\n",
            "151/151 [==============================] - 0s 2ms/step - loss: 0.1367\n",
            "Epoch 350/500\n",
            "151/151 [==============================] - 0s 1ms/step - loss: 0.1365\n",
            "Epoch 351/500\n",
            "151/151 [==============================] - 0s 2ms/step - loss: 0.1365\n",
            "Epoch 352/500\n",
            "151/151 [==============================] - 0s 2ms/step - loss: 0.1365\n",
            "Epoch 353/500\n",
            "151/151 [==============================] - 0s 2ms/step - loss: 0.1367\n",
            "Epoch 354/500\n",
            "151/151 [==============================] - 0s 2ms/step - loss: 0.1366\n",
            "Epoch 355/500\n",
            "151/151 [==============================] - 0s 1ms/step - loss: 0.1364\n",
            "Epoch 356/500\n",
            "151/151 [==============================] - 0s 2ms/step - loss: 0.1367\n",
            "Epoch 357/500\n",
            "151/151 [==============================] - 0s 2ms/step - loss: 0.1367\n",
            "Epoch 358/500\n",
            "151/151 [==============================] - 0s 1ms/step - loss: 0.1364\n",
            "Epoch 359/500\n",
            "151/151 [==============================] - 0s 1ms/step - loss: 0.1366\n",
            "Epoch 360/500\n",
            "151/151 [==============================] - 0s 2ms/step - loss: 0.1366\n",
            "Epoch 361/500\n",
            "151/151 [==============================] - 0s 2ms/step - loss: 0.1368\n",
            "Epoch 362/500\n",
            "151/151 [==============================] - 0s 2ms/step - loss: 0.1365\n",
            "Epoch 363/500\n",
            "151/151 [==============================] - 0s 2ms/step - loss: 0.1365\n",
            "Epoch 364/500\n",
            "151/151 [==============================] - 0s 2ms/step - loss: 0.1366\n",
            "Epoch 365/500\n",
            "151/151 [==============================] - 0s 1ms/step - loss: 0.1364\n",
            "Epoch 366/500\n",
            "151/151 [==============================] - 0s 1ms/step - loss: 0.1365\n",
            "Epoch 367/500\n",
            "151/151 [==============================] - 0s 2ms/step - loss: 0.1365\n",
            "Epoch 368/500\n",
            "151/151 [==============================] - 0s 1ms/step - loss: 0.1368\n",
            "Epoch 369/500\n",
            "151/151 [==============================] - 0s 2ms/step - loss: 0.1364\n",
            "Epoch 370/500\n",
            "151/151 [==============================] - 0s 1ms/step - loss: 0.1365\n",
            "Epoch 371/500\n",
            "151/151 [==============================] - 0s 1ms/step - loss: 0.1365\n",
            "Epoch 372/500\n",
            "151/151 [==============================] - 0s 2ms/step - loss: 0.1367\n",
            "Epoch 373/500\n",
            "151/151 [==============================] - 0s 1ms/step - loss: 0.1365\n",
            "Epoch 374/500\n",
            "151/151 [==============================] - 0s 1ms/step - loss: 0.1367\n",
            "Epoch 375/500\n",
            "151/151 [==============================] - 0s 2ms/step - loss: 0.1365\n",
            "Epoch 376/500\n",
            "151/151 [==============================] - 0s 1ms/step - loss: 0.1366\n",
            "Epoch 377/500\n",
            "151/151 [==============================] - 0s 1ms/step - loss: 0.1366\n",
            "Epoch 378/500\n",
            "151/151 [==============================] - 0s 2ms/step - loss: 0.1365\n",
            "Epoch 379/500\n",
            "151/151 [==============================] - 0s 2ms/step - loss: 0.1368\n",
            "Epoch 380/500\n",
            "151/151 [==============================] - 0s 2ms/step - loss: 0.1366\n",
            "Epoch 381/500\n",
            "151/151 [==============================] - 0s 2ms/step - loss: 0.1365\n",
            "Epoch 382/500\n",
            "151/151 [==============================] - 0s 2ms/step - loss: 0.1365\n",
            "Epoch 383/500\n",
            "151/151 [==============================] - 0s 2ms/step - loss: 0.1365\n",
            "Epoch 384/500\n",
            "151/151 [==============================] - 0s 2ms/step - loss: 0.1364\n",
            "Epoch 385/500\n",
            "151/151 [==============================] - 0s 1ms/step - loss: 0.1365\n",
            "Epoch 386/500\n",
            "151/151 [==============================] - 0s 2ms/step - loss: 0.1364\n",
            "Epoch 387/500\n",
            "151/151 [==============================] - 0s 2ms/step - loss: 0.1365\n",
            "Epoch 388/500\n",
            "151/151 [==============================] - 0s 2ms/step - loss: 0.1369\n",
            "Epoch 389/500\n",
            "151/151 [==============================] - 0s 2ms/step - loss: 0.1366\n",
            "Epoch 390/500\n",
            "151/151 [==============================] - 0s 2ms/step - loss: 0.1366\n",
            "Epoch 391/500\n",
            "151/151 [==============================] - 0s 1ms/step - loss: 0.1365\n",
            "Epoch 392/500\n",
            "151/151 [==============================] - 0s 2ms/step - loss: 0.1366\n",
            "Epoch 393/500\n",
            "151/151 [==============================] - 0s 1ms/step - loss: 0.1365\n",
            "Epoch 394/500\n",
            "151/151 [==============================] - 0s 2ms/step - loss: 0.1365\n",
            "Epoch 395/500\n",
            "151/151 [==============================] - 0s 2ms/step - loss: 0.1366\n",
            "Epoch 396/500\n",
            "151/151 [==============================] - 0s 2ms/step - loss: 0.1366\n",
            "Epoch 397/500\n",
            "151/151 [==============================] - 0s 1ms/step - loss: 0.1366\n",
            "Epoch 398/500\n",
            "151/151 [==============================] - 0s 2ms/step - loss: 0.1366\n",
            "Epoch 399/500\n",
            "151/151 [==============================] - 0s 1ms/step - loss: 0.1365\n",
            "Epoch 400/500\n",
            "151/151 [==============================] - 0s 1ms/step - loss: 0.1365\n",
            "Epoch 401/500\n",
            "151/151 [==============================] - 0s 2ms/step - loss: 0.1366\n",
            "Epoch 402/500\n",
            "151/151 [==============================] - 0s 2ms/step - loss: 0.1365\n",
            "Epoch 403/500\n",
            "151/151 [==============================] - 0s 2ms/step - loss: 0.1365\n",
            "Epoch 404/500\n",
            "151/151 [==============================] - 0s 2ms/step - loss: 0.1367\n",
            "Epoch 405/500\n",
            "151/151 [==============================] - 0s 2ms/step - loss: 0.1364\n",
            "Epoch 406/500\n",
            "151/151 [==============================] - 0s 1ms/step - loss: 0.1366\n",
            "Epoch 407/500\n",
            "151/151 [==============================] - 0s 2ms/step - loss: 0.1367\n",
            "Epoch 408/500\n",
            "151/151 [==============================] - 0s 1ms/step - loss: 0.1368\n",
            "Epoch 409/500\n",
            "151/151 [==============================] - 0s 2ms/step - loss: 0.1365\n",
            "Epoch 410/500\n",
            "151/151 [==============================] - 0s 2ms/step - loss: 0.1367\n",
            "Epoch 411/500\n",
            "151/151 [==============================] - 0s 2ms/step - loss: 0.1365\n",
            "Epoch 412/500\n",
            "151/151 [==============================] - 0s 2ms/step - loss: 0.1367\n",
            "Epoch 413/500\n",
            "151/151 [==============================] - 0s 2ms/step - loss: 0.1364\n",
            "Epoch 414/500\n",
            "151/151 [==============================] - 0s 2ms/step - loss: 0.1366\n",
            "Epoch 415/500\n",
            "151/151 [==============================] - 0s 2ms/step - loss: 0.1368\n",
            "Epoch 416/500\n",
            "151/151 [==============================] - 0s 2ms/step - loss: 0.1366\n",
            "Epoch 417/500\n",
            "151/151 [==============================] - 0s 2ms/step - loss: 0.1365\n",
            "Epoch 418/500\n",
            "151/151 [==============================] - 0s 2ms/step - loss: 0.1365\n",
            "Epoch 419/500\n",
            "151/151 [==============================] - 0s 1ms/step - loss: 0.1365\n",
            "Epoch 420/500\n",
            "151/151 [==============================] - 0s 2ms/step - loss: 0.1366\n",
            "Epoch 421/500\n",
            "151/151 [==============================] - 0s 2ms/step - loss: 0.1366\n",
            "Epoch 422/500\n",
            "151/151 [==============================] - 0s 2ms/step - loss: 0.1366\n",
            "Epoch 423/500\n",
            "151/151 [==============================] - 0s 2ms/step - loss: 0.1364\n",
            "Epoch 424/500\n",
            "151/151 [==============================] - 1s 4ms/step - loss: 0.1366\n",
            "Epoch 425/500\n",
            "151/151 [==============================] - 0s 3ms/step - loss: 0.1365\n",
            "Epoch 426/500\n",
            "151/151 [==============================] - 0s 2ms/step - loss: 0.1367\n",
            "Epoch 427/500\n",
            "151/151 [==============================] - 0s 2ms/step - loss: 0.1365\n",
            "Epoch 428/500\n",
            "151/151 [==============================] - 0s 2ms/step - loss: 0.1366\n",
            "Epoch 429/500\n",
            "151/151 [==============================] - 0s 2ms/step - loss: 0.1365\n",
            "Epoch 430/500\n",
            "151/151 [==============================] - 0s 2ms/step - loss: 0.1365\n",
            "Epoch 431/500\n",
            "151/151 [==============================] - 0s 2ms/step - loss: 0.1365\n",
            "Epoch 432/500\n",
            "151/151 [==============================] - 0s 2ms/step - loss: 0.1365\n",
            "Epoch 433/500\n",
            "151/151 [==============================] - 0s 2ms/step - loss: 0.1365\n",
            "Epoch 434/500\n",
            "151/151 [==============================] - 0s 2ms/step - loss: 0.1367\n",
            "Epoch 435/500\n",
            "151/151 [==============================] - 0s 2ms/step - loss: 0.1365\n",
            "Epoch 436/500\n",
            "151/151 [==============================] - 0s 2ms/step - loss: 0.1365\n",
            "Epoch 437/500\n",
            "151/151 [==============================] - 0s 2ms/step - loss: 0.1365\n",
            "Epoch 438/500\n",
            "151/151 [==============================] - 0s 2ms/step - loss: 0.1364\n",
            "Epoch 439/500\n",
            "151/151 [==============================] - 0s 2ms/step - loss: 0.1366\n",
            "Epoch 440/500\n",
            "151/151 [==============================] - 0s 2ms/step - loss: 0.1366\n",
            "Epoch 441/500\n",
            "151/151 [==============================] - 0s 2ms/step - loss: 0.1366\n",
            "Epoch 442/500\n",
            "151/151 [==============================] - 0s 2ms/step - loss: 0.1365\n",
            "Epoch 443/500\n",
            "151/151 [==============================] - 0s 2ms/step - loss: 0.1365\n",
            "Epoch 444/500\n",
            "151/151 [==============================] - 0s 2ms/step - loss: 0.1366\n",
            "Epoch 445/500\n",
            "151/151 [==============================] - 0s 2ms/step - loss: 0.1366\n",
            "Epoch 446/500\n",
            "151/151 [==============================] - 0s 2ms/step - loss: 0.1365\n",
            "Epoch 447/500\n",
            "151/151 [==============================] - 0s 2ms/step - loss: 0.1365\n",
            "Epoch 448/500\n",
            "151/151 [==============================] - 0s 2ms/step - loss: 0.1366\n",
            "Epoch 449/500\n",
            "151/151 [==============================] - 0s 2ms/step - loss: 0.1365\n",
            "Epoch 450/500\n",
            "151/151 [==============================] - 0s 2ms/step - loss: 0.1368\n",
            "Epoch 451/500\n",
            "151/151 [==============================] - 0s 2ms/step - loss: 0.1366\n",
            "Epoch 452/500\n",
            "151/151 [==============================] - 0s 2ms/step - loss: 0.1366\n",
            "Epoch 453/500\n",
            "151/151 [==============================] - 0s 2ms/step - loss: 0.1365\n",
            "Epoch 454/500\n",
            "151/151 [==============================] - 0s 2ms/step - loss: 0.1366\n",
            "Epoch 455/500\n",
            "151/151 [==============================] - 0s 2ms/step - loss: 0.1366\n",
            "Epoch 456/500\n",
            "151/151 [==============================] - 0s 2ms/step - loss: 0.1366\n",
            "Epoch 457/500\n",
            "151/151 [==============================] - 0s 2ms/step - loss: 0.1366\n",
            "Epoch 458/500\n",
            "151/151 [==============================] - 0s 2ms/step - loss: 0.1366\n",
            "Epoch 459/500\n",
            "151/151 [==============================] - 0s 2ms/step - loss: 0.1366\n",
            "Epoch 460/500\n",
            "151/151 [==============================] - 0s 2ms/step - loss: 0.1366\n",
            "Epoch 461/500\n",
            "151/151 [==============================] - 0s 2ms/step - loss: 0.1367\n",
            "Epoch 462/500\n",
            "151/151 [==============================] - 0s 2ms/step - loss: 0.1366\n",
            "Epoch 463/500\n",
            "151/151 [==============================] - 0s 2ms/step - loss: 0.1366\n",
            "Epoch 464/500\n",
            "151/151 [==============================] - 0s 2ms/step - loss: 0.1366\n",
            "Epoch 465/500\n",
            "151/151 [==============================] - 0s 2ms/step - loss: 0.1366\n",
            "Epoch 466/500\n",
            "151/151 [==============================] - 0s 2ms/step - loss: 0.1366\n",
            "Epoch 467/500\n",
            "151/151 [==============================] - 0s 2ms/step - loss: 0.1365\n",
            "Epoch 468/500\n",
            "151/151 [==============================] - 0s 2ms/step - loss: 0.1364\n",
            "Epoch 469/500\n",
            "151/151 [==============================] - 0s 2ms/step - loss: 0.1367\n",
            "Epoch 470/500\n",
            "151/151 [==============================] - 0s 2ms/step - loss: 0.1366\n",
            "Epoch 471/500\n",
            "151/151 [==============================] - 0s 2ms/step - loss: 0.1365\n",
            "Epoch 472/500\n",
            "151/151 [==============================] - 0s 2ms/step - loss: 0.1365\n",
            "Epoch 473/500\n",
            "151/151 [==============================] - 0s 2ms/step - loss: 0.1366\n",
            "Epoch 474/500\n",
            "151/151 [==============================] - 0s 2ms/step - loss: 0.1366\n",
            "Epoch 475/500\n",
            "151/151 [==============================] - 0s 2ms/step - loss: 0.1367\n",
            "Epoch 476/500\n",
            "151/151 [==============================] - 0s 2ms/step - loss: 0.1365\n",
            "Epoch 477/500\n",
            "151/151 [==============================] - 0s 2ms/step - loss: 0.1366\n",
            "Epoch 478/500\n",
            "151/151 [==============================] - 0s 2ms/step - loss: 0.1366\n",
            "Epoch 479/500\n",
            "151/151 [==============================] - 0s 2ms/step - loss: 0.1365\n",
            "Epoch 480/500\n",
            "151/151 [==============================] - 0s 2ms/step - loss: 0.1365\n",
            "Epoch 481/500\n",
            "151/151 [==============================] - 0s 2ms/step - loss: 0.1367\n",
            "Epoch 482/500\n",
            "151/151 [==============================] - 0s 2ms/step - loss: 0.1367\n",
            "Epoch 483/500\n",
            "151/151 [==============================] - 0s 2ms/step - loss: 0.1365\n",
            "Epoch 484/500\n",
            "151/151 [==============================] - 0s 2ms/step - loss: 0.1365\n",
            "Epoch 485/500\n",
            "151/151 [==============================] - 0s 2ms/step - loss: 0.1366\n",
            "Epoch 486/500\n",
            "151/151 [==============================] - 0s 2ms/step - loss: 0.1365\n",
            "Epoch 487/500\n",
            "151/151 [==============================] - 0s 2ms/step - loss: 0.1364\n",
            "Epoch 488/500\n",
            "151/151 [==============================] - 0s 2ms/step - loss: 0.1366\n",
            "Epoch 489/500\n",
            "151/151 [==============================] - 0s 2ms/step - loss: 0.1366\n",
            "Epoch 490/500\n",
            "151/151 [==============================] - 0s 2ms/step - loss: 0.1366\n",
            "Epoch 491/500\n",
            "151/151 [==============================] - 0s 2ms/step - loss: 0.1364\n",
            "Epoch 492/500\n",
            "151/151 [==============================] - 0s 2ms/step - loss: 0.1363\n",
            "Epoch 493/500\n",
            "151/151 [==============================] - 0s 2ms/step - loss: 0.1366\n",
            "Epoch 494/500\n",
            "151/151 [==============================] - 0s 2ms/step - loss: 0.1367\n",
            "Epoch 495/500\n",
            "151/151 [==============================] - 0s 2ms/step - loss: 0.1365\n",
            "Epoch 496/500\n",
            "151/151 [==============================] - 0s 2ms/step - loss: 0.1367\n",
            "Epoch 497/500\n",
            "151/151 [==============================] - 0s 2ms/step - loss: 0.1366\n",
            "Epoch 498/500\n",
            "151/151 [==============================] - 0s 2ms/step - loss: 0.1367\n",
            "Epoch 499/500\n",
            "151/151 [==============================] - 0s 2ms/step - loss: 0.1365\n",
            "Epoch 500/500\n",
            "151/151 [==============================] - 0s 2ms/step - loss: 0.1364\n"
          ]
        },
        {
          "output_type": "execute_result",
          "data": {
            "text/plain": [
              "<keras.callbacks.History at 0x7f49b6206a50>"
            ]
          },
          "metadata": {},
          "execution_count": 53
        }
      ]
    },
    {
      "cell_type": "code",
      "source": [
        "y_predict = regressor2.predict(xtreino)"
      ],
      "metadata": {
        "id": "hfRJzJPDoXMG"
      },
      "execution_count": null,
      "outputs": []
    },
    {
      "cell_type": "code",
      "source": [
        "y_predict_teste = regressor2.predict(yteste)"
      ],
      "metadata": {
        "id": "gMIs1WJMoeeb"
      },
      "execution_count": null,
      "outputs": []
    },
    {
      "cell_type": "markdown",
      "source": [
        "Em verde é a previsão que o código realizou baseada nos dados de azul, que são os que passe pra ele"
      ],
      "metadata": {
        "id": "IVnQFlfGWyUp"
      }
    },
    {
      "cell_type": "code",
      "source": [
        "sns.lineplot(x=xtreino,y=ytreino, label='treino')\n",
        "sns.lineplot(x=xtreino, y=y_predict[:,0], label='ajuste_treino')\n",
        "sns.lineplot(x=xteste, y=y_predict_teste[:,0], label='Previsão')"
      ],
      "metadata": {
        "colab": {
          "base_uri": "https://localhost:8080/",
          "height": 401
        },
        "id": "JSbPKASfoq2u",
        "outputId": "1d4f007c-d7d2-45bf-8871-88648636fbe4"
      },
      "execution_count": null,
      "outputs": [
        {
          "output_type": "execute_result",
          "data": {
            "text/plain": [
              "<matplotlib.axes._subplots.AxesSubplot at 0x7f49b393dfd0>"
            ]
          },
          "metadata": {},
          "execution_count": 56
        },
        {
          "output_type": "display_data",
          "data": {
            "text/plain": [
              "<Figure size 720x432 with 1 Axes>"
            ],
            "image/png": "[encoded data removed]"
          },
          "metadata": {
            "needs_background": "light"
          }
        }
      ]
    },
    {
      "cell_type": "markdown",
      "source": [
        "Aqui é os dados por completo, onde podemos ver que a previsão foi exatamente como o código fez a previsão no gráfico a cima"
      ],
      "metadata": {
        "id": "aRkw8opjW8jP"
      }
    },
    {
      "cell_type": "code",
      "source": [
        "sns.lineplot(x=x, y=y, label='dados_escalado');\n",
        "mpl.pyplot.ylabel('Close');\n",
        "mpl.pyplot.xlabel('Date');"
      ],
      "metadata": {
        "colab": {
          "base_uri": "https://localhost:8080/",
          "height": 408
        },
        "id": "pHawvIFbjExf",
        "outputId": "cc47d39a-c4ce-40a7-99a7-c589cc871bb5"
      },
      "execution_count": null,
      "outputs": [
        {
          "output_type": "display_data",
          "data": {
            "text/plain": [
              "<Figure size 720x432 with 1 Axes>"
            ],
            "image/png": "[encoded data removed]"
          },
          "metadata": {
            "needs_background": "light"
          }
        }
      ]
    }
  ]
}